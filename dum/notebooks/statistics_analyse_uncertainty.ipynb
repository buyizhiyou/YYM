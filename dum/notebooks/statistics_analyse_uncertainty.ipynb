{
 "cells": [
  {
   "cell_type": "markdown",
   "metadata": {},
   "source": [
    "### Load models\n"
   ]
  },
  {
   "cell_type": "code",
   "execution_count": 1,
   "metadata": {},
   "outputs": [],
   "source": [
    "import os\n",
    "import sys\n",
    "import torch\n",
    "import torch.nn as nn\n",
    "import torch.backends.cudnn as cudnn\n",
    "import torch.nn.functional as F\n",
    "\n",
    "import matplotlib.pyplot as plt\n",
    "import seaborn as sns\n",
    "import numpy as np\n",
    "import pandas as pd\n",
    "from tqdm import tqdm\n",
    "from matplotlib import rc\n",
    "\n",
    "sys.path.append(\"../\")\n",
    "# Import dataloaders\n",
    "import data_utils.ood_detection.cifar10 as cifar10\n",
    "import data_utils.ood_detection.cifar100 as cifar100\n",
    "import data_utils.ood_detection.lsun as lsun\n",
    "import data_utils.ood_detection.svhn as svhn\n",
    "import data_utils.ood_detection.mnist as mnist\n",
    "import data_utils.ood_detection.tiny_imagenet as tiny_imagenet\n",
    "\n",
    "# Network architectures\n",
    "from net.lenet import lenet\n",
    "from net.resnet import resnet50\n",
    "from net.vgg import vgg16\n",
    "from net.wide_resnet import wrn\n",
    "\n",
    "from utils.gmm_utils import get_embeddings, gmm_evaluate, gmm_fit, maxp_evaluate, gmm_evaluate_with_perturbation, maxp_evaluate_with_perturbation\n",
    "from metrics.uncertainty_confidence import entropy, logsumexp, confidence, sumexp, maxval\n",
    "from metrics.ood_metrics import get_roc_auc, get_roc_auc_logits"
   ]
  },
  {
   "cell_type": "code",
   "execution_count": 2,
   "metadata": {},
   "outputs": [],
   "source": [
    "device = torch.device(\"cuda:1\")\n",
    "# Dataset params\n",
    "dataset_num_classes = {\"cifar10\": 10, \"cifar100\": 100, \"svhn\": 10, \"lsun\": 10, \"tiny_iamgenet\": 200}\n",
    "\n",
    "dataset_loader = {\"cifar10\": cifar10, \"cifar100\": cifar100, \"svhn\": svhn, \"mnist\": mnist, \"lsun\": lsun, \"tiny_imagenet\": tiny_imagenet}\n",
    "\n",
    "# Mapping model name to model function\n",
    "models = {\n",
    "    \"lenet\": lenet,\n",
    "    \"resnet50\": resnet50,\n",
    "    \"wide_resnet\": wrn,\n",
    "    \"vgg16\": vgg16,\n",
    "}\n",
    "\n",
    "model_to_num_dim = {\"resnet18\": 512, \"resnet50\": 2048, \"resnet101\": 2048, \"resnet152\": 2048, \"wide_resnet\": 640, \"vgg16\": 512}\n",
    "\n",
    "batch_size = 512\n",
    "dataset = \"cifar10\"\n",
    "ood_dataset = \"svhn\"\n",
    "dataset_root = \"../data\"\n",
    "# model = \"vgg16\"\n",
    "# saved_model_name = \"../saved_models/run17/vgg16_sn_3.0_mod_seed_1/2024_05_27_17_51_26/vgg16_sn_3.0_mod_seed_1_best.model\"\n",
    "\n",
    "model = \"resnet50\"\n",
    "saved_model_name = \"../saved_models/run17/resnet50_sn_3.0_mod_seed_1/2024_05_21_12_30_21/resnet50_sn_3.0_mod_seed_1_best.model\"\n",
    "\n",
    "# Taking input for the dataset\n",
    "num_classes = dataset_num_classes[dataset]"
   ]
  },
  {
   "cell_type": "code",
   "execution_count": 3,
   "metadata": {},
   "outputs": [
    {
     "name": "stdout",
     "output_type": "stream",
     "text": [
      "load ../saved_models/run17/resnet50_sn_3.0_mod_seed_1/2024_05_21_12_30_21/resnet50_sn_3.0_mod_seed_1_best.model\n"
     ]
    },
    {
     "data": {
      "text/plain": [
       "ResNet(\n",
       "  (bn1): BatchNorm2d(64, eps=1e-05, momentum=0.1, affine=True, track_running_stats=True)\n",
       "  (conv1): Conv2d(3, 64, kernel_size=(3, 3), stride=(1, 1), padding=(1, 1), bias=False)\n",
       "  (layer1): Sequential(\n",
       "    (0): Bottleneck(\n",
       "      (conv1): Conv2d(64, 64, kernel_size=(1, 1), stride=(1, 1), bias=False)\n",
       "      (bn1): BatchNorm2d(64, eps=1e-05, momentum=0.1, affine=True, track_running_stats=True)\n",
       "      (bn2): BatchNorm2d(64, eps=1e-05, momentum=0.1, affine=True, track_running_stats=True)\n",
       "      (bn3): BatchNorm2d(256, eps=1e-05, momentum=0.1, affine=True, track_running_stats=True)\n",
       "      (conv2): Conv2d(64, 64, kernel_size=(3, 3), stride=(1, 1), padding=(1, 1), bias=False)\n",
       "      (conv3): Conv2d(64, 256, kernel_size=(1, 1), stride=(1, 1), bias=False)\n",
       "      (shortcut): Sequential(\n",
       "        (0): AvgPoolShortCut()\n",
       "      )\n",
       "    )\n",
       "    (1): Bottleneck(\n",
       "      (conv1): Conv2d(256, 64, kernel_size=(1, 1), stride=(1, 1), bias=False)\n",
       "      (bn1): BatchNorm2d(64, eps=1e-05, momentum=0.1, affine=True, track_running_stats=True)\n",
       "      (bn2): BatchNorm2d(64, eps=1e-05, momentum=0.1, affine=True, track_running_stats=True)\n",
       "      (bn3): BatchNorm2d(256, eps=1e-05, momentum=0.1, affine=True, track_running_stats=True)\n",
       "      (conv2): Conv2d(64, 64, kernel_size=(3, 3), stride=(1, 1), padding=(1, 1), bias=False)\n",
       "      (conv3): Conv2d(64, 256, kernel_size=(1, 1), stride=(1, 1), bias=False)\n",
       "      (shortcut): Sequential()\n",
       "    )\n",
       "    (2): Bottleneck(\n",
       "      (conv1): Conv2d(256, 64, kernel_size=(1, 1), stride=(1, 1), bias=False)\n",
       "      (bn1): BatchNorm2d(64, eps=1e-05, momentum=0.1, affine=True, track_running_stats=True)\n",
       "      (bn2): BatchNorm2d(64, eps=1e-05, momentum=0.1, affine=True, track_running_stats=True)\n",
       "      (bn3): BatchNorm2d(256, eps=1e-05, momentum=0.1, affine=True, track_running_stats=True)\n",
       "      (conv2): Conv2d(64, 64, kernel_size=(3, 3), stride=(1, 1), padding=(1, 1), bias=False)\n",
       "      (conv3): Conv2d(64, 256, kernel_size=(1, 1), stride=(1, 1), bias=False)\n",
       "      (shortcut): Sequential()\n",
       "    )\n",
       "  )\n",
       "  (layer2): Sequential(\n",
       "    (0): Bottleneck(\n",
       "      (conv1): Conv2d(256, 128, kernel_size=(1, 1), stride=(1, 1), bias=False)\n",
       "      (bn1): BatchNorm2d(128, eps=1e-05, momentum=0.1, affine=True, track_running_stats=True)\n",
       "      (bn2): BatchNorm2d(128, eps=1e-05, momentum=0.1, affine=True, track_running_stats=True)\n",
       "      (bn3): BatchNorm2d(512, eps=1e-05, momentum=0.1, affine=True, track_running_stats=True)\n",
       "      (conv2): Conv2d(128, 128, kernel_size=(3, 3), stride=(2, 2), padding=(1, 1), bias=False)\n",
       "      (conv3): Conv2d(128, 512, kernel_size=(1, 1), stride=(1, 1), bias=False)\n",
       "      (shortcut): Sequential(\n",
       "        (0): AvgPoolShortCut()\n",
       "      )\n",
       "    )\n",
       "    (1): Bottleneck(\n",
       "      (conv1): Conv2d(512, 128, kernel_size=(1, 1), stride=(1, 1), bias=False)\n",
       "      (bn1): BatchNorm2d(128, eps=1e-05, momentum=0.1, affine=True, track_running_stats=True)\n",
       "      (bn2): BatchNorm2d(128, eps=1e-05, momentum=0.1, affine=True, track_running_stats=True)\n",
       "      (bn3): BatchNorm2d(512, eps=1e-05, momentum=0.1, affine=True, track_running_stats=True)\n",
       "      (conv2): Conv2d(128, 128, kernel_size=(3, 3), stride=(1, 1), padding=(1, 1), bias=False)\n",
       "      (conv3): Conv2d(128, 512, kernel_size=(1, 1), stride=(1, 1), bias=False)\n",
       "      (shortcut): Sequential()\n",
       "    )\n",
       "    (2): Bottleneck(\n",
       "      (conv1): Conv2d(512, 128, kernel_size=(1, 1), stride=(1, 1), bias=False)\n",
       "      (bn1): BatchNorm2d(128, eps=1e-05, momentum=0.1, affine=True, track_running_stats=True)\n",
       "      (bn2): BatchNorm2d(128, eps=1e-05, momentum=0.1, affine=True, track_running_stats=True)\n",
       "      (bn3): BatchNorm2d(512, eps=1e-05, momentum=0.1, affine=True, track_running_stats=True)\n",
       "      (conv2): Conv2d(128, 128, kernel_size=(3, 3), stride=(1, 1), padding=(1, 1), bias=False)\n",
       "      (conv3): Conv2d(128, 512, kernel_size=(1, 1), stride=(1, 1), bias=False)\n",
       "      (shortcut): Sequential()\n",
       "    )\n",
       "    (3): Bottleneck(\n",
       "      (conv1): Conv2d(512, 128, kernel_size=(1, 1), stride=(1, 1), bias=False)\n",
       "      (bn1): BatchNorm2d(128, eps=1e-05, momentum=0.1, affine=True, track_running_stats=True)\n",
       "      (bn2): BatchNorm2d(128, eps=1e-05, momentum=0.1, affine=True, track_running_stats=True)\n",
       "      (bn3): BatchNorm2d(512, eps=1e-05, momentum=0.1, affine=True, track_running_stats=True)\n",
       "      (conv2): Conv2d(128, 128, kernel_size=(3, 3), stride=(1, 1), padding=(1, 1), bias=False)\n",
       "      (conv3): Conv2d(128, 512, kernel_size=(1, 1), stride=(1, 1), bias=False)\n",
       "      (shortcut): Sequential()\n",
       "    )\n",
       "  )\n",
       "  (layer3): Sequential(\n",
       "    (0): Bottleneck(\n",
       "      (conv1): Conv2d(512, 256, kernel_size=(1, 1), stride=(1, 1), bias=False)\n",
       "      (bn1): BatchNorm2d(256, eps=1e-05, momentum=0.1, affine=True, track_running_stats=True)\n",
       "      (bn2): BatchNorm2d(256, eps=1e-05, momentum=0.1, affine=True, track_running_stats=True)\n",
       "      (bn3): BatchNorm2d(1024, eps=1e-05, momentum=0.1, affine=True, track_running_stats=True)\n",
       "      (conv2): Conv2d(256, 256, kernel_size=(3, 3), stride=(2, 2), padding=(1, 1), bias=False)\n",
       "      (conv3): Conv2d(256, 1024, kernel_size=(1, 1), stride=(1, 1), bias=False)\n",
       "      (shortcut): Sequential(\n",
       "        (0): AvgPoolShortCut()\n",
       "      )\n",
       "    )\n",
       "    (1): Bottleneck(\n",
       "      (conv1): Conv2d(1024, 256, kernel_size=(1, 1), stride=(1, 1), bias=False)\n",
       "      (bn1): BatchNorm2d(256, eps=1e-05, momentum=0.1, affine=True, track_running_stats=True)\n",
       "      (bn2): BatchNorm2d(256, eps=1e-05, momentum=0.1, affine=True, track_running_stats=True)\n",
       "      (bn3): BatchNorm2d(1024, eps=1e-05, momentum=0.1, affine=True, track_running_stats=True)\n",
       "      (conv2): Conv2d(256, 256, kernel_size=(3, 3), stride=(1, 1), padding=(1, 1), bias=False)\n",
       "      (conv3): Conv2d(256, 1024, kernel_size=(1, 1), stride=(1, 1), bias=False)\n",
       "      (shortcut): Sequential()\n",
       "    )\n",
       "    (2): Bottleneck(\n",
       "      (conv1): Conv2d(1024, 256, kernel_size=(1, 1), stride=(1, 1), bias=False)\n",
       "      (bn1): BatchNorm2d(256, eps=1e-05, momentum=0.1, affine=True, track_running_stats=True)\n",
       "      (bn2): BatchNorm2d(256, eps=1e-05, momentum=0.1, affine=True, track_running_stats=True)\n",
       "      (bn3): BatchNorm2d(1024, eps=1e-05, momentum=0.1, affine=True, track_running_stats=True)\n",
       "      (conv2): Conv2d(256, 256, kernel_size=(3, 3), stride=(1, 1), padding=(1, 1), bias=False)\n",
       "      (conv3): Conv2d(256, 1024, kernel_size=(1, 1), stride=(1, 1), bias=False)\n",
       "      (shortcut): Sequential()\n",
       "    )\n",
       "    (3): Bottleneck(\n",
       "      (conv1): Conv2d(1024, 256, kernel_size=(1, 1), stride=(1, 1), bias=False)\n",
       "      (bn1): BatchNorm2d(256, eps=1e-05, momentum=0.1, affine=True, track_running_stats=True)\n",
       "      (bn2): BatchNorm2d(256, eps=1e-05, momentum=0.1, affine=True, track_running_stats=True)\n",
       "      (bn3): BatchNorm2d(1024, eps=1e-05, momentum=0.1, affine=True, track_running_stats=True)\n",
       "      (conv2): Conv2d(256, 256, kernel_size=(3, 3), stride=(1, 1), padding=(1, 1), bias=False)\n",
       "      (conv3): Conv2d(256, 1024, kernel_size=(1, 1), stride=(1, 1), bias=False)\n",
       "      (shortcut): Sequential()\n",
       "    )\n",
       "    (4): Bottleneck(\n",
       "      (conv1): Conv2d(1024, 256, kernel_size=(1, 1), stride=(1, 1), bias=False)\n",
       "      (bn1): BatchNorm2d(256, eps=1e-05, momentum=0.1, affine=True, track_running_stats=True)\n",
       "      (bn2): BatchNorm2d(256, eps=1e-05, momentum=0.1, affine=True, track_running_stats=True)\n",
       "      (bn3): BatchNorm2d(1024, eps=1e-05, momentum=0.1, affine=True, track_running_stats=True)\n",
       "      (conv2): Conv2d(256, 256, kernel_size=(3, 3), stride=(1, 1), padding=(1, 1), bias=False)\n",
       "      (conv3): Conv2d(256, 1024, kernel_size=(1, 1), stride=(1, 1), bias=False)\n",
       "      (shortcut): Sequential()\n",
       "    )\n",
       "    (5): Bottleneck(\n",
       "      (conv1): Conv2d(1024, 256, kernel_size=(1, 1), stride=(1, 1), bias=False)\n",
       "      (bn1): BatchNorm2d(256, eps=1e-05, momentum=0.1, affine=True, track_running_stats=True)\n",
       "      (bn2): BatchNorm2d(256, eps=1e-05, momentum=0.1, affine=True, track_running_stats=True)\n",
       "      (bn3): BatchNorm2d(1024, eps=1e-05, momentum=0.1, affine=True, track_running_stats=True)\n",
       "      (conv2): Conv2d(256, 256, kernel_size=(3, 3), stride=(1, 1), padding=(1, 1), bias=False)\n",
       "      (conv3): Conv2d(256, 1024, kernel_size=(1, 1), stride=(1, 1), bias=False)\n",
       "      (shortcut): Sequential()\n",
       "    )\n",
       "  )\n",
       "  (layer4): Sequential(\n",
       "    (0): Bottleneck(\n",
       "      (conv1): Conv2d(1024, 512, kernel_size=(1, 1), stride=(1, 1), bias=False)\n",
       "      (bn1): BatchNorm2d(512, eps=1e-05, momentum=0.1, affine=True, track_running_stats=True)\n",
       "      (bn2): BatchNorm2d(512, eps=1e-05, momentum=0.1, affine=True, track_running_stats=True)\n",
       "      (bn3): BatchNorm2d(2048, eps=1e-05, momentum=0.1, affine=True, track_running_stats=True)\n",
       "      (conv2): Conv2d(512, 512, kernel_size=(3, 3), stride=(2, 2), padding=(1, 1), bias=False)\n",
       "      (conv3): Conv2d(512, 2048, kernel_size=(1, 1), stride=(1, 1), bias=False)\n",
       "      (shortcut): Sequential(\n",
       "        (0): AvgPoolShortCut()\n",
       "      )\n",
       "    )\n",
       "    (1): Bottleneck(\n",
       "      (conv1): Conv2d(2048, 512, kernel_size=(1, 1), stride=(1, 1), bias=False)\n",
       "      (bn1): BatchNorm2d(512, eps=1e-05, momentum=0.1, affine=True, track_running_stats=True)\n",
       "      (bn2): BatchNorm2d(512, eps=1e-05, momentum=0.1, affine=True, track_running_stats=True)\n",
       "      (bn3): BatchNorm2d(2048, eps=1e-05, momentum=0.1, affine=True, track_running_stats=True)\n",
       "      (conv2): Conv2d(512, 512, kernel_size=(3, 3), stride=(1, 1), padding=(1, 1), bias=False)\n",
       "      (conv3): Conv2d(512, 2048, kernel_size=(1, 1), stride=(1, 1), bias=False)\n",
       "      (shortcut): Sequential()\n",
       "    )\n",
       "    (2): Bottleneck(\n",
       "      (conv1): Conv2d(2048, 512, kernel_size=(1, 1), stride=(1, 1), bias=False)\n",
       "      (bn1): BatchNorm2d(512, eps=1e-05, momentum=0.1, affine=True, track_running_stats=True)\n",
       "      (bn2): BatchNorm2d(512, eps=1e-05, momentum=0.1, affine=True, track_running_stats=True)\n",
       "      (bn3): BatchNorm2d(2048, eps=1e-05, momentum=0.1, affine=True, track_running_stats=True)\n",
       "      (conv2): Conv2d(512, 512, kernel_size=(3, 3), stride=(1, 1), padding=(1, 1), bias=False)\n",
       "      (conv3): Conv2d(512, 2048, kernel_size=(1, 1), stride=(1, 1), bias=False)\n",
       "      (shortcut): Sequential()\n",
       "    )\n",
       "  )\n",
       "  (fc_add): Linear(in_features=2048, out_features=2048, bias=True)\n",
       "  (drop): Dropout(p=0.5, inplace=False)\n",
       "  (fc): Linear(in_features=2048, out_features=10, bias=True)\n",
       "  (projection_head): ProjectionHead(\n",
       "    (hidden): Linear(in_features=2048, out_features=2048, bias=True)\n",
       "    (out): Linear(in_features=2048, out_features=256, bias=True)\n",
       "  )\n",
       ")"
      ]
     },
     "execution_count": 3,
     "metadata": {},
     "output_type": "execute_result"
    }
   ],
   "source": [
    "train_loader, val_loader = dataset_loader[dataset].get_train_valid_loader(\n",
    "    root=dataset_root,\n",
    "    batch_size=batch_size,\n",
    "    augment=False,\n",
    "    val_seed=1,\n",
    "    val_size=0.1,\n",
    ")\n",
    "\n",
    "#load model\n",
    "print(f\"load {saved_model_name}\")\n",
    "net = models[model](\n",
    "    spectral_normalization=True,\n",
    "    mod=True,\n",
    "    num_classes=num_classes,\n",
    "    temp=1.0,\n",
    ").to(device)\n",
    "\n",
    "net.load_state_dict(torch.load(str(saved_model_name), map_location=device), strict=True)\n",
    "net.eval()"
   ]
  },
  {
   "cell_type": "code",
   "execution_count": 4,
   "metadata": {},
   "outputs": [],
   "source": [
    "colors = ['#1f77b4', '#ff7f0e', '#2ca02c', '#d62728', '#9467bd', '#8c564b', '#e377c2', '#7f7f7f', '#bcbd22', '#17becf']\n",
    "\n",
    "sns.set_style('whitegrid')\n",
    "sns.set_context(\"paper\", font_scale=1, rc={\"lines.linewidth\": 2.5})\n",
    "\n",
    "rc('text', usetex=False)\n",
    "\n",
    "\n",
    "def plot_density(results, binrange, bins, title, xlabel):\n",
    "\n",
    "    plt.figure(figsize=(5, 3))\n",
    "    plt.tight_layout()\n",
    "\n",
    "    plt.hist(results[0], density=True, color='r', range=binrange, bins=bins, alpha=0.5, label=\"org\")\n",
    "    plt.hist(results[1], density=True, color='b', range=binrange, bins=bins, alpha=0.5, label=\"ood\")\n",
    "\n",
    "    plt.xlabel(xlabel, fontsize=12)\n",
    "    plt.ylabel('Fraction', fontsize=12)\n",
    "    plt.title(label=title)\n",
    "    plt.legend()\n",
    "\n",
    "\n",
    "if not os.path.exists(f\"pngs/{model}\"):\n",
    "    os.makedirs(f\"pngs/{model}\")"
   ]
  },
  {
   "cell_type": "code",
   "execution_count": 5,
   "metadata": {},
   "outputs": [
    {
     "name": "stdout",
     "output_type": "stream",
     "text": [
      "get embeddings from dataloader...\n"
     ]
    },
    {
     "name": "stderr",
     "output_type": "stream",
     "text": [
      "100%|██████████| 88/88 [00:46<00:00,  1.88it/s]\n"
     ]
    },
    {
     "name": "stdout",
     "output_type": "stream",
     "text": [
      "norm threshold:1.5882707834243774\n"
     ]
    }
   ],
   "source": [
    "embeddings, labels, norm = get_embeddings(\n",
    "    net,\n",
    "    train_loader,\n",
    "    num_dim=model_to_num_dim[model],\n",
    "    dtype=torch.double,\n",
    "    device=device,\n",
    "    storage_device=device,\n",
    ")\n",
    "gaussians_model, jitter_eps = gmm_fit(embeddings=embeddings, labels=labels, num_classes=num_classes)"
   ]
  },
  {
   "cell_type": "code",
   "execution_count": 6,
   "metadata": {},
   "outputs": [],
   "source": [
    "def calculate_gradients_norm(\n",
    "    net,\n",
    "    gaussians_model,\n",
    "    layer_name,\n",
    "    loader,\n",
    "    device,\n",
    "    wrt=\"input\",\n",
    "    mean=[0.4914, 0.4822, 0.4465],\n",
    "    std=[0.2023, 0.1994, 0.2010],\n",
    "    norm=1,\n",
    "):\n",
    "    layer_grad = None\n",
    "\n",
    "    def bp_hook(module, grad_input, grad_output):\n",
    "        # 获取中间层梯度信息\n",
    "        nonlocal layer_grad\n",
    "        input_grad = grad_input[0]\n",
    "        w_grad = grad_input[1]\n",
    "        # input_grad = grad_input[2]#TODO: 当使用sn时，conv层的bias都为false，这时候这样的,当bias为true时候，需要再次验证???\n",
    "        if wrt == \"input\":\n",
    "            layer_grad = torch.norm(input_grad, p=norm)  #1-norm\n",
    "        elif wrt == \"weight\":\n",
    "            layer_grad = torch.norm(w_grad, p=norm)  #1-norm\n",
    "\n",
    "    norms = []\n",
    "\n",
    "    std = torch.tensor(std).to(device)\n",
    "    mean = torch.tensor(mean).to(device)\n",
    "    loss_func = nn.CrossEntropyLoss()\n",
    "    start = 0\n",
    "    if layer_name in [\"image\"]:\n",
    "        handler = net.conv1.register_backward_hook(bp_hook)\n",
    "    elif layer_name in ['layer1', 'layer2', 'layer3']:\n",
    "        handler = getattr(net, layer_name)[0].conv1.register_backward_hook(bp_hook)\n",
    "    elif layer_name in ['fc']:\n",
    "        handler = getattr(net, layer_name).register_backward_hook(bp_hook)\n",
    "    cnt = 0\n",
    "    for data, label in tqdm(loader, dynamic_ncols=True):\n",
    "        data = data.to(device)\n",
    "        label = label.to(device)\n",
    "\n",
    "        data.requires_grad = True  #data.required_grad区分,用required_grad梯度为None\n",
    "        out = net(data)\n",
    "        uniform = torch.ones_like(out).to(device)\n",
    "        _, pred = torch.max(out, 1)\n",
    "\n",
    "        # #1. 第一种形式loss,log_density\n",
    "        embedding = net.feature\n",
    "        log_probs = gaussians_model.log_prob(embedding[:, None, :])\n",
    "        max_log_probs = log_probs.max(1, keepdim=True)[0]  # get the index of the max log-probability\n",
    "        loss = max_log_probs.sum()\n",
    "\n",
    "        # # #2. 第二种形式loss,crossEntropy\n",
    "        # loss = loss_func(out, pred)\n",
    "\n",
    "        net.zero_grad()\n",
    "        loss.backward()\n",
    "\n",
    "        norms.append(layer_grad.cpu().detach())\n",
    "\n",
    "        cnt += data.shape[0]\n",
    "        if cnt > 1000:\n",
    "            break\n",
    "\n",
    "    return torch.tensor(norms)"
   ]
  },
  {
   "cell_type": "code",
   "execution_count": 7,
   "metadata": {},
   "outputs": [
    {
     "name": "stdout",
     "output_type": "stream",
     "text": [
      "Using downloaded and verified file: ../data/svhn/test_32x32.mat\n",
      "svhn test:26032\n"
     ]
    },
    {
     "name": "stderr",
     "output_type": "stream",
     "text": [
      "100%|██████████| 1000/1000 [01:11<00:00, 14.07it/s]\n",
      "100%|██████████| 1000/1000 [01:12<00:00, 13.88it/s]\n"
     ]
    },
    {
     "name": "stdout",
     "output_type": "stream",
     "text": [
      "grad norm for image:m2_auroc:0.969607,m2_auprc:0.9682417511040265\n"
     ]
    },
    {
     "data": {
      "image/png": "[encoded data removed]",
      "text/plain": [
       "<Figure size 500x300 with 1 Axes>"
      ]
     },
     "metadata": {},
     "output_type": "display_data"
    }
   ],
   "source": [
    "layer = \"image\"\n",
    "wrt = \"input\"\n",
    "test_loader = dataset_loader[dataset].get_test_loader(root=dataset_root, batch_size=1)\n",
    "ood_test_loader = dataset_loader[ood_dataset].get_test_loader(root=dataset_root, batch_size=1)\n",
    "gradient_norms = calculate_gradients_norm(\n",
    "    net,\n",
    "    gaussians_model,\n",
    "    layer,\n",
    "    test_loader,\n",
    "    device=device,\n",
    "    wrt=wrt,\n",
    "    norm=1,\n",
    ")\n",
    "ood_gradient_norms = calculate_gradients_norm(\n",
    "    net,\n",
    "    gaussians_model,\n",
    "    layer,\n",
    "    ood_test_loader,\n",
    "    device=device,\n",
    "    norm=1,\n",
    ")\n",
    "\n",
    "right = int(max(gradient_norms.quantile(0.99).item(), ood_gradient_norms.quantile(0.99).item()))\n",
    "m2_fpr95, m2_auroc, m2_auprc = get_roc_auc_logits(gradient_norms, ood_gradient_norms, None, device, conf=False)\n",
    "print(f\"grad norm for {layer}:m2_auroc:{m2_auroc},m2_auprc:{m2_auprc}\")\n",
    "plot_density([gradient_norms.numpy(), ood_gradient_norms.numpy()],\n",
    "             binrange=[0, right + 50],\n",
    "             bins=100,\n",
    "             title=f\"gradient distribution[layer:{layer},m2_auroc:{m2_auroc:.4f}]\",\n",
    "             xlabel=\"gradient norm\")\n",
    "plt.savefig(f'pngs/{model}/{layer}_grad_wrt_input_dist.png', bbox_inches='tight')"
   ]
  },
  {
   "cell_type": "markdown",
   "metadata": {},
   "source": [
    "### Compute feature density\n"
   ]
  },
  {
   "cell_type": "code",
   "execution_count": 10,
   "metadata": {},
   "outputs": [
    {
     "name": "stdout",
     "output_type": "stream",
     "text": [
      "Using downloaded and verified file: ../data/svhn/test_32x32.mat\n",
      "svhn test:26032\n"
     ]
    },
    {
     "name": "stderr",
     "output_type": "stream",
     "text": [
      "100%|██████████| 2/2 [00:00<00:00,  2.29it/s]\n",
      "100%|██████████| 2/2 [00:00<00:00,  2.24it/s]\n"
     ]
    },
    {
     "name": "stdout",
     "output_type": "stream",
     "text": [
      "Using downloaded and verified file: ../data/svhn/test_32x32.mat\n",
      "svhn test:26032\n"
     ]
    },
    {
     "name": "stderr",
     "output_type": "stream",
     "text": [
      "100%|██████████| 1000/1000 [01:46<00:00,  9.36it/s]\n",
      "100%|██████████| 1000/1000 [01:47<00:00,  9.26it/s]"
     ]
    },
    {
     "name": "stdout",
     "output_type": "stream",
     "text": [
      "noise-:m1_auroc:0.9530,m1_auprc:0.9652;noise+:epsilon:0.01,m2_auroc:0.9691,m2_auprc:0.9729\n"
     ]
    },
    {
     "name": "stderr",
     "output_type": "stream",
     "text": [
      "\n"
     ]
    }
   ],
   "source": [
    "test_loader = dataset_loader[dataset].get_test_loader(root=dataset_root, batch_size=512)\n",
    "ood_test_loader = dataset_loader[ood_dataset].get_test_loader(root=dataset_root, batch_size=512)\n",
    "logits, labels, preds = gmm_evaluate(\n",
    "    net,\n",
    "    gaussians_model,\n",
    "    test_loader,\n",
    "    device=device,\n",
    "    num_classes=num_classes,\n",
    "    storage_device=device,\n",
    ")\n",
    "\n",
    "ood_logits, ood_labels, _ = gmm_evaluate(\n",
    "    net,\n",
    "    gaussians_model,\n",
    "    ood_test_loader,\n",
    "    device=device,\n",
    "    num_classes=num_classes,\n",
    "    storage_device=device,\n",
    ")\n",
    "m1_fpr95, m1_auroc, m1_auprc = get_roc_auc_logits(logits, ood_logits, maxval, device, conf=True)\n",
    "\n",
    "test_loader = dataset_loader[dataset].get_test_loader(root=dataset_root, batch_size=1)\n",
    "ood_test_loader = dataset_loader[ood_dataset].get_test_loader(root=dataset_root, batch_size=1)\n",
    "for epsilon in [0.01]:\n",
    "    logits2, labels2, preds2, acc, acc_perturb = gmm_evaluate_with_perturbation(\n",
    "        net,\n",
    "        gaussians_model,\n",
    "        test_loader,\n",
    "        device=device,\n",
    "        num_classes=num_classes,\n",
    "        storage_device=device,\n",
    "        perturbation=\"fgsm\",\n",
    "        epsilon=epsilon,\n",
    "    )\n",
    "    ood_logits2, ood_labels2, _, _, _ = gmm_evaluate_with_perturbation(\n",
    "        net,\n",
    "        gaussians_model,\n",
    "        ood_test_loader,\n",
    "        device=device,\n",
    "        num_classes=num_classes,\n",
    "        storage_device=device,\n",
    "        perturbation=\"fgsm\",\n",
    "        epsilon=epsilon,\n",
    "    )\n",
    "    m2_fpr95, m2_auroc, m2_auprc = get_roc_auc_logits(logits2, ood_logits2, maxval, device, conf=True)\n",
    "    print(f\"noise-:m1_auroc:{m1_auroc:.4f},m1_auprc:{m1_auprc:.4f};noise+:epsilon:{epsilon},m2_auroc:{m2_auroc:.4f},m2_auprc:{m2_auprc:.4f}\")"
   ]
  },
  {
   "cell_type": "code",
   "execution_count": 11,
   "metadata": {},
   "outputs": [
    {
     "data": {
      "image/png": "[encoded data removed]",
      "text/plain": [
       "<Figure size 500x300 with 1 Axes>"
      ]
     },
     "metadata": {},
     "output_type": "display_data"
    },
    {
     "data": {
      "image/png": "[encoded data removed]",
      "text/plain": [
       "<Figure size 500x300 with 1 Axes>"
      ]
     },
     "metadata": {},
     "output_type": "display_data"
    }
   ],
   "source": [
    "logp = maxval(logits)\n",
    "logp2 = maxval(logits2)\n",
    "ood_logp = maxval(ood_logits)\n",
    "ood_logp2 = maxval(ood_logits2)\n",
    "left1 = int(min(logp.quantile(0).item(), ood_logp.quantile(0).item()))\n",
    "right1 = int(max(logp.quantile(1).item(), ood_logp.quantile(1).item()))\n",
    "plot_density([logp.cpu().numpy(), ood_logp.cpu().numpy()],\n",
    "             binrange=[left1 - 100, right1 + 100],\n",
    "             bins=100,\n",
    "             title=\"without perturbation\",\n",
    "             xlabel=\"log density\")\n",
    "plt.savefig(f'pngs/{model}/logdensity_hist.png', bbox_inches='tight')\n",
    "left2 = int(min(logp2.quantile(0).item(), ood_logp2.quantile(0).item()))\n",
    "right2 = int(max(logp2.quantile(1).item(), ood_logp2.quantile(1).item()))\n",
    "plot_density([logp2.cpu().numpy(), ood_logp2.cpu().numpy()],\n",
    "             binrange=[left2 - 100, right2 + 100],\n",
    "             bins=100,\n",
    "             title=\"perturbation\",\n",
    "             xlabel=\"log density\")\n",
    "plt.savefig(f'pngs/{model}/logdensity_hist_purturbation.png', bbox_inches='tight')"
   ]
  },
  {
   "cell_type": "code",
   "execution_count": null,
   "metadata": {},
   "outputs": [],
   "source": []
  },
  {
   "cell_type": "code",
   "execution_count": null,
   "metadata": {},
   "outputs": [],
   "source": []
  }
 ],
 "metadata": {
  "kernelspec": {
   "display_name": "Python 3",
   "language": "python",
   "name": "python3"
  },
  "language_info": {
   "codemirror_mode": {
    "name": "ipython",
    "version": 3
   },
   "file_extension": ".py",
   "mimetype": "text/x-python",
   "name": "python",
   "nbconvert_exporter": "python",
   "pygments_lexer": "ipython3",
   "version": "3.8.18"
  }
 },
 "nbformat": 4,
 "nbformat_minor": 4
}
