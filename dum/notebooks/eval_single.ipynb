{
 "cells": [
  {
   "cell_type": "markdown",
   "metadata": {},
   "source": [
    "## import libraries"
   ]
  },
  {
   "cell_type": "code",
   "execution_count": 7,
   "metadata": {
    "execution": {
     "iopub.execute_input": "2024-06-14T10:35:39.539522Z",
     "iopub.status.busy": "2024-06-14T10:35:39.538451Z",
     "iopub.status.idle": "2024-06-14T10:35:39.552190Z",
     "shell.execute_reply": "2024-06-14T10:35:39.550886Z",
     "shell.execute_reply.started": "2024-06-14T10:35:39.539470Z"
    },
    "tags": []
   },
   "outputs": [],
   "source": [
    "import os\n",
    "import sys\n",
    "from tqdm import tqdm\n",
    "from time import time\n",
    "import numpy as np\n",
    "import matplotlib.pyplot as plt\n",
    "\n",
    "import torch\n",
    "import torch.nn as nn\n",
    "import torch.backends.cudnn as cudnn\n",
    "from sklearn import datasets\n",
    "from sklearn.manifold import TSNE\n",
    "\n",
    "sys.path.append(\"../\")\n",
    "\n",
    "# Network architectures\n",
    "from net.resnet import resnet50\n",
    "from net.vgg import vgg16\n",
    "\n",
    "from data_utils.ood_detection import cifar10,svhn,cifar100,fer2013,lsun,mnist,tiny_imagenet\n",
    "import metrics.uncertainty_confidence as uncertainty_confidence\n",
    "from utils.gmm_utils import get_embeddings, gmm_fit, gmm_evaluate\n",
    "# Import metrics to compute\n",
    "from metrics.classification_metrics import (test_classification_net, test_classification_net_logits, test_classification_net_ensemble)\n",
    "from metrics.calibration_metrics import expected_calibration_error\n",
    "from metrics.uncertainty_confidence import entropy, logsumexp, confidence, sumexp, max\n",
    "from metrics.ood_metrics import get_roc_auc, get_roc_auc_logits, get_roc_auc_ensemble"
   ]
  },
  {
   "cell_type": "code",
   "execution_count": 13,
   "metadata": {
    "execution": {
     "iopub.execute_input": "2024-06-14T11:56:55.721549Z",
     "iopub.status.busy": "2024-06-14T11:56:55.720252Z",
     "iopub.status.idle": "2024-06-14T11:56:57.436425Z",
     "shell.execute_reply": "2024-06-14T11:56:57.434891Z",
     "shell.execute_reply.started": "2024-06-14T11:56:55.721485Z"
    }
   },
   "outputs": [
    {
     "name": "stdout",
     "output_type": "stream",
     "text": [
      "tiny-imagenet test:10000\n"
     ]
    }
   ],
   "source": [
    "# Dataset params\n",
    "dataset_num_classes = {\"cifar10\": 10, \"cifar100\": 100, \"svhn\": 10, \"lsun\": 10, \"tiny_iamgenet\": 200}\n",
    "\n",
    "dataset_loader = {\n",
    "    \"cifar10\": cifar10,\n",
    "    \"cifar100\": cifar100,\n",
    "    \"svhn\": svhn,\n",
    "    \"fer2013\": fer2013,\n",
    "    \"mnist\": mnist,\n",
    "    \"lsun\": lsun,\n",
    "    \"tiny_imagenet\": tiny_imagenet\n",
    "}\n",
    "dataset=\"cifar10\"\n",
    "ood_dataset=\"tiny_imagenet\"\n",
    "model=\"resnet50\"\n",
    "batch_size=512\n",
    "models = { \"resnet50\": resnet50 , \"vgg16\": vgg16,}\n",
    "model_to_num_dim = {\"resnet18\": 512, \"resnet50\": 2048, \"resnet101\": 2048, \"resnet152\": 2048, \"wide_resnet\": 640, \"vgg16\": 512, \"vit\": 512}\n",
    "\n",
    "torch.manual_seed(1)\n",
    "device = torch.device(f\"cuda:1\")\n",
    "num_classes = 10\n",
    "train_loader, val_loader = dataset_loader[dataset].get_train_valid_loader(\n",
    "    root=\"../data/\",\n",
    "    batch_size=batch_size,\n",
    "    val_seed=1,\n",
    "    augment=False,\n",
    "    val_size=0.1,\n",
    ")\n",
    "test_loader =  dataset_loader[dataset].get_test_loader(batch_size,root=\"../data/\")\n",
    "ood_test_loader = dataset_loader[ood_dataset].get_test_loader(batch_size,root=\"../data/\")"
   ]
  },
  {
   "cell_type": "markdown",
   "metadata": {},
   "source": [
    "## load model"
   ]
  },
  {
   "cell_type": "code",
   "execution_count": 14,
   "metadata": {
    "execution": {
     "iopub.execute_input": "2024-06-14T11:56:57.765242Z",
     "iopub.status.busy": "2024-06-14T11:56:57.764645Z",
     "iopub.status.idle": "2024-06-14T11:57:18.032958Z",
     "shell.execute_reply": "2024-06-14T11:57:18.031874Z",
     "shell.execute_reply.started": "2024-06-14T11:56:57.765191Z"
    },
    "tags": []
   },
   "outputs": [
    {
     "name": "stdout",
     "output_type": "stream",
     "text": [
      "load ../saved_models/run18/resnet50_sn_3.0_mod_seed_1_contrastive1/2024_06_14_17_53_27/resnet50_sn_3.0_mod_seed_1_contrastive1_best.model\n",
      "GMM Model\n",
      "get embeddings from dataloader...\n"
     ]
    },
    {
     "name": "stderr",
     "output_type": "stream",
     "text": [
      "100%|██████████| 88/88 [00:14<00:00,  6.02it/s]\n"
     ]
    },
    {
     "name": "stdout",
     "output_type": "stream",
     "text": [
      "norm threshold:0.05582457035779953\n"
     ]
    },
    {
     "name": "stderr",
     "output_type": "stream",
     "text": [
      "100%|██████████| 20/20 [00:01<00:00, 12.47it/s]\n",
      "100%|██████████| 20/20 [00:01<00:00, 11.85it/s]"
     ]
    },
    {
     "name": "stdout",
     "output_type": "stream",
     "text": [
      "contrastive+:m1_auroc1:0.8089,m1_auprc:0.8221\n"
     ]
    },
    {
     "name": "stderr",
     "output_type": "stream",
     "text": [
      "\n"
     ]
    }
   ],
   "source": [
    "saved_model_name = \"../saved_models/run18/resnet50_sn_3.0_mod_seed_1_contrastive1/2024_06_14_17_53_27/resnet50_sn_3.0_mod_seed_1_contrastive1_best.model\"\n",
    "print(f\"load {saved_model_name}\")\n",
    "net = models[model](\n",
    "    spectral_normalization=True,\n",
    "    mod=3.0,\n",
    "    num_classes=num_classes,\n",
    "    temp=1.0,\n",
    ").to(device)\n",
    "_ = net.load_state_dict(torch.load(str(saved_model_name), map_location=device), strict=True)\n",
    "_ = net.eval()\n",
    "\n",
    "\n",
    "(\n",
    "    conf_matrix,\n",
    "    accuracy,\n",
    "    labels_list,\n",
    "    predictions,\n",
    "    confidences,\n",
    ") = test_classification_net(net, test_loader, device)\n",
    "\n",
    "print(\"GMM Model\")\n",
    "embeddings, labels, norm_threshold = get_embeddings(\n",
    "    net,\n",
    "    train_loader,\n",
    "    num_dim=model_to_num_dim[model],\n",
    "    dtype=torch.double,\n",
    "    device=device,\n",
    "    storage_device=device,\n",
    ")\n",
    "\n",
    "gaussians_model, jitter_eps = gmm_fit(embeddings=embeddings, labels=labels, num_classes=num_classes)\n",
    "logits, labels = gmm_evaluate(\n",
    "    net,\n",
    "    gaussians_model,\n",
    "    test_loader,\n",
    "    device=device,\n",
    "    num_classes=num_classes,\n",
    "    storage_device=device,\n",
    ")\n",
    "\n",
    "ood_logits, ood_labels = gmm_evaluate(\n",
    "    net,\n",
    "    gaussians_model,\n",
    "    ood_test_loader,\n",
    "    device=device,\n",
    "    num_classes=num_classes,\n",
    "    storage_device=device,\n",
    ")\n",
    "m1_fpr95, m1_auroc, m1_auprc = get_roc_auc_logits(logits, ood_logits, logsumexp, device, conf=True)\n",
    "print(f\"contrastive+:m1_auroc1:{m1_auroc:.4f},m1_auprc:{m1_auprc:.4f}\")"
   ]
  },
  {
   "cell_type": "code",
   "execution_count": 15,
   "metadata": {
    "execution": {
     "iopub.execute_input": "2024-06-14T11:57:18.056541Z",
     "iopub.status.busy": "2024-06-14T11:57:18.056380Z",
     "iopub.status.idle": "2024-06-14T11:57:36.437298Z",
     "shell.execute_reply": "2024-06-14T11:57:36.436432Z",
     "shell.execute_reply.started": "2024-06-14T11:57:18.056525Z"
    }
   },
   "outputs": [
    {
     "name": "stdout",
     "output_type": "stream",
     "text": [
      "load ../saved_models/run17/resnet50_sn_3.0_mod_seed_1/2024_05_21_16_49_32/resnet50_sn_3.0_mod_seed_1_best.model\n",
      "GMM Model\n",
      "get embeddings from dataloader...\n"
     ]
    },
    {
     "name": "stderr",
     "output_type": "stream",
     "text": [
      "100%|██████████| 88/88 [00:14<00:00,  6.10it/s]\n"
     ]
    },
    {
     "name": "stdout",
     "output_type": "stream",
     "text": [
      "norm threshold:0.01930484175682068\n"
     ]
    },
    {
     "name": "stderr",
     "output_type": "stream",
     "text": [
      "100%|██████████| 20/20 [00:01<00:00, 12.62it/s]\n",
      "100%|██████████| 20/20 [00:01<00:00, 11.96it/s]"
     ]
    },
    {
     "name": "stdout",
     "output_type": "stream",
     "text": [
      "contrastive-:m1_auroc1:0.9561,m1_auprc:0.9622\n"
     ]
    },
    {
     "name": "stderr",
     "output_type": "stream",
     "text": [
      "\n"
     ]
    }
   ],
   "source": [
    "# saved_model_name = \"../saved_models/run17/vgg16_sn_3.0_mod_seed_1/2024_05_27_19_08_26/vgg16_sn_3.0_mod_seed_1_best.model\"\n",
    "saved_model_name = \"../saved_models/run17/resnet50_sn_3.0_mod_seed_1/2024_05_21_16_49_32/resnet50_sn_3.0_mod_seed_1_best.model\"\n",
    "print(f\"load {saved_model_name}\")\n",
    "net = models[model](\n",
    "    spectral_normalization=True,\n",
    "    mod=3.0,\n",
    "    num_classes=num_classes,\n",
    "    temp=1.0,\n",
    ").to(device)\n",
    "_ = net.load_state_dict(torch.load(str(saved_model_name), map_location=device), strict=True)\n",
    "_ = net.eval()\n",
    "\n",
    "print(\"GMM Model\")\n",
    "embeddings, labels, norm_threshold = get_embeddings(\n",
    "    net,\n",
    "    train_loader,\n",
    "    num_dim=model_to_num_dim[model],\n",
    "    dtype=torch.double,\n",
    "    device=device,\n",
    "    storage_device=device,\n",
    ")\n",
    "\n",
    "gaussians_model, jitter_eps = gmm_fit(embeddings=embeddings, labels=labels, num_classes=num_classes)\n",
    "logits, labels = gmm_evaluate(\n",
    "    net,\n",
    "    gaussians_model,\n",
    "    test_loader,\n",
    "    device=device,\n",
    "    num_classes=num_classes,\n",
    "    storage_device=device,\n",
    ")\n",
    "\n",
    "ood_logits, ood_labels = gmm_evaluate(\n",
    "    net,\n",
    "    gaussians_model,\n",
    "    ood_test_loader,\n",
    "    device=device,\n",
    "    num_classes=num_classes,\n",
    "    storage_device=device,\n",
    ")\n",
    "m1_fpr95, m1_auroc, m1_auprc = get_roc_auc_logits(logits, ood_logits, logsumexp, device, conf=True)\n",
    "print(f\"contrastive-:m1_auroc1:{m1_auroc:.4f},m1_auprc:{m1_auprc:.4f}\")"
   ]
  },
  {
   "cell_type": "code",
   "execution_count": null,
   "metadata": {},
   "outputs": [],
   "source": []
  },
  {
   "cell_type": "code",
   "execution_count": null,
   "metadata": {},
   "outputs": [],
   "source": []
  }
 ],
 "metadata": {
  "kernelspec": {
   "display_name": "Python 3 (ipykernel)",
   "language": "python",
   "name": "python3"
  },
  "language_info": {
   "codemirror_mode": {
    "name": "ipython",
    "version": 3
   },
   "file_extension": ".py",
   "mimetype": "text/x-python",
   "name": "python",
   "nbconvert_exporter": "python",
   "pygments_lexer": "ipython3",
   "version": "3.11.8"
  }
 },
 "nbformat": 4,
 "nbformat_minor": 4
}
