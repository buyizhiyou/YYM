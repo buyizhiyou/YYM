{
 "cells": [
  {
   "cell_type": "markdown",
   "metadata": {},
   "source": [
    "# Load models"
   ]
  },
  {
   "cell_type": "code",
   "execution_count": 10,
   "metadata": {},
   "outputs": [],
   "source": [
    "import os\n",
    "import sys\n",
    "from tqdm import tqdm\n",
    "from time import time\n",
    "import numpy as np\n",
    "import matplotlib.pyplot as plt\n",
    "\n",
    "import torch\n",
    "import torch.nn as nn\n",
    "import torch.backends.cudnn as cudnn\n",
    "from sklearn import datasets\n",
    "from sklearn.manifold import TSNE\n",
    "\n",
    "cwd = os.getcwd()\n",
    "module_path = \"/\".join(cwd.split('/')[0:-1])\n",
    "if module_path not in sys.path:\n",
    "    sys.path.append(module_path)\n",
    "\n",
    "# Network architectures\n",
    "from net.resnet import resnet50\n",
    "\n",
    "from data_utils.ood_detection import cifar10\n",
    "import metrics.uncertainty_confidence as uncertainty_confidence\n",
    "from utils.gmm_utils import get_embeddings, gmm_fit, gmm_evaluate"
   ]
  },
  {
   "cell_type": "code",
   "execution_count": 15,
   "metadata": {},
   "outputs": [],
   "source": [
    "device = \"cuda:0\" if torch.cuda.is_available() else \"cpu\""
   ]
  },
  {
   "cell_type": "code",
   "execution_count": 16,
   "metadata": {},
   "outputs": [
    {
     "data": {
      "text/plain": [
       "<All keys matched successfully>"
      ]
     },
     "execution_count": 16,
     "metadata": {},
     "output_type": "execute_result"
    }
   ],
   "source": [
    "# Load ResNet-18 model\n",
    "model = resnet50(spectral_normalization=True,\n",
    "                             mod = True,\n",
    "                             mnist = False).to(device)\n",
    "model.load_state_dict(torch.load(\"../saved_models/runs2/2024_03_12_14_45_25/resnet50_sn_3.0_mod_seed_1_best.model\"))\n",
    "activation = {}\n",
    "\n",
    "def get_activation(name):\n",
    "    def hook(model, input, output):\n",
    "        activation[name] = input[0]\n",
    "    return hook\n",
    "\n",
    "    model.fc.register_forward_hook(get_activation('embedding'))"
   ]
  },
  {
   "cell_type": "code",
   "execution_count": 19,
   "metadata": {},
   "outputs": [],
   "source": [
    "num_classes = 10\n",
    "batch_size = 128\n",
    "\n",
    "# MNIST data loader\n",
    "train_loader,val_loader = cifar10.get_train_valid_loader(64,True,1,0.1,root=\"../data/\")\n",
    "X = []\n",
    "y = []\n",
    "for images,labels in train_loader:\n",
    "    images = images.to(device)\n",
    "    embeddings = model(images)\n",
    "    X.append(embeddings.cpu().detach().numpy())\n",
    "    y.append(labels.detach().numpy())\n"
   ]
  },
  {
   "cell_type": "code",
   "execution_count": null,
   "metadata": {},
   "outputs": [],
   "source": [
    "tsne = TSNE(n_components=3, init='pca', random_state=0)\n",
    "X_tsne = tsne.fit_transform(X)\n",
    "def plot_embedding_3d(X, y,title=None):\n",
    "    #坐标缩放到[0,1]区间\n",
    "    x_min, x_max = np.min(X,axis=0), np.max(X,axis=0)\n",
    "    X = (X - x_min) / (x_max - x_min)\n",
    "    #降维后的坐标为（X[i, 0], X[i, 1],X[i,2]），在该位置画出对应的digits\n",
    "    fig = plt.figure()\n",
    "    ax = fig.add_subplot(1, 1, 1, projection='3d')\n",
    "    for i in range(X.shape[0]):\n",
    "        ax.text(X[i, 0], X[i, 1], X[i,2],str(y[i]),\n",
    "                 color=plt.cm.Set1(y[i] / 10.),\n",
    "                 fontdict={'weight': 'bold', 'size': 9})\n",
    "    if title is not None:\n",
    "        plt.title(title)\n",
    "\n",
    "plot_embedding_3d(X_tsne,\"t-SNE 3D \" )"
   ]
  },
  {
   "cell_type": "code",
   "execution_count": null,
   "metadata": {},
   "outputs": [],
   "source": [
    "def plot_embedding_2d(data, y, title):\n",
    "    x_min, x_max = np.min(data, 0), np.max(data, 0)\n",
    "    data = (data - x_min) / (x_max - x_min)\n",
    "\n",
    "    fig = plt.figure()\n",
    "    ax = plt.subplot(111)\n",
    "    for i in range(data.shape[0]):\n",
    "        plt.text(data[i, 0], data[i, 1], str(y[i]),\n",
    "                 color=plt.cm.Set1(y[i] / 10.),\n",
    "                 fontdict={'weight': 'bold', 'size': 9})\n",
    "    plt.xticks([])\n",
    "    plt.yticks([])\n",
    "    plt.title(title)\n",
    "    return fig\n",
    "\n",
    "plot_embedding_2d(X_tsne,y,\"t-SNE 2D\")"
   ]
  }
 ],
 "metadata": {
  "kernelspec": {
   "display_name": "Python 3",
   "language": "python",
   "name": "python3"
  },
  "language_info": {
   "codemirror_mode": {
    "name": "ipython",
    "version": 3
   },
   "file_extension": ".py",
   "mimetype": "text/x-python",
   "name": "python",
   "nbconvert_exporter": "python",
   "pygments_lexer": "ipython3",
   "version": "3.8.18"
  }
 },
 "nbformat": 4,
 "nbformat_minor": 4
}
