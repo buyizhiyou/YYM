{
 "cells": [
  {
   "cell_type": "markdown",
   "metadata": {},
   "source": [
    "## import libraries"
   ]
  },
  {
   "cell_type": "code",
   "execution_count": 1,
   "metadata": {
    "tags": []
   },
   "outputs": [],
   "source": [
    "import os\n",
    "import sys\n",
    "from tqdm import tqdm\n",
    "from time import time\n",
    "import numpy as np\n",
    "import matplotlib.pyplot as plt\n",
    "\n",
    "import torch\n",
    "import torch.nn as nn\n",
    "import torch.backends.cudnn as cudnn\n",
    "from sklearn import datasets\n",
    "from sklearn.manifold import TSNE\n",
    "\n",
    "sys.path.append(\"../\")\n",
    "\n",
    "# Network architectures\n",
    "from net.resnet2 import resnet50\n",
    "from net.vgg2 import vgg16\n",
    "\n",
    "from data_utils.ood_detection import cifar10,svhn\n",
    "import metrics.uncertainty_confidence as uncertainty_confidence\n",
    "from utils.gmm_utils import get_embeddings, gmm_fit, gmm_evaluate"
   ]
  },
  {
   "cell_type": "markdown",
   "metadata": {},
   "source": [
    "## load model"
   ]
  },
  {
   "cell_type": "code",
   "execution_count": 2,
   "metadata": {
    "tags": []
   },
   "outputs": [
    {
     "data": {
      "text/plain": [
       "<torch.utils.hooks.RemovableHandle at 0x7f05b1d4aee0>"
      ]
     },
     "execution_count": 2,
     "metadata": {},
     "output_type": "execute_result"
    }
   ],
   "source": [
    "device = \"cuda:1\" if torch.cuda.is_available() else \"cpu\"\n",
    "# Load ResNet model\n",
    "model = resnet50(spectral_normalization=True,\n",
    "                             mod = True,\n",
    "                             mnist = False).to(device)\n",
    "model.load_state_dict(torch.load(\"../saved_models/run2/2024_03_14_18_02_26/resnet50_sn_3.0_mod_seed_1_best.model\"))\n",
    "activation = {}\n",
    "\n",
    "def get_activation(name):\n",
    "    def hook(model, input, output):\n",
    "        activation[name] = input[0]\n",
    "    return hook\n",
    "\n",
    "model.fc.register_forward_hook(get_activation('embedding'))"
   ]
  },
  {
   "cell_type": "code",
   "execution_count": 3,
   "metadata": {
    "tags": []
   },
   "outputs": [
    {
     "name": "stdout",
     "output_type": "stream",
     "text": [
      "Using downloaded and verified file: ../data/test_32x32.mat\n"
     ]
    },
    {
     "name": "stderr",
     "output_type": "stream",
     "text": [
      "100%|██████████| 204/204 [00:14<00:00, 13.79it/s]\n",
      "100%|██████████| 391/391 [00:24<00:00, 15.67it/s]\n"
     ]
    }
   ],
   "source": [
    "num_classes = 10\n",
    "batch_size = 128\n",
    "\n",
    "# MNIST data loader\n",
    "train_loader,val_loader = cifar10.get_train_valid_loader(batch_size,True,1,0,root=\"../data/\")\n",
    "ood_test_loader = svhn.get_test_loader(batch_size,root=\"../data/\")\n",
    "Xs = []\n",
    "ys = []\n",
    "for images,_ in tqdm(ood_test_loader):\n",
    "    labels = np.ones(images.shape[0])*10 #标记label=10为OOD样本\n",
    "    images = images.to(device)\n",
    "    model(images)\n",
    "    embeddings = activation[\"embedding\"]\n",
    "    Xs.append(embeddings.cpu().detach().numpy())\n",
    "    ys.append(labels)\n",
    "    \n",
    "for images,labels in tqdm(train_loader):\n",
    "    images = images.to(device)\n",
    "    model(images)\n",
    "    embeddings = activation[\"embedding\"]\n",
    "    Xs.append(embeddings.cpu().detach().numpy())\n",
    "    ys.append(labels.detach().numpy())"
   ]
  },
  {
   "cell_type": "code",
   "execution_count": 4,
   "metadata": {
    "tags": []
   },
   "outputs": [],
   "source": [
    "X = np.concatenate(Xs)\n",
    "y = np.concatenate(ys)"
   ]
  },
  {
   "cell_type": "markdown",
   "metadata": {},
   "source": [
    "## t-SNE Visualization"
   ]
  },
  {
   "cell_type": "code",
   "execution_count": 41,
   "metadata": {
    "tags": []
   },
   "outputs": [],
   "source": [
    "def plot_embedding_2d(X, y, num_classes, title):\n",
    "    x_min, x_max = np.min(X, 0), np.max(X, 0)\n",
    "    X = (X - x_min) / (x_max - x_min)\n",
    "    \n",
    "    fig, axes = plt.subplots(1,2, figsize=(10, 5))\n",
    "    \n",
    "    # plt.scatter(X[:,0], X[:,1], c = y, s = 5, cmap = plt.cm.Spectral)\n",
    "\n",
    "    cmap = plt.get_cmap('tab20')\n",
    "    colors = []\n",
    "    for i in range(13):\n",
    "        colors.append(np.array(cmap(i)).reshape(1,-1))\n",
    "\n",
    "    for i in range(num_classes):  # 对每类的数据画上特定颜色的点\n",
    "        index = (y == i)\n",
    "        axes[0].scatter(X[index, 0], X[index, 1], s=3, c=colors[i])\n",
    "    axes[0].legend([i for i in range(num_classes)])\n",
    "    for i in range(num_classes+1):  # 对每类的数据画上特定颜色的点\n",
    "        index = (y == i)\n",
    "        axes[1].scatter(X[index, 0], X[index, 1], s=3, c=colors[i])\n",
    "    axes[1].legend([i for i in range(num_classes+1)])\n",
    "    \n",
    "    plt.tight_layout()\n",
    "    return fig"
   ]
  },
  {
   "cell_type": "code",
   "execution_count": 28,
   "metadata": {
    "collapsed": true,
    "jupyter": {
     "outputs_hidden": true,
     "source_hidden": true
    },
    "tags": []
   },
   "outputs": [],
   "source": [
    "tsne = TSNE(n_components=2, init='pca', random_state=0)\n",
    "X_tsne = tsne.fit_transform(X)"
   ]
  },
  {
   "cell_type": "code",
   "execution_count": null,
   "metadata": {},
   "outputs": [],
   "source": [
    "_ = plot_embedding_2d(X_tsne,y,10,\"t-SNE 2D\")"
   ]
  }
 ],
 "metadata": {
  "kernelspec": {
   "display_name": "py38",
   "language": "python",
   "name": "python3"
  },
  "language_info": {
   "codemirror_mode": {
    "name": "ipython",
    "version": 3
   },
   "file_extension": ".py",
   "mimetype": "text/x-python",
   "name": "python",
   "nbconvert_exporter": "python",
   "pygments_lexer": "ipython3",
   "version": "3.8.18"
  }
 },
 "nbformat": 4,
 "nbformat_minor": 4
}
