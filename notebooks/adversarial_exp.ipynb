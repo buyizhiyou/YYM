{
 "cells": [
  {
   "cell_type": "code",
   "execution_count": 1,
   "id": "f03237d9-0315-4eb0-86b1-aa9f674ec640",
   "metadata": {
    "execution": {
     "iopub.execute_input": "2023-11-27T08:16:11.146250Z",
     "iopub.status.busy": "2023-11-27T08:16:11.145823Z",
     "iopub.status.idle": "2023-11-27T08:16:22.298841Z",
     "shell.execute_reply": "2023-11-27T08:16:22.298125Z",
     "shell.execute_reply.started": "2023-11-27T08:16:11.146222Z"
    }
   },
   "outputs": [],
   "source": [
    "import sys \n",
    "sys.path.append(\"../\")\n",
    "import numpy as np\n",
    "from matplotlib import pyplot as plt \n",
    "\n",
    "import torch \n",
    "import torchvision.transforms as transforms\n",
    "\n",
    "from data_utils.get_datasets import get_dataset\n",
    "from model_utils.get_models import get_model\n",
    "from adversarial.adversarial_attack import  fgsm_attack, test_adv\n",
    "from utils.plots import visualize_adv"
   ]
  },
  {
   "cell_type": "code",
   "execution_count": 2,
   "id": "422b0b4f-1ca7-4125-a493-22633b8a224b",
   "metadata": {
    "execution": {
     "iopub.execute_input": "2023-11-27T08:16:22.300825Z",
     "iopub.status.busy": "2023-11-27T08:16:22.300218Z",
     "iopub.status.idle": "2023-11-27T08:16:28.658488Z",
     "shell.execute_reply": "2023-11-27T08:16:28.657806Z",
     "shell.execute_reply.started": "2023-11-27T08:16:22.300787Z"
    }
   },
   "outputs": [],
   "source": [
    "%reload_ext autoreload\n",
    "%autoreload 2"
   ]
  },
  {
   "cell_type": "code",
   "execution_count": 5,
   "id": "fc788cea-f2a3-451c-a6cf-1cf033046c52",
   "metadata": {
    "execution": {
     "iopub.execute_input": "2023-11-27T08:18:06.096161Z",
     "iopub.status.busy": "2023-11-27T08:18:06.095735Z",
     "iopub.status.idle": "2023-11-27T08:18:07.460507Z",
     "shell.execute_reply": "2023-11-27T08:18:07.459768Z",
     "shell.execute_reply.started": "2023-11-27T08:18:06.096135Z"
    }
   },
   "outputs": [
    {
     "name": "stdout",
     "output_type": "stream",
     "text": [
      "use private models...\n"
     ]
    },
    {
     "data": {
      "text/plain": [
       "<All keys matched successfully>"
      ]
     },
     "execution_count": 5,
     "metadata": {},
     "output_type": "execute_result"
    }
   ],
   "source": [
    "device = torch.device('cuda:0')\n",
    "model = get_model(\"vgg16\", 10, use_torchvision=False)\n",
    "model = model.to(device)\n",
    "model.eval()\n",
    "checkpoint = torch.load(\"../saved_models/deterministic/vgg16/2023_11_24_15_25_21/vgg16_best_model_93.62.pth\")\n",
    "model.load_state_dict(checkpoint['state_dict'])"
   ]
  },
  {
   "cell_type": "code",
   "execution_count": 6,
   "id": "02c065c4-8579-4b05-9923-9a17c8900239",
   "metadata": {
    "execution": {
     "iopub.execute_input": "2023-11-27T08:18:14.617888Z",
     "iopub.status.busy": "2023-11-27T08:18:14.617505Z",
     "iopub.status.idle": "2023-11-27T08:18:17.658486Z",
     "shell.execute_reply": "2023-11-27T08:18:17.657794Z",
     "shell.execute_reply.started": "2023-11-27T08:18:14.617863Z"
    }
   },
   "outputs": [],
   "source": [
    "mean = [0.4914, 0.4822, 0.4465]\n",
    "std = [0.2023, 0.1994, 0.2010]\n",
    "val_transform = transforms.Compose(\n",
    "    [\n",
    "    transforms.Resize((32, 32)),\n",
    "    transforms.ToTensor(),\n",
    "    transforms.Normalize(\n",
    "            (0.4914, 0.4822, 0.4465),\n",
    "            (0.2023, 0.1994, 0.2010))\n",
    "    ]\n",
    ")\n",
    "_, val_dataset = get_dataset(\"cifar10\",\"../data\",None,val_transform)\n",
    "val_loader = torch.utils.data.DataLoader(\n",
    "    val_dataset, batch_size=1, shuffle=False,\n",
    "    num_workers=4, pin_memory=True)"
   ]
  },
  {
   "cell_type": "code",
   "execution_count": 9,
   "id": "d7d9be5a-2aff-49c0-83a8-2976bebc0cbe",
   "metadata": {
    "execution": {
     "iopub.execute_input": "2023-11-27T08:31:36.360226Z",
     "iopub.status.busy": "2023-11-27T08:31:36.359802Z",
     "iopub.status.idle": "2023-11-27T08:57:28.197376Z",
     "shell.execute_reply": "2023-11-27T08:57:28.196626Z",
     "shell.execute_reply.started": "2023-11-27T08:31:36.360197Z"
    }
   },
   "outputs": [
    {
     "name": "stdout",
     "output_type": "stream",
     "text": [
      "Epsilon: 0\tTest Accuracy = 9362 / 10000 = 0.9362\n",
      "Epsilon: 0.01\tTest Accuracy = 406 / 10000 = 0.0406\n",
      "Epsilon: 0.1\tTest Accuracy = 1 / 10000 = 0.0001\n"
     ]
    }
   ],
   "source": [
    "epsilons = [0,0.01,0.1]\n",
    "accuracies = []\n",
    "examples = []\n",
    "\n",
    "# Run test for each epsilon\n",
    "for eps in epsilons:\n",
    "    acc, ex = test_adv(model, device, val_loader, eps, \"pgd\")\n",
    "    accuracies.append(acc)\n",
    "    examples.append(ex)"
   ]
  },
  {
   "cell_type": "code",
   "execution_count": 8,
   "id": "aa9d181b-1607-4767-a5ad-65c5abf9a32a",
   "metadata": {
    "execution": {
     "iopub.execute_input": "2023-11-27T08:23:22.062569Z",
     "iopub.status.busy": "2023-11-27T08:23:22.062124Z",
     "iopub.status.idle": "2023-11-27T08:23:27.720985Z",
     "shell.execute_reply": "2023-11-27T08:23:27.720078Z",
     "shell.execute_reply.started": "2023-11-27T08:23:22.062538Z"
    }
   },
   "outputs": [
    {
     "data": {
      "image/png": "[encoded data removed]",
      "text/plain": [
       "<Figure size 400x200 with 2 Axes>"
      ]
     },
     "metadata": {},
     "output_type": "display_data"
    }
   ],
   "source": [
    "visualize_adv(*examples[0][3],mean, std)"
   ]
  },
  {
   "cell_type": "code",
   "execution_count": null,
   "id": "3634ebe0-da61-4136-8816-5115588f9555",
   "metadata": {},
   "outputs": [],
   "source": [
    "examples[0]"
   ]
  }
 ],
 "metadata": {
  "kernelspec": {
   "display_name": "Python 3 (ipykernel)",
   "language": "python",
   "name": "python3"
  },
  "language_info": {
   "codemirror_mode": {
    "name": "ipython",
    "version": 3
   },
   "file_extension": ".py",
   "mimetype": "text/x-python",
   "name": "python",
   "nbconvert_exporter": "python",
   "pygments_lexer": "ipython3",
   "version": "3.8.18"
  }
 },
 "nbformat": 4,
 "nbformat_minor": 5
}
