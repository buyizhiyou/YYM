import torch
import torch.nn as nn
import torch.nn.functional as F


class ConcreteDropout(nn.Module):
    def __init__(self, p_logit=-2.0, temp=0.01, eps=1e-8):
        super(ConcreteDropout, self).__init__()
        self.p_logit = nn.Parameter(torch.Tensor([p_logit]))
        self.temp = temp
        self.eps = eps
        
    @property
    def p(self):
        return torch.sigmoid(self.p_logit)
        
    def forward(self, x):
        if self.train():
            unif_noise = torch.rand_like(x)
            drop_prob = torch.log(self.p + self.eps) -\
            torch.log(1-self.p + self.eps)+\
            torch.log(unif_noise + self.eps)-\
            torch.log(1-unif_noise + self.eps)
            drop_prob = torch.sigmoid(drop_prob/ self.temp)
            random_tensor = 1. - drop_prob
            retain_prob = 1. - self.p
            x *= random_tensor
            x /= retain_prob
        return x


cdrop = ConcreteDropout()
drop = nn.Dropout(p=0.1)
input = torch.ones([1,10])
output1 = cdrop(input)
input = torch.ones([1,10])
output2 = drop(input)
print(output1)
print(output2)


class VariationalDropout(nn.Module):
    def __init__(self, log_alpha=-3.):
        super(VariationalDropout, self).__init__()
        self.max_log_alpha = 0.0
        self.log_alpha = nn.Parameter(torch.Tensor([log_alpha]))
        
    @property
    def alpha(self):
        return torch.exp(self.log_alpha)
        
    def forward(self, x):
        if self.train():
            normal_noise = torch.randn_like(x)
            self.log_alpha.data = torch.clamp(self.log_alpha.data, max=self.max_log_alpha)
            random_tensor = 1. + normal_noise * torch.sqrt(self.alpha)
            x *= random_tensor
        return x


import torch
import torchvision
import torchvision.transforms as transforms


batch_size = 1000

train_transform = transforms.Compose(
    [transforms.RandomCrop(32, padding=4),
     transforms.RandomHorizontalFlip(),
     transforms.ToTensor(),
     transforms.Normalize((0.4914, 0.4822, 0.4465), (0.2023, 0.1994, 0.2010))])

test_transform = transforms.Compose(
    [transforms.ToTensor(),
     transforms.Normalize((0.4914, 0.4822, 0.4465), (0.2023, 0.1994, 0.2010))])

trainset = torchvision.datasets.CIFAR10(root='./data', train=True,
                                        download=True, transform=train_transform)
trainloader = torch.utils.data.DataLoader(trainset, batch_size=batch_size,
                                          shuffle=True, num_workers=4)

testset = torchvision.datasets.CIFAR10(root='./data', train=False,
                                       download=True, transform=test_transform)
testloader = torch.utils.data.DataLoader(testset, batch_size=batch_size,
                                         shuffle=False, num_workers=4)

classes = ('plane', 'car', 'bird', 'cat',
           'deer', 'dog', 'frog', 'horse', 'ship', 'truck')
print('train set size: {}'.format(len(trainset)))
log_freq = len(trainset)//batch_size
print('log freq: {}'.format(log_freq))
print('test set size: {}'.format(len(testset)))


import matplotlib.pyplot as plt
import numpy as np
import seaborn as sns
get_ipython().run_line_magic("matplotlib", " inline")


def imshow(img):
    img = img / 2 + 0.5     # unnormalize
    npimg = img.numpy()
    plt.imshow(np.transpose(npimg, (1, 2, 0)))
    plt.show()


# get some random training images
dataiter = iter(trainloader)
images, labels = dataiter.next()
print(images.shape)

# show images
imshow(torchvision.utils.make_grid(images[:4]))
# print labels
print(' '.join('%5s' % classes[labels[j]] for j in range(4)))


# Lenet with Concrete dropout
class Net_CDO(nn.Module):
    def __init__(self, weight_reg_coef=5e-4, dropout_reg_coef=1e-2):
        super(Net_CDO, self).__init__()
        self.conv1 = nn.Conv2d(3, 192, 5, padding=2)
        self.pool = nn.MaxPool2d(2, 2)
        self.conv2 = nn.Conv2d(192, 192, 5, padding=2)
        self.fc1 = nn.Linear(192 * 8 * 8, 1024)
        self.fc2 = nn.Linear(1024, 256)
        self.fc3 = nn.Linear(256, 10)
        self.leaky_relu = nn.LeakyReLU(negative_slope=0.2)
        self.cdropout1 = ConcreteDropout()
        self.cdropout2 = ConcreteDropout()
        self.cdropout3 = ConcreteDropout()
        self.cdropout4 = ConcreteDropout()
        self.weight_reg_coef = weight_reg_coef
        self.dropout_reg_coef = dropout_reg_coef
        
        nn.init.xavier_uniform_(self.conv1.weight)
        nn.init.constant_(self.conv1.bias, 0.0)
        nn.init.xavier_uniform_(self.conv2.weight)
        nn.init.constant_(self.conv2.bias, 0.0)
        nn.init.xavier_uniform_(self.fc1.weight)
        nn.init.constant_(self.fc1.bias, 0.0)
        nn.init.xavier_uniform_(self.fc2.weight)
        nn.init.constant_(self.fc2.bias, 0.0)
        nn.init.xavier_uniform_(self.fc3.weight)
        nn.init.constant_(self.fc3.bias, 0.0)

    def forward(self, x):
        x = self.pool(self.leaky_relu(self.cdropout1(self.conv1(x))))
        x = self.pool(self.leaky_relu(self.cdropout2(self.conv2(x))))
        x = x.view(-1, 192 * 8 * 8)
        x = self.leaky_relu(self.cdropout3(self.fc1(x)))
        x = self.leaky_relu(self.cdropout4(self.fc2(x)))
        x = F.softmax(self.fc3(x),dim=1)
        return x
    
    def entropy(self,cdropout):
        return -cdropout.p * torch.log(cdropout.p+1e-8) \
    -(1-cdropout.p) * torch.log(1-cdropout.p+1e-8)
    
    def calc_reg(self):
        weight_reg = (self.fc1.weight.norm()**2+self.fc1.bias.norm()**2)/(1-self.cdropout3.p)+\
        (self.fc2.weight.norm()**2+self.fc2.bias.norm()**2)/(1-self.cdropout4.p)+\
        (self.fc3.weight.norm()**2+self.fc3.bias.norm()**2)+\
        (self.conv1.weight.norm()**2+self.conv1.bias.norm()**2)/(1-self.cdropout1.p)+\
        (self.conv2.weight.norm()**2+self.conv2.bias.norm()**2)/(1-self.cdropout2.p)
        weight_reg *= self.weight_reg_coef
        dropout_reg = -self.entropy(self.cdropout1)-self.entropy(self.cdropout2)-\
        self.entropy(self.cdropout3)-self.entropy(self.cdropout4)
        dropout_reg *= self.dropout_reg_coef
        return weight_reg + dropout_reg
    
# Lenet with Variational dropout
class Net_VDO(nn.Module):
    def __init__(self, reg_coef=5e-4):
        super(Net_VDO, self).__init__()
        self.conv1 = nn.Conv2d(3, 192, 5, padding=2)
        self.pool = nn.MaxPool2d(2, 2)
        self.conv2 = nn.Conv2d(192, 192, 5, padding=2)
        self.fc1 = nn.Linear(192 * 8 * 8, 1024)
        self.fc2 = nn.Linear(1024, 256)
        self.fc3 = nn.Linear(256, 10)
        self.leaky_relu = nn.LeakyReLU(negative_slope=0.2)
        self.vdropout1 = VariationalDropout()
        self.vdropout2 = VariationalDropout()
        self.vdropout3 = VariationalDropout()
        self.vdropout4 = VariationalDropout()
        self.reg_coef = reg_coef
        
        nn.init.xavier_uniform_(self.conv1.weight)
        nn.init.constant_(self.conv1.bias, 0.0)
        nn.init.xavier_uniform_(self.conv2.weight)
        nn.init.constant_(self.conv2.bias, 0.0)
        nn.init.xavier_uniform_(self.fc1.weight)
        nn.init.constant_(self.fc1.bias, 0.0)
        nn.init.xavier_uniform_(self.fc2.weight)
        nn.init.constant_(self.fc2.bias, 0.0)
        nn.init.xavier_uniform_(self.fc3.weight)
        nn.init.constant_(self.fc3.bias, 0.0)

    def forward(self, x):
        x = self.pool(self.leaky_relu(self.vdropout1(self.conv1(x))))
        x = self.pool(self.leaky_relu(self.vdropout2(self.conv2(x))))
        x = x.view(-1, 192 * 8 * 8)
        x = self.leaky_relu(self.vdropout3(self.fc1(x)))
        x = self.leaky_relu(self.vdropout4(self.fc2(x)))
        x = F.softmax(self.fc3(x),dim=1)
        return x
    
    def kl_prior(self, vdropout):
        c1 = 1.16145124
        c2 = -1.50204118
        c3 = 0.58629921
        return -0.5*vdropout.log_alpha - c1*vdropout.alpha \
        - c2*vdropout.alpha**2 - c3*vdropout.alpha**3
    
    def calc_reg(self):
        return self.reg_coef * (self.kl_prior(self.vdropout1)+self.kl_prior(self.vdropout2)+\
                               self.kl_prior(self.vdropout3)+self.kl_prior(self.vdropout4))
        
# Lenet with MCDO
class Net_MCDO(nn.Module):
    def __init__(self):
        super(Net_MCDO, self).__init__()
        self.conv1 = nn.Conv2d(3, 192, 5, padding=2)
        self.pool = nn.MaxPool2d(2, 2)
        self.conv2 = nn.Conv2d(192, 192, 5, padding=2)
        self.fc1 = nn.Linear(192 * 8 * 8, 1024)
        self.fc2 = nn.Linear(1024, 256)
        self.fc3 = nn.Linear(256, 10)
        self.leaky_relu = nn.LeakyReLU(negative_slope=0.2)
        self.dropout = nn.Dropout(p=0.3)
        
        nn.init.xavier_uniform_(self.conv1.weight)
        nn.init.constant_(self.conv1.bias, 0.0)
        nn.init.xavier_uniform_(self.conv2.weight)
        nn.init.constant_(self.conv2.bias, 0.0)
        nn.init.xavier_uniform_(self.fc1.weight)
        nn.init.constant_(self.fc1.bias, 0.0)
        nn.init.xavier_uniform_(self.fc2.weight)
        nn.init.constant_(self.fc2.bias, 0.0)
        nn.init.xavier_uniform_(self.fc3.weight)
        nn.init.constant_(self.fc3.bias, 0.0)


    def forward(self, x):
        x = self.pool(self.leaky_relu(self.dropout(self.conv1(x))))
        x = self.pool(self.leaky_relu(self.dropout(self.conv2(x))))
        x = x.view(-1, 192 * 8 * 8)
        x = self.leaky_relu(self.dropout(self.fc1(x)))
        x = self.leaky_relu(self.dropout(self.fc2(x)))
        x = F.softmax(self.fc3(x),dim=1)
        return x


import torch.optim as optim


CE = nn.CrossEntropyLoss()


def train(epoch, net, optimizer, log_freq=log_freq, is_calc_reg=False):
    running_loss = 0.0
    for i, data in enumerate(trainloader, 0):
        # get the inputs
        inputs, labels = data
        inputs, labels = inputs.to(device), labels.to(device)

        # zero the parameter gradients
        optimizer.zero_grad()

        # forward + backward + optimize
        outputs = net(inputs)
        loss = CE(outputs, labels)
        if is_calc_reg:
            loss += torch.sum(net.module.calc_reg())
        loss.backward()
        optimizer.step()

        # print statistics
        running_loss += loss.item()
        if (i+1) % log_freq == 0:    # print every 2000 mini-batches
            print('[Epoch : %d, Iter: %5d] loss: %.3f' %
                  (epoch + 1, i + 1, running_loss / log_freq))
    return running_loss / log_freq

def test(net):
    print('Start test')
    class_correct = list(0. for i in range(10))
    class_total = list(0. for i in range(10))
    with torch.no_grad():
        for data in testloader:
            inputs, labels = data
            inputs, labels = inputs.to(device), labels.to(device)
            output = 0
            for i in range(50):
                output += net(inputs)/10.
            output = torch.log(output)
            _, predicted = torch.max(output, 1)
            c = (predicted == labels).squeeze()
            for i in range(len(labels)):
                label = labels[i]
                class_correct[label] += c[i].item()
                class_total[label] += 1


    for i in range(10):
        print('Accuracy of %5s : %.2f %%' % (
            classes[i], 100 * class_correct[i] / class_total[i]))

    test_score = np.mean([100 * class_correct[i] / class_total[i] for i in range(10)])
    print(test_score)
    return test_score


from tqdm import tqdm_notebook

lenets = [Net_CDO, Net_VDO, Net_MCDO] 
epoch_num = 300
test_freq = 10
losses = list()
net_scores = list()
test_scores = list()
cdropout_history = list()
vdropout_history = list()
device = torch.device("cuda:0" if torch.cuda.is_available() else "cpu")
is_train = True

# SAVE
def save(name, net):
    net_path = './model/'+name+'.pkl'
    net = net.cpu()
    torch.save(net.state_dict(), net_path)
    # Place it to GPU back
    net.to(device)
    return net
    
def load(name, net):
    net_path = './model/'+name+'.pkl'
    # LOAD
    net.load_state_dict(torch.load(net_path))
    # Place it to GPU
    net.to(device)
    return net

def main():
    for lenet in lenets:
        print(lenet.__name__)
        net = lenet()
        if torch.cuda.device_count() > 1:
            print("Let's use",torch.cuda.device_count(),"GPUs!")
            net = nn.DataParallel(net)
        net.to(device)
        
        if lenet.__name__ == 'Net_CDO':
            optimizer = optim.Adam(net.parameters(), lr=5e-4, amsgrad=True)
        else:
            optimizer = optim.Adam(net.parameters(), lr=5e-4, weight_decay=5e-4, amsgrad=True)
        scheduler = optim.lr_scheduler.StepLR(optimizer, step_size=2, gamma=0.97)
        
        for i in tqdm_notebook(range(epoch_num)):
            scheduler.step()
#             net.train()
            if lenet.__name__ == 'Net_CDO':
                loss_avg = train(epoch=i, net=net, optimizer=optimizer, is_calc_reg=True)
                cdropout_history.append((net.module.cdropout1.p.item(),\
                                         net.module.cdropout2.p.item(),
                                        net.module.cdropout3.p.item(),
                                        net.module.cdropout4.p.item()))
            elif lenet.__name__ == 'Net_VDO':
                loss_avg = train(epoch=i, net=net, optimizer=optimizer, is_calc_reg=True)
                vdropout_history.append((net.module.vdropout1.alpha.item(),\
                                         net.module.vdropout2.alpha.item(),
                                        net.module.vdropout3.alpha.item(),
                                        net.module.vdropout4.alpha.item()))
            else:
                loss_avg = train(epoch=i, net=net, optimizer=optimizer)
            losses.append(loss_avg)
            if (i+1) % test_freq == 0:
#                 net.eval()
                net_score = test(net)
                net_scores.append(net_score)
        save(lenet.__name__, net)


if is_train:
    main()


sns.set()
epochs = [10*i for i in range((30))]
plt.plot(epochs, net_scores[:30],label='Net_CDO')
plt.plot(epochs, net_scores[30:60],label='Net_VDO')
plt.plot(epochs, net_scores[60:],label='Net_MCDO')
plt.xlabel('epochs')
plt.ylabel('Test accuracy')
plt.legend()
plt.tight_layout()
plt.show()


cdropout1_history = [cdropout_history[i][0] for i in range(30)]
cdropout2_history = [cdropout_history[i][1] for i in range(30)]
cdropout3_history = [cdropout_history[i][2] for i in range(30)]
cdropout4_history = [cdropout_history[i][3] for i in range(30)]

plt.plot(epochs, cdropout1_history,label='cdropout1')
plt.plot(epochs, cdropout2_history,label='cdropout2')
plt.plot(epochs, cdropout3_history,label='cdropout3')
plt.plot(epochs, cdropout4_history,label='cdropout4')
plt.xlabel('epochs')
plt.ylabel('Dropout rate')
plt.legend()
plt.tight_layout()
plt.show()


vdropout1_history = [vdropout_history[i][0] for i in range(30)]
vdropout2_history = [vdropout_history[i][1] for i in range(30)]
vdropout3_history = [vdropout_history[i][2] for i in range(30)]
vdropout4_history = [vdropout_history[i][3] for i in range(30)]

plt.plot(epochs, vdropout1_history,label='vdropout1')
plt.plot(epochs, vdropout2_history,label='vdropout2')
plt.plot(epochs, vdropout3_history,label='vdropout3')
plt.plot(epochs, vdropout4_history,label='vdropout4')
plt.xlabel('epochs')
plt.ylabel('Alpha value')
plt.legend()
plt.tight_layout()
plt.show()
