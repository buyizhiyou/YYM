{
 "cells": [
  {
   "cell_type": "markdown",
   "id": "7633034c-c066-497b-a5ce-a9f6cd810c88",
   "metadata": {
    "execution": {
     "iopub.execute_input": "2023-08-29T07:13:08.141794Z",
     "iopub.status.busy": "2023-08-29T07:13:08.141440Z",
     "iopub.status.idle": "2023-08-29T07:13:08.144991Z",
     "shell.execute_reply": "2023-08-29T07:13:08.144420Z",
     "shell.execute_reply.started": "2023-08-29T07:13:08.141767Z"
    }
   },
   "source": [
    "### Import and Load model"
   ]
  },
  {
   "cell_type": "code",
   "execution_count": 2,
   "id": "60d4f75b-da13-4969-bf2a-ed8230f6687b",
   "metadata": {
    "execution": {
     "iopub.execute_input": "2023-11-29T13:43:45.924797Z",
     "iopub.status.busy": "2023-11-29T13:43:45.923876Z",
     "iopub.status.idle": "2023-11-29T13:43:45.931598Z",
     "shell.execute_reply": "2023-11-29T13:43:45.930965Z",
     "shell.execute_reply.started": "2023-11-29T13:43:45.924762Z"
    },
    "tags": []
   },
   "outputs": [],
   "source": [
    "import time\n",
    "import sys\n",
    "sys.path.append(\"../\")\n",
    "from matplotlib import pyplot as plt\n",
    "import seaborn as sns\n",
    "import pandas as pd\n",
    "import numpy as np \n",
    "from scipy.stats import entropy\n",
    "from tqdm import tqdm\n",
    "\n",
    "import torch\n",
    "from torch import nn\n",
    "import torchvision.models as models\n",
    "import torchvision.transforms as transforms\n",
    "import torchvision.datasets as datasets\n",
    "from torchsummary import summary\n",
    "from sklearn.metrics import roc_auc_score\n",
    "from sklearn import metrics\n",
    "from bayesian_torch.models.dnn_to_bnn import dnn_to_bnn\n",
    "\n",
    "from utils.plots import plot_pr,plot_roc, plot_dist, plot_violin\n",
    "from utils.metircs import accuracy,mutual_info,nll, ece,predictive_entropy\n",
    "from utils.visual import ProgressMeter, AverageMeter, Summary\n",
    "from data_utils.get_datasets import get_dataset\n",
    "from model_utils.get_models import get_model\n",
    "from uncertainty.mc_dropout import mc_dropout_predict\n",
    "from uncertainty.test_time_aug import test_time_aug_predict\n",
    "from uncertainty.deep_ensemble import deep_ensembel_predict,EnsembleModel\n",
    "from uncertainty.baseline_softmax import baseline_softmax_predict\n",
    "from uncertainty.bnn_svi import bnn_svi_predict\n",
    "from adversarial.adversarial_attack import fgsm_attack, pgd_attack"
   ]
  },
  {
   "cell_type": "code",
   "execution_count": 3,
   "id": "6bb6bfc5-c612-43c4-9ce9-e380b16c0f06",
   "metadata": {
    "execution": {
     "iopub.execute_input": "2023-11-29T13:43:45.932697Z",
     "iopub.status.busy": "2023-11-29T13:43:45.932480Z",
     "iopub.status.idle": "2023-11-29T13:43:59.571866Z",
     "shell.execute_reply": "2023-11-29T13:43:59.571027Z",
     "shell.execute_reply.started": "2023-11-29T13:43:45.932676Z"
    }
   },
   "outputs": [
    {
     "name": "stdout",
     "output_type": "stream",
     "text": [
      "use private models...\n"
     ]
    },
    {
     "data": {
      "text/plain": [
       "<All keys matched successfully>"
      ]
     },
     "execution_count": 3,
     "metadata": {},
     "output_type": "execute_result"
    }
   ],
   "source": [
    "device = torch.device('cuda:0')\n",
    "model = get_model(\"vgg16\", 10, use_torchvision=False)\n",
    "model = model.to(device)\n",
    "model.eval()\n",
    "checkpoint = torch.load(\"../saved_models/deterministic/vgg16/2023_11_24_15_25_21/vgg16_best_model_93.62.pth\",map_location=device)\n",
    "model.load_state_dict(checkpoint['state_dict'])"
   ]
  },
  {
   "cell_type": "code",
   "execution_count": 4,
   "id": "2d270b64-7dd2-4c4f-9f2a-a078f1c37d2c",
   "metadata": {
    "execution": {
     "iopub.execute_input": "2023-11-29T13:43:59.573433Z",
     "iopub.status.busy": "2023-11-29T13:43:59.573072Z",
     "iopub.status.idle": "2023-11-29T13:44:01.023095Z",
     "shell.execute_reply": "2023-11-29T13:44:01.022263Z",
     "shell.execute_reply.started": "2023-11-29T13:43:59.573406Z"
    }
   },
   "outputs": [
    {
     "name": "stdout",
     "output_type": "stream",
     "text": [
      "----------------------------------------------------------------\n",
      "        Layer (type)               Output Shape         Param #\n",
      "================================================================\n",
      "            Conv2d-1           [-1, 64, 32, 32]           1,792\n",
      "       BatchNorm2d-2           [-1, 64, 32, 32]             128\n",
      "              ReLU-3           [-1, 64, 32, 32]               0\n",
      "            Conv2d-4           [-1, 64, 32, 32]          36,928\n",
      "       BatchNorm2d-5           [-1, 64, 32, 32]             128\n",
      "              ReLU-6           [-1, 64, 32, 32]               0\n",
      "         MaxPool2d-7           [-1, 64, 16, 16]               0\n",
      "            Conv2d-8          [-1, 128, 16, 16]          73,856\n",
      "       BatchNorm2d-9          [-1, 128, 16, 16]             256\n",
      "             ReLU-10          [-1, 128, 16, 16]               0\n",
      "           Conv2d-11          [-1, 128, 16, 16]         147,584\n",
      "      BatchNorm2d-12          [-1, 128, 16, 16]             256\n",
      "             ReLU-13          [-1, 128, 16, 16]               0\n",
      "        MaxPool2d-14            [-1, 128, 8, 8]               0\n",
      "           Conv2d-15            [-1, 256, 8, 8]         295,168\n",
      "      BatchNorm2d-16            [-1, 256, 8, 8]             512\n",
      "             ReLU-17            [-1, 256, 8, 8]               0\n",
      "           Conv2d-18            [-1, 256, 8, 8]         590,080\n",
      "      BatchNorm2d-19            [-1, 256, 8, 8]             512\n",
      "             ReLU-20            [-1, 256, 8, 8]               0\n",
      "           Conv2d-21            [-1, 256, 8, 8]         590,080\n",
      "      BatchNorm2d-22            [-1, 256, 8, 8]             512\n",
      "             ReLU-23            [-1, 256, 8, 8]               0\n",
      "        MaxPool2d-24            [-1, 256, 4, 4]               0\n",
      "           Conv2d-25            [-1, 512, 4, 4]       1,180,160\n",
      "      BatchNorm2d-26            [-1, 512, 4, 4]           1,024\n",
      "             ReLU-27            [-1, 512, 4, 4]               0\n",
      "           Conv2d-28            [-1, 512, 4, 4]       2,359,808\n",
      "      BatchNorm2d-29            [-1, 512, 4, 4]           1,024\n",
      "             ReLU-30            [-1, 512, 4, 4]               0\n",
      "           Conv2d-31            [-1, 512, 4, 4]       2,359,808\n",
      "      BatchNorm2d-32            [-1, 512, 4, 4]           1,024\n",
      "             ReLU-33            [-1, 512, 4, 4]               0\n",
      "        MaxPool2d-34            [-1, 512, 2, 2]               0\n",
      "           Conv2d-35            [-1, 512, 2, 2]       2,359,808\n",
      "      BatchNorm2d-36            [-1, 512, 2, 2]           1,024\n",
      "             ReLU-37            [-1, 512, 2, 2]               0\n",
      "           Conv2d-38            [-1, 512, 2, 2]       2,359,808\n",
      "      BatchNorm2d-39            [-1, 512, 2, 2]           1,024\n",
      "             ReLU-40            [-1, 512, 2, 2]               0\n",
      "           Conv2d-41            [-1, 512, 2, 2]       2,359,808\n",
      "      BatchNorm2d-42            [-1, 512, 2, 2]           1,024\n",
      "             ReLU-43            [-1, 512, 2, 2]               0\n",
      "        MaxPool2d-44            [-1, 512, 1, 1]               0\n",
      "        AvgPool2d-45            [-1, 512, 1, 1]               0\n",
      "           Linear-46                  [-1, 512]         262,656\n",
      "             ReLU-47                  [-1, 512]               0\n",
      "          Dropout-48                  [-1, 512]               0\n",
      "           Linear-49                   [-1, 10]           5,130\n",
      "================================================================\n",
      "Total params: 14,990,922\n",
      "Trainable params: 14,990,922\n",
      "Non-trainable params: 0\n",
      "----------------------------------------------------------------\n",
      "Input size (MB): 0.01\n",
      "Forward/backward pass size (MB): 6.58\n",
      "Params size (MB): 57.19\n",
      "Estimated Total Size (MB): 63.78\n",
      "----------------------------------------------------------------\n",
      "VGG(\n",
      "  (features): Sequential(\n",
      "    (0): Conv2d(3, 64, kernel_size=(3, 3), stride=(1, 1), padding=(1, 1))\n",
      "    (1): BatchNorm2d(64, eps=1e-05, momentum=0.1, affine=True, track_running_stats=True)\n",
      "    (2): ReLU(inplace=True)\n",
      "    (3): Conv2d(64, 64, kernel_size=(3, 3), stride=(1, 1), padding=(1, 1))\n",
      "    (4): BatchNorm2d(64, eps=1e-05, momentum=0.1, affine=True, track_running_stats=True)\n",
      "    (5): ReLU(inplace=True)\n",
      "    (6): MaxPool2d(kernel_size=2, stride=2, padding=0, dilation=1, ceil_mode=False)\n",
      "    (7): Conv2d(64, 128, kernel_size=(3, 3), stride=(1, 1), padding=(1, 1))\n",
      "    (8): BatchNorm2d(128, eps=1e-05, momentum=0.1, affine=True, track_running_stats=True)\n",
      "    (9): ReLU(inplace=True)\n",
      "    (10): Conv2d(128, 128, kernel_size=(3, 3), stride=(1, 1), padding=(1, 1))\n",
      "    (11): BatchNorm2d(128, eps=1e-05, momentum=0.1, affine=True, track_running_stats=True)\n",
      "    (12): ReLU(inplace=True)\n",
      "    (13): MaxPool2d(kernel_size=2, stride=2, padding=0, dilation=1, ceil_mode=False)\n",
      "    (14): Conv2d(128, 256, kernel_size=(3, 3), stride=(1, 1), padding=(1, 1))\n",
      "    (15): BatchNorm2d(256, eps=1e-05, momentum=0.1, affine=True, track_running_stats=True)\n",
      "    (16): ReLU(inplace=True)\n",
      "    (17): Conv2d(256, 256, kernel_size=(3, 3), stride=(1, 1), padding=(1, 1))\n",
      "    (18): BatchNorm2d(256, eps=1e-05, momentum=0.1, affine=True, track_running_stats=True)\n",
      "    (19): ReLU(inplace=True)\n",
      "    (20): Conv2d(256, 256, kernel_size=(3, 3), stride=(1, 1), padding=(1, 1))\n",
      "    (21): BatchNorm2d(256, eps=1e-05, momentum=0.1, affine=True, track_running_stats=True)\n",
      "    (22): ReLU(inplace=True)\n",
      "    (23): MaxPool2d(kernel_size=2, stride=2, padding=0, dilation=1, ceil_mode=False)\n",
      "    (24): Conv2d(256, 512, kernel_size=(3, 3), stride=(1, 1), padding=(1, 1))\n",
      "    (25): BatchNorm2d(512, eps=1e-05, momentum=0.1, affine=True, track_running_stats=True)\n",
      "    (26): ReLU(inplace=True)\n",
      "    (27): Conv2d(512, 512, kernel_size=(3, 3), stride=(1, 1), padding=(1, 1))\n",
      "    (28): BatchNorm2d(512, eps=1e-05, momentum=0.1, affine=True, track_running_stats=True)\n",
      "    (29): ReLU(inplace=True)\n",
      "    (30): Conv2d(512, 512, kernel_size=(3, 3), stride=(1, 1), padding=(1, 1))\n",
      "    (31): BatchNorm2d(512, eps=1e-05, momentum=0.1, affine=True, track_running_stats=True)\n",
      "    (32): ReLU(inplace=True)\n",
      "    (33): MaxPool2d(kernel_size=2, stride=2, padding=0, dilation=1, ceil_mode=False)\n",
      "    (34): Conv2d(512, 512, kernel_size=(3, 3), stride=(1, 1), padding=(1, 1))\n",
      "    (35): BatchNorm2d(512, eps=1e-05, momentum=0.1, affine=True, track_running_stats=True)\n",
      "    (36): ReLU(inplace=True)\n",
      "    (37): Conv2d(512, 512, kernel_size=(3, 3), stride=(1, 1), padding=(1, 1))\n",
      "    (38): BatchNorm2d(512, eps=1e-05, momentum=0.1, affine=True, track_running_stats=True)\n",
      "    (39): ReLU(inplace=True)\n",
      "    (40): Conv2d(512, 512, kernel_size=(3, 3), stride=(1, 1), padding=(1, 1))\n",
      "    (41): BatchNorm2d(512, eps=1e-05, momentum=0.1, affine=True, track_running_stats=True)\n",
      "    (42): ReLU(inplace=True)\n",
      "    (43): MaxPool2d(kernel_size=2, stride=2, padding=0, dilation=1, ceil_mode=False)\n",
      "    (44): AvgPool2d(kernel_size=1, stride=1, padding=0)\n",
      "  )\n",
      "  (classifier): Sequential(\n",
      "    (0): Linear(in_features=512, out_features=512, bias=True)\n",
      "    (1): ReLU(inplace=True)\n",
      "    (2): Dropout(p=0.5, inplace=False)\n",
      "    (3): Linear(in_features=512, out_features=10, bias=True)\n",
      "  )\n",
      ")\n"
     ]
    }
   ],
   "source": [
    "summary(model,(3,32,32))\n",
    "print(model)"
   ]
  },
  {
   "cell_type": "code",
   "execution_count": 5,
   "id": "17d51c79-1d8b-46d2-8a0b-0eb06c5abd8e",
   "metadata": {
    "execution": {
     "iopub.execute_input": "2023-11-29T13:44:01.025784Z",
     "iopub.status.busy": "2023-11-29T13:44:01.025427Z",
     "iopub.status.idle": "2023-11-29T13:44:01.062691Z",
     "shell.execute_reply": "2023-11-29T13:44:01.062010Z",
     "shell.execute_reply.started": "2023-11-29T13:44:01.025755Z"
    }
   },
   "outputs": [
    {
     "name": "stdout",
     "output_type": "stream",
     "text": [
      "torch.return_types.max(\n",
      "values=tensor([0.5354, 0.5724, 0.3859, 0.4725, 0.5252, 0.4869, 0.3455, 0.6558, 0.4760,\n",
      "        0.5291, 0.3443, 0.5165, 0.4118, 0.6291, 0.5650, 0.6453, 0.4838, 0.5928,\n",
      "        0.4912, 0.3773, 0.5043, 0.3676, 0.5466, 0.3799, 0.5616, 0.5090, 0.3707,\n",
      "        0.6437, 0.5380, 0.3836, 0.4206, 0.4166, 0.6649, 0.5834, 0.5787, 0.5880,\n",
      "        0.3667, 0.5574, 0.5782, 0.5697, 0.3973, 0.4210, 0.4949, 0.4530, 0.4167,\n",
      "        0.4054, 0.4340, 0.6754, 0.4770, 0.6259, 0.3851, 0.4450, 0.5748, 0.5234,\n",
      "        0.6211, 0.5031, 0.5050, 0.4549, 0.4519, 0.6746, 0.5277, 0.5786, 0.5062,\n",
      "        0.4938], device='cuda:0', grad_fn=<MaxBackward0>),\n",
      "indices=tensor([4, 4, 4, 4, 4, 4, 2, 4, 4, 4, 6, 4, 4, 4, 4, 4, 6, 6, 4, 4, 4, 4, 4, 4,\n",
      "        4, 4, 6, 4, 4, 4, 2, 2, 4, 2, 4, 4, 4, 4, 4, 4, 4, 4, 4, 2, 4, 4, 4, 4,\n",
      "        4, 6, 2, 4, 4, 2, 4, 2, 6, 2, 4, 4, 4, 4, 4, 2], device='cuda:0'))\n"
     ]
    }
   ],
   "source": [
    "#random Gaussian noise fed into an image classifier gives a “prediction confidence” or predicted class probability of 91%\n",
    "noise = torch.randn(64,3,32,32).to(device)\n",
    "prob = torch.softmax(model(noise), axis=1)\n",
    "print(torch.max(prob,axis=1))"
   ]
  },
  {
   "cell_type": "code",
   "execution_count": 6,
   "id": "8691bd49-5b3f-4501-913c-a0af269b6013",
   "metadata": {
    "execution": {
     "iopub.execute_input": "2023-11-29T13:44:01.063920Z",
     "iopub.status.busy": "2023-11-29T13:44:01.063593Z",
     "iopub.status.idle": "2023-11-29T13:44:04.004749Z",
     "shell.execute_reply": "2023-11-29T13:44:04.004071Z",
     "shell.execute_reply.started": "2023-11-29T13:44:01.063895Z"
    }
   },
   "outputs": [],
   "source": [
    "%reload_ext autoreload\n",
    "%autoreload 2"
   ]
  },
  {
   "cell_type": "markdown",
   "id": "b66963b2-e151-49a7-b759-386dd8c3793b",
   "metadata": {
    "execution": {
     "iopub.execute_input": "2023-11-09T03:56:00.712136Z",
     "iopub.status.busy": "2023-11-09T03:56:00.711578Z"
    }
   },
   "source": [
    "### Test time augmentation"
   ]
  },
  {
   "cell_type": "code",
   "execution_count": null,
   "id": "6e7a0256-bacf-41f7-a2f0-661763956f2d",
   "metadata": {
    "execution": {
     "iopub.execute_input": "2023-11-29T13:44:04.006001Z",
     "iopub.status.busy": "2023-11-29T13:44:04.005699Z"
    }
   },
   "outputs": [
    {
     "name": "stdout",
     "output_type": "stream",
     "text": [
      " * Time 0.321 Acc@1 94.780\n"
     ]
    }
   ],
   "source": [
    "datanames = [\"cifar10\",\"mnist\", \"fashionmnist\",\"svhn\"]\n",
    "probs_list = []\n",
    "targets_list = []\n",
    "for dataname in datanames:\n",
    "    val_transform = transforms.Compose(\n",
    "        [\n",
    "            transforms.PILToTensor(), #返回torch.uint8\n",
    "            transforms.Resize([32,32]),\n",
    "        ]\n",
    "    )\n",
    "    if dataname==\"mnist\" or dataname==\"fashionmnist\":\n",
    "        val_transform.transforms.insert(1,transforms.Lambda(lambda x:x.repeat(3,1,1)))\n",
    "    _, val_dataset = get_dataset(dataname,\"../data\",None,val_transform)\n",
    "    val_loader = torch.utils.data.DataLoader(\n",
    "        val_dataset, batch_size=128, shuffle=False,\n",
    "        num_workers=4, pin_memory=True)\n",
    "\n",
    "    probs, targets = test_time_aug_predict(val_loader, model, device)\n",
    "    probs_list.append(probs.cpu().detach().numpy())\n",
    "    targets_list.append(targets.cpu().detach().numpy())"
   ]
  },
  {
   "cell_type": "markdown",
   "id": "653cad32-e9be-4bb3-af47-f3ddf72b8162",
   "metadata": {},
   "source": [
    "#### misclassified"
   ]
  },
  {
   "cell_type": "code",
   "execution_count": null,
   "id": "c7e8dc62-9c9f-4067-badf-eae80f43aad3",
   "metadata": {},
   "outputs": [],
   "source": [
    "print(probs_list[0].shape)"
   ]
  },
  {
   "cell_type": "code",
   "execution_count": null,
   "id": "577d15bb-8c58-4048-9a1c-68bee8684c0e",
   "metadata": {},
   "outputs": [],
   "source": [
    "cifar10_mi =  mutual_info(probs_list[0])*-1\n",
    "cifar10_probs = np.mean(probs_list[0],axis=1)\n",
    "cifar10_target = targets_list[0]"
   ]
  },
  {
   "cell_type": "code",
   "execution_count": null,
   "id": "642478a4-6cb0-4435-a12e-81bcb6bf64b1",
   "metadata": {},
   "outputs": [],
   "source": [
    "cifar10_pred = np.argmax(cifar10_probs,axis=1)\n",
    "labels = (cifar10_pred == cifar10_target).astype(int)#正确分类标为1，误分类标为0\n",
    "random_pred = np.random.rand(labels.shape[0])"
   ]
  },
  {
   "cell_type": "code",
   "execution_count": null,
   "id": "2417847e-3905-4919-9bc0-1abf8ca3a150",
   "metadata": {},
   "outputs": [],
   "source": [
    "succ_mi_mean = cifar10_mi[labels==1].mean()\n",
    "err_mi_mean = cifar10_mi[labels==0].mean()\n",
    "print(f\"正确分类样本数{labels.sum()},平均MI:{succ_mi_mean:.3f}\\n错误分类样本数{(1-labels).sum()},平均MI:{err_mi_mean:.3f}\")"
   ]
  },
  {
   "cell_type": "code",
   "execution_count": null,
   "id": "fb40b062-18f6-421a-b866-533f76691c19",
   "metadata": {},
   "outputs": [],
   "source": [
    "cifar10_ent = predictive_entropy(probs_list[0])*-1\n",
    "succ_ent_mean = cifar10_ent[labels==1].mean()\n",
    "err_ent_mean = cifar10_ent[labels==0].mean()\n",
    "print(f\"正确分类样本数{labels.sum()},平均AU:{succ_ent_mean:.3f}\\n错误分类样本数{(1-labels).sum()},平均AU:{err_ent_mean:.3f}\")"
   ]
  },
  {
   "cell_type": "code",
   "execution_count": null,
   "id": "1c21936d-cebe-4dcd-88ce-b22fa01493df",
   "metadata": {},
   "outputs": [],
   "source": [
    "fig, axes = plt.subplots(2,3, figsize=(20, 12))\n",
    "plot_roc(axes[0][0], labels,cifar10_mi,\"mi/succ\")\n",
    "plot_pr(axes[0][1],labels,random_pred,\"random/succ\")\n",
    "plot_pr(axes[0][2],labels,cifar10_mi,\"mi/succ\")\n",
    "plot_roc(axes[1][0], labels,cifar10_ent,\"entropy/succ\")\n",
    "plot_pr(axes[1][1],labels,random_pred,\"random/succ\")\n",
    "plot_pr(axes[1][2],labels,cifar10_ent,\"entropy/succ\")\n",
    "plt.tight_layout()"
   ]
  },
  {
   "cell_type": "code",
   "execution_count": null,
   "id": "66782a31-f827-41f2-98e7-10731be1c267",
   "metadata": {},
   "outputs": [],
   "source": [
    "labels2 = (cifar10_pred != cifar10_target).astype(int)#误分类标为1，正确分类标为0\n",
    "cifar10_mi2 = -cifar10_mi\n",
    "random_pred2 = -random_pred\n",
    "cifar10_ent2 = -cifar10_ent "
   ]
  },
  {
   "cell_type": "code",
   "execution_count": null,
   "id": "d87d2ebb-3fe7-4d6f-8703-d303a8e44fb7",
   "metadata": {},
   "outputs": [],
   "source": [
    "fig, axes = plt.subplots(2,3, figsize=(20, 12))\n",
    "plot_roc(axes[0][0], labels2,cifar10_mi2,\"mi/err\")\n",
    "plot_pr(axes[0][1],labels2,random_pred2,\"random/err\")\n",
    "plot_pr(axes[0][2],labels2,cifar10_mi2,\"mi/err\")\n",
    "plot_roc(axes[1][0], labels2,cifar10_ent2,\"entropy/err\")\n",
    "plot_pr(axes[1][1],labels2,random_pred2,\"random/err\")\n",
    "plot_pr(axes[1][2],labels2,cifar10_ent2,\"entropy/err\")\n",
    "plt.tight_layout()"
   ]
  },
  {
   "cell_type": "markdown",
   "id": "7db56f71-65e8-4b64-87c6-7535e9d1a35b",
   "metadata": {},
   "source": [
    "#### OOD"
   ]
  },
  {
   "cell_type": "code",
   "execution_count": null,
   "id": "5088a980-de83-4b9b-b6d5-7b6e21989476",
   "metadata": {},
   "outputs": [],
   "source": [
    "mi_list = []\n",
    "for i, probs in enumerate(probs_list):\n",
    "    mi = mutual_info(probs)\n",
    "    mi_list.append(mi)"
   ]
  },
  {
   "cell_type": "code",
   "execution_count": null,
   "id": "ac458af9-cc58-4a9e-9f5a-d1ddcc2d1b42",
   "metadata": {},
   "outputs": [],
   "source": [
    "ent_list = []\n",
    "for i, probs in enumerate(probs_list):\n",
    "    ent = predictive_entropy(probs)\n",
    "    ent_list.append(ent)"
   ]
  },
  {
   "cell_type": "code",
   "execution_count": null,
   "id": "0b06c420-64de-4aa6-88aa-48da67cc81d6",
   "metadata": {},
   "outputs": [],
   "source": [
    "#绘制mi,熵的分布\n",
    "fig, axes = plt.subplots(1,2, figsize=(13, 6))\n",
    "plot_dist(axes[0],mi_list,datanames,\"mi\")\n",
    "plot_dist(axes[1], ent_list,datanames,\"entropy\")\n",
    "plt.tight_layout()"
   ]
  },
  {
   "cell_type": "code",
   "execution_count": null,
   "id": "f91281f7-f343-4383-85b2-5cf11c84a136",
   "metadata": {},
   "outputs": [],
   "source": [
    "#绘制小提琴图\n",
    "fig, axes = plt.subplots(1,4, figsize=(25, 6))\n",
    "plot_violin(axes,mi_list,datanames,\"mi\")\n",
    "fig, axes = plt.subplots(1,4, figsize=(25, 6))\n",
    "plot_violin(axes, ent_list,datanames,\"entropy\")\n",
    "plt.tight_layout()"
   ]
  },
  {
   "cell_type": "code",
   "execution_count": null,
   "id": "78de7906-80db-4931-81b1-fdf392c0ec83",
   "metadata": {},
   "outputs": [],
   "source": [
    "#IND样本视为正样本， mnist样本视为负样本\n",
    "ood_idx=1\n",
    "print(f\"cifar10 test nums:{len(mi_list[0])},mnist test nums:{len(mi_list[1])}\")\n",
    "labels = [1]*len(mi_list[0])+[0]*len(mi_list[ood_idx])\n",
    "mi = np.concatenate([mi_list[0],mi_list[ood_idx]])*-1\n",
    "ent = np.concatenate([ent_list[0],ent_list[ood_idx]])*-1\n",
    "random_pred = np.random.rand(len(labels))*-1"
   ]
  },
  {
   "cell_type": "code",
   "execution_count": null,
   "id": "f6311ab8-dc28-478f-9a28-efe25e59f521",
   "metadata": {},
   "outputs": [],
   "source": [
    "fig, axes = plt.subplots(2,3, figsize=(20, 12))\n",
    "plot_roc(axes[0][0], labels,mi,\"mi/ind\")\n",
    "plot_pr(axes[0][1],labels,random_pred,\"random/ind\")\n",
    "plot_pr(axes[0][2],labels,mi,\"mi/ind\")\n",
    "plot_roc(axes[1][0], labels,ent,\"entropy/ind\")\n",
    "plot_pr(axes[1][1],labels,random_pred,\"random/ind\")\n",
    "plot_pr(axes[1][2],labels,ent,\"entropy/ind\")\n",
    "plt.tight_layout()"
   ]
  },
  {
   "cell_type": "code",
   "execution_count": null,
   "id": "2c2e7fa2-7d37-4100-8b23-6d1ba944fb90",
   "metadata": {},
   "outputs": [],
   "source": [
    "#IND样本视为负样本， mnist样本视为正样本\n",
    "labels2 = [0]*len(mi_list[0])+[1]*len(mi_list[1])\n",
    "mi2 =  -mi\n",
    "ent2 = -ent\n",
    "random_pred2 = -random_pred"
   ]
  },
  {
   "cell_type": "code",
   "execution_count": null,
   "id": "2b23495f-6263-4f5c-875e-374cea7266b7",
   "metadata": {},
   "outputs": [],
   "source": [
    "fig, axes = plt.subplots(2,3, figsize=(20, 12))\n",
    "plot_roc(axes[0][0], labels2,mi2,\"mi/ood\")\n",
    "plot_pr(axes[0][1],labels2,random_pred2,\"random/ood\")\n",
    "plot_pr(axes[0][2],labels2,mi2,\"mi/ood\")\n",
    "plot_roc(axes[1][0], labels2,ent2,\"entropy/ood\")\n",
    "plot_pr(axes[1][1],labels2,random_pred2,\"random/ood\")\n",
    "plot_pr(axes[1][2],labels2,ent2,\"entropy/ood\")\n",
    "plt.tight_layout()"
   ]
  },
  {
   "cell_type": "markdown",
   "id": "de7e6346-fbf8-4361-9be7-0af11ae70696",
   "metadata": {
    "execution": {
     "iopub.execute_input": "2023-11-27T06:55:34.560744Z",
     "iopub.status.busy": "2023-11-27T06:55:34.560301Z"
    }
   },
   "source": [
    "#### advasarial attack"
   ]
  },
  {
   "cell_type": "code",
   "execution_count": null,
   "id": "028a55d4-486d-4dd0-a722-c090ccf3d084",
   "metadata": {},
   "outputs": [],
   "source": [
    "val_transform = transforms.Compose(\n",
    "    [\n",
    "        transforms.PILToTensor(), #返回torch.uint8\n",
    "        transforms.Resize([32,32]),\n",
    "    ]\n",
    ")\n",
    "_, val_dataset = get_dataset(\"cifar10\",\"../data\",None,val_transform)\n",
    "val_loader = torch.utils.data.DataLoader(\n",
    "    val_dataset, batch_size=1, shuffle=False,\n",
    "    num_workers=4, pin_memory=True)"
   ]
  },
  {
   "cell_type": "code",
   "execution_count": null,
   "id": "b1c1e6a8-5775-4c15-86b3-5869e82133da",
   "metadata": {},
   "outputs": [],
   "source": [
    "adv_probs_list = []\n",
    "origin_probs_list = []\n",
    "method = \"pgd\"\n",
    "epsilon = 0.01\n",
    "correct = 0\n",
    "err = 0\n",
    "num_correct=0\n",
    "num_monte_carlo = 20\n",
    "tta_num = 10\n",
    "tta_transform = transforms.Compose(\n",
    "            [\n",
    "                # transforms.AutoAugment(policy=transforms.AutoAugmentPolicy(\n",
    "                #     'cifar10'), interpolation=transforms.InterpolationMode.BILINEAR),##效果不好\n",
    "                transforms.RandomCrop(32, padding=4),\n",
    "                transforms.RandomHorizontalFlip(),\n",
    "                transforms.ConvertImageDtype(torch.float),\n",
    "                transforms.Normalize(\n",
    "                    (0.4914, 0.4822, 0.4465),\n",
    "                    (0.2023, 0.1994, 0.2010)),\n",
    "            ]\n",
    "        )\n",
    "for images, targets in tqdm(val_loader):\n",
    "    images, targets = images.to(device), targets.to(device)\n",
    "    \n",
    "    origin_outputs = []\n",
    "    for i in range(tta_num):\n",
    "        images_ = tta_transform(images)\n",
    "        prob = torch.softmax(model(images_), axis=1)\n",
    "        origin_outputs.append(prob)\n",
    "    origin_outputs = torch.stack(origin_outputs, dim=0)\n",
    "    origin_prob_mean = torch.mean(origin_outputs, dim=0)\n",
    "    _, origin_pred = torch.max(origin_prob_mean,axis=1)\n",
    "    # num_correct += (origin_pred == targets).sum().item()\n",
    "    if origin_pred.item() != targets.item():\n",
    "        err += 1\n",
    "        continue\n",
    "\n",
    "    if method == \"fgsm\":\n",
    "        perturbed_images = fgsm_attack(model, images, targets, epsilon)\n",
    "    elif method == \"pgd\":\n",
    "        perturbed_images = pgd_attack(model, images, targets, epsilon)\n",
    "\n",
    "    adv_outputs = []\n",
    "    for i in range(tta_num):\n",
    "        images_ = tta_transform(perturbed_images)\n",
    "        prob = torch.softmax(model(images_), axis=1)\n",
    "        adv_outputs.append(prob)\n",
    "    adv_outputs = torch.stack(adv_outputs, dim=0)\n",
    "    adv_prob_mean = torch.mean(adv_outputs, dim=0)\n",
    "    _, adv_pred = adv_prob_mean.max(1, keepdim=True)\n",
    "    adv_probs_list.append(adv_outputs.cpu().detach().numpy())\n",
    "    origin_probs_list.append(origin_outputs.cpu().detach().numpy())\n",
    "\n",
    "    if adv_pred.item() == targets.item():\n",
    "        correct += 1\n",
    "\n",
    "adv_acc = correct/float(len(val_loader)-err)\n",
    "print(\n",
    "    f\"Epsilon: {epsilon}\\tTest Accuracy = {correct} / {len(val_loader)} = {adv_acc}\\tIgnore err = {err}\")"
   ]
  },
  {
   "cell_type": "code",
   "execution_count": null,
   "id": "c91f6cc6-1780-4d97-a444-4fbe4f5378af",
   "metadata": {},
   "outputs": [],
   "source": [
    "adv_probs = np.concatenate(adv_probs_list,axis=1).transpose(1,0,2)\n",
    "origin_probs = np.concatenate(origin_probs_list,axis=1).transpose(1,0,2)\n",
    "print(adv_probs.shape,origin_probs.shape)"
   ]
  },
  {
   "cell_type": "code",
   "execution_count": null,
   "id": "75447108-0ba8-46e6-adc3-df7fd85f2102",
   "metadata": {},
   "outputs": [],
   "source": [
    "mi_list = []\n",
    "for i, probs in enumerate([origin_probs,adv_probs]):\n",
    "    mi_list.append(mutual_info(probs))"
   ]
  },
  {
   "cell_type": "code",
   "execution_count": null,
   "id": "cfdddd2a-5ce2-48b0-8406-0cea7b3923af",
   "metadata": {},
   "outputs": [],
   "source": [
    "ent_list = []\n",
    "for i, probs in enumerate([origin_probs,adv_probs]):\n",
    "    ent = predictive_entropy(probs)\n",
    "    ent_list.append(ent)"
   ]
  },
  {
   "cell_type": "code",
   "execution_count": null,
   "id": "0804ea92-70c1-4756-9f45-f4079ce79525",
   "metadata": {},
   "outputs": [],
   "source": [
    "fig, axes = plt.subplots(1,2, figsize=(13, 6))\n",
    "plot_dist(axes[0],mi_list,[\"original\",\"advasarial\"],\"mi\")\n",
    "plot_dist(axes[1], ent_list,[\"original\",\"advasarial\"],\"entropy\")\n",
    "plt.tight_layout()"
   ]
  },
  {
   "cell_type": "code",
   "execution_count": null,
   "id": "ca2d1c95-1b21-483f-9777-c6f914d34868",
   "metadata": {},
   "outputs": [],
   "source": [
    "#原始样本视为正样本， 攻击样本视为负样本\n",
    "labels = [1]*len(mi_list[0])+[0]*len(mi_list[1])\n",
    "mi = np.concatenate([mi_list[0],mi_list[1]])*-1\n",
    "ent = np.concatenate([ent_list[0],ent_list[1]])*-1\n",
    "random_pred = np.random.rand(len(labels))*-1"
   ]
  },
  {
   "cell_type": "code",
   "execution_count": null,
   "id": "9740e319-2b84-48c0-a4d3-328974dab954",
   "metadata": {},
   "outputs": [],
   "source": [
    "fig, axes = plt.subplots(2,3, figsize=(20, 12))\n",
    "plot_roc(axes[0][0], labels,mi,\"mi/origin\")\n",
    "plot_pr(axes[0][1],labels,random_pred,\"random/origin\")\n",
    "plot_pr(axes[0][2],labels,mi,\"mi/origin\")\n",
    "plot_roc(axes[1][0], labels,ent,\"entropy/origin\")\n",
    "plot_pr(axes[1][1],labels,random_pred,\"random/origin\")\n",
    "plot_pr(axes[1][2],labels,ent,\"entropy/origin\")\n",
    "plt.tight_layout()"
   ]
  },
  {
   "cell_type": "code",
   "execution_count": null,
   "id": "41f44a63-634f-4a9a-afc9-6248abb34e32",
   "metadata": {},
   "outputs": [],
   "source": [
    "#原始样本视为正样本， 攻击样本视为负样本\n",
    "labels2 = [0]*len(mi_list[0])+[1]*len(mi_list[1])\n",
    "mi2 =  -mi\n",
    "ent2 = -ent\n",
    "random_pred2 = -random_pred"
   ]
  },
  {
   "cell_type": "code",
   "execution_count": null,
   "id": "f998e7d1-ded3-451c-a3ee-7896f93574fd",
   "metadata": {},
   "outputs": [],
   "source": [
    "fig, axes = plt.subplots(2,3, figsize=(20, 12))\n",
    "plot_roc(axes[0][0], labels2,mi2,\"mi/adv\")\n",
    "plot_pr(axes[0][1],labels2,random_pred2,\"random/adv\")\n",
    "plot_pr(axes[0][2],labels2,mi2,\"mi/adv\")\n",
    "plot_roc(axes[1][0], labels2,ent2,\"entropy/adv\")\n",
    "plot_pr(axes[1][1],labels2,random_pred2,\"random/adv\")\n",
    "plot_pr(axes[1][2],labels2,ent2,\"entropy/adv\")\n",
    "plt.tight_layout()"
   ]
  }
 ],
 "metadata": {
  "kernelspec": {
   "display_name": "Python 3 (ipykernel)",
   "language": "python",
   "name": "python3"
  },
  "language_info": {
   "codemirror_mode": {
    "name": "ipython",
    "version": 3
   },
   "file_extension": ".py",
   "mimetype": "text/x-python",
   "name": "python",
   "nbconvert_exporter": "python",
   "pygments_lexer": "ipython3",
   "version": "3.8.18"
  }
 },
 "nbformat": 4,
 "nbformat_minor": 5
}
