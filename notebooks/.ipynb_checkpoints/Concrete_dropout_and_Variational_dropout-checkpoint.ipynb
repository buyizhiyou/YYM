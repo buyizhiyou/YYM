{
 "cells": [
  {
   "cell_type": "markdown",
   "metadata": {},
   "source": [
    "# 1. Define Concrete Dropout and Variational Dropout"
   ]
  },
  {
   "cell_type": "code",
   "execution_count": 20,
   "metadata": {
    "execution": {
     "iopub.execute_input": "2023-11-01T08:37:46.188571Z",
     "iopub.status.busy": "2023-11-01T08:37:46.188211Z",
     "iopub.status.idle": "2023-11-01T08:37:46.191862Z",
     "shell.execute_reply": "2023-11-01T08:37:46.191389Z",
     "shell.execute_reply.started": "2023-11-01T08:37:46.188543Z"
    }
   },
   "outputs": [],
   "source": [
    "import torch\n",
    "import torch.nn as nn\n",
    "import torch.nn.functional as F"
   ]
  },
  {
   "cell_type": "code",
   "execution_count": 21,
   "metadata": {
    "execution": {
     "iopub.execute_input": "2023-11-01T08:37:46.193436Z",
     "iopub.status.busy": "2023-11-01T08:37:46.192963Z",
     "iopub.status.idle": "2023-11-01T08:37:46.204751Z",
     "shell.execute_reply": "2023-11-01T08:37:46.204302Z",
     "shell.execute_reply.started": "2023-11-01T08:37:46.193416Z"
    }
   },
   "outputs": [],
   "source": [
    "class ConcreteDropout(nn.Module):\n",
    "    def __init__(self, p_logit=-2.0, temp=0.01, eps=1e-8):\n",
    "        super(ConcreteDropout, self).__init__()\n",
    "        self.p_logit = nn.Parameter(torch.Tensor([p_logit]))\n",
    "        self.temp = temp\n",
    "        self.eps = eps\n",
    "\n",
    "    @property\n",
    "    def p(self):\n",
    "        return torch.sigmoid(self.p_logit)\n",
    "\n",
    "    def forward(self, x):\n",
    "        if self.train():\n",
    "            unif_noise = torch.rand_like(x)\n",
    "            drop_prob = (\n",
    "                torch.log(self.p + self.eps)\n",
    "                - torch.log(1 - self.p + self.eps)\n",
    "                + torch.log(unif_noise + self.eps)\n",
    "                - torch.log(1 - unif_noise + self.eps)\n",
    "            )\n",
    "            drop_prob = torch.sigmoid(drop_prob / self.temp)\n",
    "            random_tensor = 1.0 - drop_prob\n",
    "            retain_prob = 1.0 - self.p\n",
    "            x *= random_tensor\n",
    "            x /= retain_prob\n",
    "        return x"
   ]
  },
  {
   "cell_type": "code",
   "execution_count": 22,
   "metadata": {
    "execution": {
     "iopub.execute_input": "2023-11-01T08:37:46.207638Z",
     "iopub.status.busy": "2023-11-01T08:37:46.207209Z",
     "iopub.status.idle": "2023-11-01T08:37:46.213878Z",
     "shell.execute_reply": "2023-11-01T08:37:46.213414Z",
     "shell.execute_reply.started": "2023-11-01T08:37:46.207618Z"
    }
   },
   "outputs": [
    {
     "name": "stdout",
     "output_type": "stream",
     "text": [
      "tensor([[1.1353, 1.1353, 0.0000, 1.1353, 1.1353, 1.1353, 1.1353, 1.1353, 0.0000,\n",
      "         1.1353]], grad_fn=<DivBackward0>)\n",
      "tensor([[1.1111, 1.1111, 1.1111, 1.1111, 1.1111, 1.1111, 1.1111, 0.0000, 0.0000,\n",
      "         1.1111]])\n"
     ]
    }
   ],
   "source": [
    "cdrop = ConcreteDropout()\n",
    "drop = nn.Dropout(p=0.1)\n",
    "input = torch.ones([1, 10])\n",
    "output1 = cdrop(input)\n",
    "input = torch.ones([1, 10])\n",
    "output2 = drop(input)\n",
    "print(output1)\n",
    "print(output2)"
   ]
  },
  {
   "cell_type": "code",
   "execution_count": 23,
   "metadata": {
    "execution": {
     "iopub.execute_input": "2023-11-01T08:37:46.215046Z",
     "iopub.status.busy": "2023-11-01T08:37:46.214646Z",
     "iopub.status.idle": "2023-11-01T08:37:46.219766Z",
     "shell.execute_reply": "2023-11-01T08:37:46.219266Z",
     "shell.execute_reply.started": "2023-11-01T08:37:46.215025Z"
    }
   },
   "outputs": [],
   "source": [
    "class VariationalDropout(nn.Module):\n",
    "    def __init__(self, log_alpha=-3.0):\n",
    "        super(VariationalDropout, self).__init__()\n",
    "        self.max_log_alpha = 0.0\n",
    "        self.log_alpha = nn.Parameter(torch.Tensor([log_alpha]))\n",
    "\n",
    "    @property\n",
    "    def alpha(self):\n",
    "        return torch.exp(self.log_alpha)\n",
    "\n",
    "    def forward(self, x):\n",
    "        if self.train():\n",
    "            normal_noise = torch.randn_like(x)\n",
    "            self.log_alpha.data = torch.clamp(\n",
    "                self.log_alpha.data, max=self.max_log_alpha\n",
    "            )\n",
    "            random_tensor = 1.0 + normal_noise * torch.sqrt(self.alpha)\n",
    "            x *= random_tensor\n",
    "        return x"
   ]
  },
  {
   "cell_type": "markdown",
   "metadata": {},
   "source": [
    "# 2. Loading and normalizing CIFAR-10"
   ]
  },
  {
   "cell_type": "code",
   "execution_count": 24,
   "metadata": {
    "execution": {
     "iopub.execute_input": "2023-11-01T08:37:46.221490Z",
     "iopub.status.busy": "2023-11-01T08:37:46.221028Z",
     "iopub.status.idle": "2023-11-01T08:37:46.226097Z",
     "shell.execute_reply": "2023-11-01T08:37:46.225559Z",
     "shell.execute_reply.started": "2023-11-01T08:37:46.221461Z"
    }
   },
   "outputs": [],
   "source": [
    "import torch\n",
    "import torchvision\n",
    "import torchvision.transforms as transforms"
   ]
  },
  {
   "cell_type": "code",
   "execution_count": 25,
   "metadata": {
    "execution": {
     "iopub.execute_input": "2023-11-01T08:37:46.227358Z",
     "iopub.status.busy": "2023-11-01T08:37:46.226891Z",
     "iopub.status.idle": "2023-11-01T08:37:48.281304Z",
     "shell.execute_reply": "2023-11-01T08:37:48.280676Z",
     "shell.execute_reply.started": "2023-11-01T08:37:46.227337Z"
    }
   },
   "outputs": [
    {
     "name": "stdout",
     "output_type": "stream",
     "text": [
      "Files already downloaded and verified\n",
      "Files already downloaded and verified\n",
      "train set size: 50000\n",
      "log freq: 50\n",
      "test set size: 10000\n"
     ]
    }
   ],
   "source": [
    "batch_size = 1000\n",
    "\n",
    "train_transform = transforms.Compose(\n",
    "    [\n",
    "        transforms.RandomCrop(32, padding=4),\n",
    "        transforms.RandomHorizontalFlip(),\n",
    "        transforms.ToTensor(),\n",
    "        transforms.Normalize((0.4914, 0.4822, 0.4465), (0.2023, 0.1994, 0.2010)),\n",
    "    ]\n",
    ")\n",
    "\n",
    "test_transform = transforms.Compose(\n",
    "    [\n",
    "        transforms.ToTensor(),\n",
    "        transforms.Normalize((0.4914, 0.4822, 0.4465), (0.2023, 0.1994, 0.2010)),\n",
    "    ]\n",
    ")\n",
    "\n",
    "trainset = torchvision.datasets.CIFAR10(\n",
    "    root=\"../data\", train=True, download=True, transform=train_transform\n",
    ")\n",
    "trainloader = torch.utils.data.DataLoader(\n",
    "    trainset, batch_size=batch_size, shuffle=True, num_workers=4\n",
    ")\n",
    "\n",
    "testset = torchvision.datasets.CIFAR10(\n",
    "    root=\"../data\", train=False, download=True, transform=test_transform\n",
    ")\n",
    "testloader = torch.utils.data.DataLoader(\n",
    "    testset, batch_size=batch_size, shuffle=False, num_workers=4\n",
    ")\n",
    "\n",
    "classes = (\n",
    "    \"plane\",\n",
    "    \"car\",\n",
    "    \"bird\",\n",
    "    \"cat\",\n",
    "    \"deer\",\n",
    "    \"dog\",\n",
    "    \"frog\",\n",
    "    \"horse\",\n",
    "    \"ship\",\n",
    "    \"truck\",\n",
    ")\n",
    "print(\"train set size: {}\".format(len(trainset)))\n",
    "log_freq = len(trainset) // batch_size\n",
    "print(\"log freq: {}\".format(log_freq))\n",
    "print(\"test set size: {}\".format(len(testset)))"
   ]
  },
  {
   "cell_type": "code",
   "execution_count": 26,
   "metadata": {
    "execution": {
     "iopub.execute_input": "2023-11-01T08:37:48.283140Z",
     "iopub.status.busy": "2023-11-01T08:37:48.282428Z",
     "iopub.status.idle": "2023-11-01T08:37:48.287966Z",
     "shell.execute_reply": "2023-11-01T08:37:48.287518Z",
     "shell.execute_reply.started": "2023-11-01T08:37:48.283115Z"
    }
   },
   "outputs": [],
   "source": [
    "import matplotlib.pyplot as plt\n",
    "import numpy as np\n",
    "import seaborn as sns\n",
    "\n",
    "%matplotlib inline"
   ]
  },
  {
   "cell_type": "code",
   "execution_count": 27,
   "metadata": {
    "execution": {
     "iopub.execute_input": "2023-11-01T08:37:48.289730Z",
     "iopub.status.busy": "2023-11-01T08:37:48.289435Z",
     "iopub.status.idle": "2023-11-01T08:37:48.300471Z",
     "shell.execute_reply": "2023-11-01T08:37:48.300037Z",
     "shell.execute_reply.started": "2023-11-01T08:37:48.289709Z"
    }
   },
   "outputs": [],
   "source": [
    "def imshow(img):\n",
    "    img = img / 2 + 0.5  # unnormalize\n",
    "    npimg = img.numpy()\n",
    "    plt.imshow(np.transpose(npimg, (1, 2, 0)))\n",
    "    plt.show()"
   ]
  },
  {
   "cell_type": "code",
   "execution_count": 28,
   "metadata": {
    "execution": {
     "iopub.execute_input": "2023-11-01T08:37:48.301664Z",
     "iopub.status.busy": "2023-11-01T08:37:48.301116Z",
     "iopub.status.idle": "2023-11-01T08:37:49.195184Z",
     "shell.execute_reply": "2023-11-01T08:37:49.194448Z",
     "shell.execute_reply.started": "2023-11-01T08:37:48.301645Z"
    }
   },
   "outputs": [
    {
     "name": "stderr",
     "output_type": "stream",
     "text": [
      "Clipping input data to the valid range for imshow with RGB data ([0..1] for floats or [0..255] for integers).\n"
     ]
    },
    {
     "name": "stdout",
     "output_type": "stream",
     "text": [
      "torch.Size([1000, 3, 32, 32])\n"
     ]
    },
    {
     "data": {
      "image/png": "[encoded data removed]",
      "text/plain": [
       "<Figure size 640x480 with 1 Axes>"
      ]
     },
     "metadata": {},
     "output_type": "display_data"
    },
    {
     "name": "stdout",
     "output_type": "stream",
     "text": [
      "  car  deer plane  frog\n"
     ]
    }
   ],
   "source": [
    "# get some random training images\n",
    "dataiter = iter(trainloader)\n",
    "images, labels = dataiter.next()\n",
    "print(images.shape)\n",
    "\n",
    "# show images\n",
    "imshow(torchvision.utils.make_grid(images[:4]))\n",
    "# print labels\n",
    "print(\" \".join(\"%5s\" % classes[labels[j]] for j in range(4)))"
   ]
  },
  {
   "cell_type": "markdown",
   "metadata": {},
   "source": [
    "# 3. Define Lenet with/without dropout"
   ]
  },
  {
   "cell_type": "code",
   "execution_count": 29,
   "metadata": {
    "execution": {
     "iopub.execute_input": "2023-11-01T08:37:49.196665Z",
     "iopub.status.busy": "2023-11-01T08:37:49.196397Z",
     "iopub.status.idle": "2023-11-01T08:37:49.226289Z",
     "shell.execute_reply": "2023-11-01T08:37:49.225526Z",
     "shell.execute_reply.started": "2023-11-01T08:37:49.196639Z"
    }
   },
   "outputs": [],
   "source": [
    "# Lenet with Concrete dropout\n",
    "class Net_CDO(nn.Module):\n",
    "    def __init__(self, weight_reg_coef=5e-4, dropout_reg_coef=1e-2):\n",
    "        super(Net_CDO, self).__init__()\n",
    "        self.conv1 = nn.Conv2d(3, 192, 5, padding=2)\n",
    "        self.pool = nn.MaxPool2d(2, 2)\n",
    "        self.conv2 = nn.Conv2d(192, 192, 5, padding=2)\n",
    "        self.fc1 = nn.Linear(192 * 8 * 8, 1024)\n",
    "        self.fc2 = nn.Linear(1024, 256)\n",
    "        self.fc3 = nn.Linear(256, 10)\n",
    "        self.leaky_relu = nn.LeakyReLU(negative_slope=0.2)\n",
    "        self.cdropout1 = ConcreteDropout()\n",
    "        self.cdropout2 = ConcreteDropout()\n",
    "        self.cdropout3 = ConcreteDropout()\n",
    "        self.cdropout4 = ConcreteDropout()\n",
    "        self.weight_reg_coef = weight_reg_coef\n",
    "        self.dropout_reg_coef = dropout_reg_coef\n",
    "\n",
    "        nn.init.xavier_uniform_(self.conv1.weight)\n",
    "        nn.init.constant_(self.conv1.bias, 0.0)\n",
    "        nn.init.xavier_uniform_(self.conv2.weight)\n",
    "        nn.init.constant_(self.conv2.bias, 0.0)\n",
    "        nn.init.xavier_uniform_(self.fc1.weight)\n",
    "        nn.init.constant_(self.fc1.bias, 0.0)\n",
    "        nn.init.xavier_uniform_(self.fc2.weight)\n",
    "        nn.init.constant_(self.fc2.bias, 0.0)\n",
    "        nn.init.xavier_uniform_(self.fc3.weight)\n",
    "        nn.init.constant_(self.fc3.bias, 0.0)\n",
    "\n",
    "    def forward(self, x):\n",
    "        x = self.pool(self.leaky_relu(self.cdropout1(self.conv1(x))))\n",
    "        x = self.pool(self.leaky_relu(self.cdropout2(self.conv2(x))))\n",
    "        x = x.view(-1, 192 * 8 * 8)\n",
    "        x = self.leaky_relu(self.cdropout3(self.fc1(x)))\n",
    "        x = self.leaky_relu(self.cdropout4(self.fc2(x)))\n",
    "        x = F.softmax(self.fc3(x), dim=1)\n",
    "        return x\n",
    "\n",
    "    def entropy(self, cdropout):\n",
    "        return -cdropout.p * torch.log(cdropout.p + 1e-8) - (\n",
    "            1 - cdropout.p\n",
    "        ) * torch.log(1 - cdropout.p + 1e-8)\n",
    "\n",
    "    def calc_reg(self):\n",
    "        weight_reg = (\n",
    "            (self.fc1.weight.norm() ** 2 + self.fc1.bias.norm() ** 2)\n",
    "            / (1 - self.cdropout3.p)\n",
    "            + (self.fc2.weight.norm() ** 2 + self.fc2.bias.norm() ** 2)\n",
    "            / (1 - self.cdropout4.p)\n",
    "            + (self.fc3.weight.norm() ** 2 + self.fc3.bias.norm() ** 2)\n",
    "            + (self.conv1.weight.norm() ** 2 + self.conv1.bias.norm() ** 2)\n",
    "            / (1 - self.cdropout1.p)\n",
    "            + (self.conv2.weight.norm() ** 2 + self.conv2.bias.norm() ** 2)\n",
    "            / (1 - self.cdropout2.p)\n",
    "        )\n",
    "        weight_reg *= self.weight_reg_coef\n",
    "        dropout_reg = (\n",
    "            -self.entropy(self.cdropout1)\n",
    "            - self.entropy(self.cdropout2)\n",
    "            - self.entropy(self.cdropout3)\n",
    "            - self.entropy(self.cdropout4)\n",
    "        )\n",
    "        dropout_reg *= self.dropout_reg_coef\n",
    "        return weight_reg + dropout_reg\n",
    "\n",
    "\n",
    "# Lenet with Variational dropout\n",
    "class Net_VDO(nn.Module):\n",
    "    def __init__(self, reg_coef=5e-4):\n",
    "        super(Net_VDO, self).__init__()\n",
    "        self.conv1 = nn.Conv2d(3, 192, 5, padding=2)\n",
    "        self.pool = nn.MaxPool2d(2, 2)\n",
    "        self.conv2 = nn.Conv2d(192, 192, 5, padding=2)\n",
    "        self.fc1 = nn.Linear(192 * 8 * 8, 1024)\n",
    "        self.fc2 = nn.Linear(1024, 256)\n",
    "        self.fc3 = nn.Linear(256, 10)\n",
    "        self.leaky_relu = nn.LeakyReLU(negative_slope=0.2)\n",
    "        self.vdropout1 = VariationalDropout()\n",
    "        self.vdropout2 = VariationalDropout()\n",
    "        self.vdropout3 = VariationalDropout()\n",
    "        self.vdropout4 = VariationalDropout()\n",
    "        self.reg_coef = reg_coef\n",
    "\n",
    "        nn.init.xavier_uniform_(self.conv1.weight)\n",
    "        nn.init.constant_(self.conv1.bias, 0.0)\n",
    "        nn.init.xavier_uniform_(self.conv2.weight)\n",
    "        nn.init.constant_(self.conv2.bias, 0.0)\n",
    "        nn.init.xavier_uniform_(self.fc1.weight)\n",
    "        nn.init.constant_(self.fc1.bias, 0.0)\n",
    "        nn.init.xavier_uniform_(self.fc2.weight)\n",
    "        nn.init.constant_(self.fc2.bias, 0.0)\n",
    "        nn.init.xavier_uniform_(self.fc3.weight)\n",
    "        nn.init.constant_(self.fc3.bias, 0.0)\n",
    "\n",
    "    def forward(self, x):\n",
    "        x = self.pool(self.leaky_relu(self.vdropout1(self.conv1(x))))\n",
    "        x = self.pool(self.leaky_relu(self.vdropout2(self.conv2(x))))\n",
    "        x = x.view(-1, 192 * 8 * 8)\n",
    "        x = self.leaky_relu(self.vdropout3(self.fc1(x)))\n",
    "        x = self.leaky_relu(self.vdropout4(self.fc2(x)))\n",
    "        x = F.softmax(self.fc3(x), dim=1)\n",
    "        return x\n",
    "\n",
    "    def kl_prior(self, vdropout):\n",
    "        c1 = 1.16145124\n",
    "        c2 = -1.50204118\n",
    "        c3 = 0.58629921\n",
    "        return (\n",
    "            -0.5 * vdropout.log_alpha\n",
    "            - c1 * vdropout.alpha\n",
    "            - c2 * vdropout.alpha**2\n",
    "            - c3 * vdropout.alpha**3\n",
    "        )\n",
    "\n",
    "    def calc_reg(self):\n",
    "        return self.reg_coef * (\n",
    "            self.kl_prior(self.vdropout1)\n",
    "            + self.kl_prior(self.vdropout2)\n",
    "            + self.kl_prior(self.vdropout3)\n",
    "            + self.kl_prior(self.vdropout4)\n",
    "        )\n",
    "\n",
    "\n",
    "# Lenet with MCDO\n",
    "class Net_MCDO(nn.Module):\n",
    "    def __init__(self):\n",
    "        super(Net_MCDO, self).__init__()\n",
    "        self.conv1 = nn.Conv2d(3, 192, 5, padding=2)\n",
    "        self.pool = nn.MaxPool2d(2, 2)\n",
    "        self.conv2 = nn.Conv2d(192, 192, 5, padding=2)\n",
    "        self.fc1 = nn.Linear(192 * 8 * 8, 1024)\n",
    "        self.fc2 = nn.Linear(1024, 256)\n",
    "        self.fc3 = nn.Linear(256, 10)\n",
    "        self.leaky_relu = nn.LeakyReLU(negative_slope=0.2)\n",
    "        self.dropout = nn.Dropout(p=0.3)\n",
    "\n",
    "        nn.init.xavier_uniform_(self.conv1.weight)\n",
    "        nn.init.constant_(self.conv1.bias, 0.0)\n",
    "        nn.init.xavier_uniform_(self.conv2.weight)\n",
    "        nn.init.constant_(self.conv2.bias, 0.0)\n",
    "        nn.init.xavier_uniform_(self.fc1.weight)\n",
    "        nn.init.constant_(self.fc1.bias, 0.0)\n",
    "        nn.init.xavier_uniform_(self.fc2.weight)\n",
    "        nn.init.constant_(self.fc2.bias, 0.0)\n",
    "        nn.init.xavier_uniform_(self.fc3.weight)\n",
    "        nn.init.constant_(self.fc3.bias, 0.0)\n",
    "\n",
    "    def forward(self, x):\n",
    "        x = self.pool(self.leaky_relu(self.dropout(self.conv1(x))))\n",
    "        x = self.pool(self.leaky_relu(self.dropout(self.conv2(x))))\n",
    "        x = x.view(-1, 192 * 8 * 8)\n",
    "        x = self.leaky_relu(self.dropout(self.fc1(x)))\n",
    "        x = self.leaky_relu(self.dropout(self.fc2(x)))\n",
    "        x = F.softmax(self.fc3(x), dim=1)\n",
    "        return x"
   ]
  },
  {
   "cell_type": "markdown",
   "metadata": {},
   "source": [
    "# 4. Define a Loss function and optimizer"
   ]
  },
  {
   "cell_type": "code",
   "execution_count": 30,
   "metadata": {
    "execution": {
     "iopub.execute_input": "2023-11-01T08:37:49.227958Z",
     "iopub.status.busy": "2023-11-01T08:37:49.227328Z",
     "iopub.status.idle": "2023-11-01T08:37:49.235139Z",
     "shell.execute_reply": "2023-11-01T08:37:49.234562Z",
     "shell.execute_reply.started": "2023-11-01T08:37:49.227923Z"
    }
   },
   "outputs": [],
   "source": [
    "import torch.optim as optim"
   ]
  },
  {
   "cell_type": "code",
   "execution_count": 31,
   "metadata": {
    "execution": {
     "iopub.execute_input": "2023-11-01T08:37:49.236260Z",
     "iopub.status.busy": "2023-11-01T08:37:49.235993Z",
     "iopub.status.idle": "2023-11-01T08:37:49.242640Z",
     "shell.execute_reply": "2023-11-01T08:37:49.242182Z",
     "shell.execute_reply.started": "2023-11-01T08:37:49.236238Z"
    }
   },
   "outputs": [],
   "source": [
    "CE = nn.CrossEntropyLoss()"
   ]
  },
  {
   "cell_type": "code",
   "execution_count": 32,
   "metadata": {
    "execution": {
     "iopub.execute_input": "2023-11-01T08:37:49.243719Z",
     "iopub.status.busy": "2023-11-01T08:37:49.243454Z",
     "iopub.status.idle": "2023-11-01T08:37:49.252746Z",
     "shell.execute_reply": "2023-11-01T08:37:49.252257Z",
     "shell.execute_reply.started": "2023-11-01T08:37:49.243700Z"
    }
   },
   "outputs": [],
   "source": [
    "def train(epoch, net, optimizer, log_freq=log_freq, is_calc_reg=False):\n",
    "    running_loss = 0.0\n",
    "    for i, data in enumerate(trainloader, 0):\n",
    "        # get the inputs\n",
    "        inputs, labels = data\n",
    "        inputs, labels = inputs.to(device), labels.to(device)\n",
    "\n",
    "        # zero the parameter gradients\n",
    "        optimizer.zero_grad()\n",
    "\n",
    "        # forward + backward + optimize\n",
    "        outputs = net(inputs)\n",
    "        loss = CE(outputs, labels)\n",
    "        if is_calc_reg:\n",
    "            loss += torch.sum(net.module.calc_reg())\n",
    "        loss.backward()\n",
    "        optimizer.step()\n",
    "\n",
    "        # print statistics\n",
    "        running_loss += loss.item()\n",
    "        if (i + 1) % log_freq == 0:  # print every 2000 mini-batches\n",
    "            print(\n",
    "                \"[Epoch : %d, Iter: %5d] loss: %.3f\"\n",
    "                % (epoch + 1, i + 1, running_loss / log_freq)\n",
    "            )\n",
    "    return running_loss / log_freq\n",
    "\n",
    "\n",
    "def test(net):\n",
    "    print(\"Start test\")\n",
    "    class_correct = list(0.0 for i in range(10))\n",
    "    class_total = list(0.0 for i in range(10))\n",
    "    with torch.no_grad():\n",
    "        for data in testloader:\n",
    "            inputs, labels = data\n",
    "            inputs, labels = inputs.to(device), labels.to(device)\n",
    "            output = 0\n",
    "            for i in range(50):\n",
    "                output += net(inputs) / 10.0\n",
    "            output = torch.log(output)\n",
    "            _, predicted = torch.max(output, 1)\n",
    "            c = (predicted == labels).squeeze()\n",
    "            for i in range(len(labels)):\n",
    "                label = labels[i]\n",
    "                class_correct[label] += c[i].item()\n",
    "                class_total[label] += 1\n",
    "\n",
    "    for i in range(10):\n",
    "        print(\n",
    "            \"Accuracy of %5s : %.2f %%\"\n",
    "            % (classes[i], 100 * class_correct[i] / class_total[i])\n",
    "        )\n",
    "\n",
    "    test_score = np.mean([100 * class_correct[i] / class_total[i] for i in range(10)])\n",
    "    print(test_score)\n",
    "    return test_score"
   ]
  },
  {
   "cell_type": "code",
   "execution_count": 33,
   "metadata": {
    "execution": {
     "iopub.execute_input": "2023-11-01T08:37:49.253893Z",
     "iopub.status.busy": "2023-11-01T08:37:49.253573Z",
     "iopub.status.idle": "2023-11-01T08:37:49.264749Z",
     "shell.execute_reply": "2023-11-01T08:37:49.264322Z",
     "shell.execute_reply.started": "2023-11-01T08:37:49.253873Z"
    },
    "tags": []
   },
   "outputs": [],
   "source": [
    "from tqdm import tqdm_notebook\n",
    "\n",
    "lenets = [Net_CDO, Net_VDO, Net_MCDO]\n",
    "epoch_num = 300\n",
    "test_freq = 10\n",
    "losses = list()\n",
    "net_scores = list()\n",
    "test_scores = list()\n",
    "cdropout_history = list()\n",
    "vdropout_history = list()\n",
    "device = torch.device(\"cuda:0\" if torch.cuda.is_available() else \"cpu\")\n",
    "is_train = True\n",
    "\n",
    "# SAVE\n",
    "def save(name, net):\n",
    "    net_path = \"../saved_models/\" + name + \".pkl\"\n",
    "    net = net.cpu()\n",
    "    torch.save(net.state_dict(), net_path)\n",
    "    # Place it to GPU back\n",
    "    net.to(device)\n",
    "    return net\n",
    "\n",
    "\n",
    "def load(name, net):\n",
    "    net_path = \"../saved_models/\" + name + \".pkl\"\n",
    "    # LOAD\n",
    "    net.load_state_dict(torch.load(net_path))\n",
    "    # Place it to GPU\n",
    "    net.to(device)\n",
    "    return net\n",
    "\n",
    "\n",
    "def main():\n",
    "    for lenet in lenets:\n",
    "        print(lenet.__name__)\n",
    "        net = lenet()\n",
    "        if torch.cuda.device_count() > 1:\n",
    "            print(\"Let's use\", torch.cuda.device_count(), \"GPUs!\")\n",
    "            net = nn.DataParallel(net)\n",
    "        net.to(device)\n",
    "\n",
    "        if lenet.__name__ == \"Net_CDO\":\n",
    "            optimizer = optim.Adam(net.parameters(), lr=5e-4, amsgrad=True)\n",
    "        else:\n",
    "            optimizer = optim.Adam(\n",
    "                net.parameters(), lr=5e-4, weight_decay=5e-4, amsgrad=True\n",
    "            )\n",
    "        scheduler = optim.lr_scheduler.StepLR(optimizer, step_size=2, gamma=0.97)\n",
    "\n",
    "        for i in tqdm_notebook(range(epoch_num)):\n",
    "            scheduler.step()\n",
    "            #             net.train()\n",
    "            if lenet.__name__ == \"Net_CDO\":\n",
    "                loss_avg = train(\n",
    "                    epoch=i, net=net, optimizer=optimizer, is_calc_reg=True\n",
    "                )\n",
    "                cdropout_history.append(\n",
    "                    (\n",
    "                        net.module.cdropout1.p.item(),\n",
    "                        net.module.cdropout2.p.item(),\n",
    "                        net.module.cdropout3.p.item(),\n",
    "                        net.module.cdropout4.p.item(),\n",
    "                    )\n",
    "                )\n",
    "            elif lenet.__name__ == \"Net_VDO\":\n",
    "                loss_avg = train(\n",
    "                    epoch=i, net=net, optimizer=optimizer, is_calc_reg=True\n",
    "                )\n",
    "                vdropout_history.append(\n",
    "                    (\n",
    "                        net.module.vdropout1.alpha.item(),\n",
    "                        net.module.vdropout2.alpha.item(),\n",
    "                        net.module.vdropout3.alpha.item(),\n",
    "                        net.module.vdropout4.alpha.item(),\n",
    "                    )\n",
    "                )\n",
    "            else:\n",
    "                loss_avg = train(epoch=i, net=net, optimizer=optimizer)\n",
    "            losses.append(loss_avg)\n",
    "            if (i + 1) % test_freq == 0:\n",
    "                #                 net.eval()\n",
    "                net_score = test(net)\n",
    "                net_scores.append(net_score)\n",
    "        save(lenet.__name__, net)"
   ]
  },
  {
   "cell_type": "code",
   "execution_count": null,
   "metadata": {
    "execution": {
     "iopub.execute_input": "2023-11-01T08:37:49.266981Z",
     "iopub.status.busy": "2023-11-01T08:37:49.266830Z"
    },
    "tags": []
   },
   "outputs": [
    {
     "name": "stdout",
     "output_type": "stream",
     "text": [
      "Net_CDO\n",
      "Let's use 4 GPUs!\n"
     ]
    },
    {
     "name": "stderr",
     "output_type": "stream",
     "text": [
      "/tmp/ipykernel_258958/2558541425.py:50: TqdmDeprecationWarning: This function will be removed in tqdm==5.0.0\n",
      "Please use `tqdm.notebook.tqdm` instead of `tqdm.tqdm_notebook`\n",
      "  for i in tqdm_notebook(range(epoch_num)):\n"
     ]
    },
    {
     "data": {
      "application/vnd.jupyter.widget-view+json": {
       "model_id": "a53a6cf7f3954c2a85028273405383cd",
       "version_major": 2,
       "version_minor": 0
      },
      "text/plain": [
       "  0%|          | 0/300 [00:00<?, ?it/s]"
      ]
     },
     "metadata": {},
     "output_type": "display_data"
    },
    {
     "name": "stdout",
     "output_type": "stream",
     "text": [
      "[Epoch : 1, Iter:    50] loss: 2.976\n",
      "[Epoch : 2, Iter:    50] loss: 2.367\n",
      "[Epoch : 3, Iter:    50] loss: 2.209\n",
      "[Epoch : 4, Iter:    50] loss: 2.139\n",
      "[Epoch : 5, Iter:    50] loss: 2.096\n",
      "[Epoch : 6, Iter:    50] loss: 2.053\n"
     ]
    }
   ],
   "source": [
    "if is_train:\n",
    "    main()"
   ]
  },
  {
   "cell_type": "code",
   "execution_count": null,
   "metadata": {
    "tags": []
   },
   "outputs": [],
   "source": [
    "sns.set()\n",
    "epochs = [10 * i for i in range((30))]\n",
    "plt.plot(epochs, net_scores[:30], label=\"Net_CDO\")\n",
    "plt.plot(epochs, net_scores[30:60], label=\"Net_VDO\")\n",
    "plt.plot(epochs, net_scores[60:], label=\"Net_MCDO\")\n",
    "plt.xlabel(\"epochs\")\n",
    "plt.ylabel(\"Test accuracy\")\n",
    "plt.legend()\n",
    "plt.tight_layout()\n",
    "plt.show()"
   ]
  },
  {
   "cell_type": "code",
   "execution_count": null,
   "metadata": {
    "tags": []
   },
   "outputs": [],
   "source": [
    "cdropout1_history = [cdropout_history[i][0] for i in range(30)]\n",
    "cdropout2_history = [cdropout_history[i][1] for i in range(30)]\n",
    "cdropout3_history = [cdropout_history[i][2] for i in range(30)]\n",
    "cdropout4_history = [cdropout_history[i][3] for i in range(30)]\n",
    "\n",
    "plt.plot(epochs, cdropout1_history, label=\"cdropout1\")\n",
    "plt.plot(epochs, cdropout2_history, label=\"cdropout2\")\n",
    "plt.plot(epochs, cdropout3_history, label=\"cdropout3\")\n",
    "plt.plot(epochs, cdropout4_history, label=\"cdropout4\")\n",
    "plt.xlabel(\"epochs\")\n",
    "plt.ylabel(\"Dropout rate\")\n",
    "plt.legend()\n",
    "plt.tight_layout()\n",
    "plt.show()"
   ]
  },
  {
   "cell_type": "code",
   "execution_count": null,
   "metadata": {
    "tags": []
   },
   "outputs": [],
   "source": [
    "vdropout1_history = [vdropout_history[i][0] for i in range(30)]\n",
    "vdropout2_history = [vdropout_history[i][1] for i in range(30)]\n",
    "vdropout3_history = [vdropout_history[i][2] for i in range(30)]\n",
    "vdropout4_history = [vdropout_history[i][3] for i in range(30)]\n",
    "\n",
    "plt.plot(epochs, vdropout1_history, label=\"vdropout1\")\n",
    "plt.plot(epochs, vdropout2_history, label=\"vdropout2\")\n",
    "plt.plot(epochs, vdropout3_history, label=\"vdropout3\")\n",
    "plt.plot(epochs, vdropout4_history, label=\"vdropout4\")\n",
    "plt.xlabel(\"epochs\")\n",
    "plt.ylabel(\"Alpha value\")\n",
    "plt.legend()\n",
    "plt.tight_layout()\n",
    "plt.show()"
   ]
  },
  {
   "cell_type": "code",
   "execution_count": null,
   "metadata": {},
   "outputs": [],
   "source": []
  }
 ],
 "metadata": {
  "kernelspec": {
   "display_name": "Python 3 (ipykernel)",
   "language": "python",
   "name": "python3"
  },
  "language_info": {
   "codemirror_mode": {
    "name": "ipython",
    "version": 3
   },
   "file_extension": ".py",
   "mimetype": "text/x-python",
   "name": "python",
   "nbconvert_exporter": "python",
   "pygments_lexer": "ipython3",
   "version": "3.9.13"
  }
 },
 "nbformat": 4,
 "nbformat_minor": 4
}
