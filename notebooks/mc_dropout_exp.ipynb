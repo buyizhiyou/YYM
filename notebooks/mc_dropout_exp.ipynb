{
 "cells": [
  {
   "cell_type": "markdown",
   "id": "7633034c-c066-497b-a5ce-a9f6cd810c88",
   "metadata": {
    "execution": {
     "iopub.execute_input": "2023-08-29T07:13:08.141794Z",
     "iopub.status.busy": "2023-08-29T07:13:08.141440Z",
     "iopub.status.idle": "2023-08-29T07:13:08.144991Z",
     "shell.execute_reply": "2023-08-29T07:13:08.144420Z",
     "shell.execute_reply.started": "2023-08-29T07:13:08.141767Z"
    }
   },
   "source": [
    "### Import and Load model"
   ]
  },
  {
   "cell_type": "code",
   "execution_count": 2,
   "id": "60d4f75b-da13-4969-bf2a-ed8230f6687b",
   "metadata": {
    "execution": {
     "iopub.execute_input": "2023-11-29T13:43:19.366385Z",
     "iopub.status.busy": "2023-11-29T13:43:19.365758Z",
     "iopub.status.idle": "2023-11-29T13:43:19.373271Z",
     "shell.execute_reply": "2023-11-29T13:43:19.372601Z",
     "shell.execute_reply.started": "2023-11-29T13:43:19.366356Z"
    },
    "tags": []
   },
   "outputs": [],
   "source": [
    "import time\n",
    "import sys\n",
    "sys.path.append(\"../\")\n",
    "from matplotlib import pyplot as plt\n",
    "import seaborn as sns\n",
    "import pandas as pd\n",
    "import numpy as np \n",
    "from scipy.stats import entropy\n",
    "from tqdm import tqdm\n",
    "\n",
    "import torch\n",
    "from torch import nn\n",
    "import torchvision.models as models\n",
    "import torchvision.transforms as transforms\n",
    "import torchvision.datasets as datasets\n",
    "from torchsummary import summary\n",
    "from sklearn.metrics import roc_auc_score\n",
    "from sklearn import metrics\n",
    "from bayesian_torch.models.dnn_to_bnn import dnn_to_bnn\n",
    "\n",
    "from utils.plots import plot_pr,plot_roc, plot_dist, plot_violin\n",
    "from utils.metircs import accuracy,mutual_info,nll, ece,predictive_entropy\n",
    "from utils.visual import ProgressMeter, AverageMeter, Summary\n",
    "from data_utils.get_datasets import get_dataset\n",
    "from model_utils.get_models import get_model\n",
    "from uncertainty.mc_dropout import mc_dropout_predict\n",
    "from uncertainty.test_time_aug import test_time_aug_predict\n",
    "from uncertainty.deep_ensemble import deep_ensembel_predict,EnsembleModel\n",
    "from uncertainty.baseline_softmax import baseline_softmax_predict\n",
    "from uncertainty.bnn_svi import bnn_svi_predict\n",
    "from adversarial.adversarial_attack import fgsm_attack, pgd_attack"
   ]
  },
  {
   "cell_type": "code",
   "execution_count": 3,
   "id": "e88fc853-4f1f-4175-90c1-7adfc12ac66b",
   "metadata": {
    "execution": {
     "iopub.execute_input": "2023-11-29T13:43:19.374421Z",
     "iopub.status.busy": "2023-11-29T13:43:19.374138Z",
     "iopub.status.idle": "2023-11-29T13:43:24.226502Z",
     "shell.execute_reply": "2023-11-29T13:43:24.225785Z",
     "shell.execute_reply.started": "2023-11-29T13:43:19.374397Z"
    }
   },
   "outputs": [
    {
     "name": "stdout",
     "output_type": "stream",
     "text": [
      "use private models...\n"
     ]
    },
    {
     "data": {
      "text/plain": [
       "<All keys matched successfully>"
      ]
     },
     "execution_count": 3,
     "metadata": {},
     "output_type": "execute_result"
    }
   ],
   "source": [
    "device = torch.device('cuda:0')\n",
    "model = get_model(\"vgg16\", 10, use_torchvision=False)\n",
    "model = model.to(device)\n",
    "model.eval()\n",
    "\n",
    "checkpoint = torch.load(\"../saved_models/deterministic/vgg16/2023_11_24_15_25_21/vgg16_best_model_93.62.pth\",map_location=device)\n",
    "model.load_state_dict(checkpoint['state_dict'])"
   ]
  },
  {
   "cell_type": "code",
   "execution_count": 4,
   "id": "2d270b64-7dd2-4c4f-9f2a-a078f1c37d2c",
   "metadata": {
    "execution": {
     "iopub.execute_input": "2023-11-29T13:43:24.227960Z",
     "iopub.status.busy": "2023-11-29T13:43:24.227613Z",
     "iopub.status.idle": "2023-11-29T13:43:24.550060Z",
     "shell.execute_reply": "2023-11-29T13:43:24.549418Z",
     "shell.execute_reply.started": "2023-11-29T13:43:24.227933Z"
    }
   },
   "outputs": [
    {
     "name": "stdout",
     "output_type": "stream",
     "text": [
      "----------------------------------------------------------------\n",
      "        Layer (type)               Output Shape         Param #\n",
      "================================================================\n",
      "            Conv2d-1           [-1, 64, 32, 32]           1,792\n",
      "       BatchNorm2d-2           [-1, 64, 32, 32]             128\n",
      "              ReLU-3           [-1, 64, 32, 32]               0\n",
      "            Conv2d-4           [-1, 64, 32, 32]          36,928\n",
      "       BatchNorm2d-5           [-1, 64, 32, 32]             128\n",
      "              ReLU-6           [-1, 64, 32, 32]               0\n",
      "         MaxPool2d-7           [-1, 64, 16, 16]               0\n",
      "            Conv2d-8          [-1, 128, 16, 16]          73,856\n",
      "       BatchNorm2d-9          [-1, 128, 16, 16]             256\n",
      "             ReLU-10          [-1, 128, 16, 16]               0\n",
      "           Conv2d-11          [-1, 128, 16, 16]         147,584\n",
      "      BatchNorm2d-12          [-1, 128, 16, 16]             256\n",
      "             ReLU-13          [-1, 128, 16, 16]               0\n",
      "        MaxPool2d-14            [-1, 128, 8, 8]               0\n",
      "           Conv2d-15            [-1, 256, 8, 8]         295,168\n",
      "      BatchNorm2d-16            [-1, 256, 8, 8]             512\n",
      "             ReLU-17            [-1, 256, 8, 8]               0\n",
      "           Conv2d-18            [-1, 256, 8, 8]         590,080\n",
      "      BatchNorm2d-19            [-1, 256, 8, 8]             512\n",
      "             ReLU-20            [-1, 256, 8, 8]               0\n",
      "           Conv2d-21            [-1, 256, 8, 8]         590,080\n",
      "      BatchNorm2d-22            [-1, 256, 8, 8]             512\n",
      "             ReLU-23            [-1, 256, 8, 8]               0\n",
      "        MaxPool2d-24            [-1, 256, 4, 4]               0\n",
      "           Conv2d-25            [-1, 512, 4, 4]       1,180,160\n",
      "      BatchNorm2d-26            [-1, 512, 4, 4]           1,024\n",
      "             ReLU-27            [-1, 512, 4, 4]               0\n",
      "           Conv2d-28            [-1, 512, 4, 4]       2,359,808\n",
      "      BatchNorm2d-29            [-1, 512, 4, 4]           1,024\n",
      "             ReLU-30            [-1, 512, 4, 4]               0\n",
      "           Conv2d-31            [-1, 512, 4, 4]       2,359,808\n",
      "      BatchNorm2d-32            [-1, 512, 4, 4]           1,024\n",
      "             ReLU-33            [-1, 512, 4, 4]               0\n",
      "        MaxPool2d-34            [-1, 512, 2, 2]               0\n",
      "           Conv2d-35            [-1, 512, 2, 2]       2,359,808\n",
      "      BatchNorm2d-36            [-1, 512, 2, 2]           1,024\n",
      "             ReLU-37            [-1, 512, 2, 2]               0\n",
      "           Conv2d-38            [-1, 512, 2, 2]       2,359,808\n",
      "      BatchNorm2d-39            [-1, 512, 2, 2]           1,024\n",
      "             ReLU-40            [-1, 512, 2, 2]               0\n",
      "           Conv2d-41            [-1, 512, 2, 2]       2,359,808\n",
      "      BatchNorm2d-42            [-1, 512, 2, 2]           1,024\n",
      "             ReLU-43            [-1, 512, 2, 2]               0\n",
      "        MaxPool2d-44            [-1, 512, 1, 1]               0\n",
      "        AvgPool2d-45            [-1, 512, 1, 1]               0\n",
      "           Linear-46                  [-1, 512]         262,656\n",
      "             ReLU-47                  [-1, 512]               0\n",
      "          Dropout-48                  [-1, 512]               0\n",
      "           Linear-49                   [-1, 10]           5,130\n",
      "================================================================\n",
      "Total params: 14,990,922\n",
      "Trainable params: 14,990,922\n",
      "Non-trainable params: 0\n",
      "----------------------------------------------------------------\n",
      "Input size (MB): 0.01\n",
      "Forward/backward pass size (MB): 6.58\n",
      "Params size (MB): 57.19\n",
      "Estimated Total Size (MB): 63.78\n",
      "----------------------------------------------------------------\n",
      "VGG(\n",
      "  (features): Sequential(\n",
      "    (0): Conv2d(3, 64, kernel_size=(3, 3), stride=(1, 1), padding=(1, 1))\n",
      "    (1): BatchNorm2d(64, eps=1e-05, momentum=0.1, affine=True, track_running_stats=True)\n",
      "    (2): ReLU(inplace=True)\n",
      "    (3): Conv2d(64, 64, kernel_size=(3, 3), stride=(1, 1), padding=(1, 1))\n",
      "    (4): BatchNorm2d(64, eps=1e-05, momentum=0.1, affine=True, track_running_stats=True)\n",
      "    (5): ReLU(inplace=True)\n",
      "    (6): MaxPool2d(kernel_size=2, stride=2, padding=0, dilation=1, ceil_mode=False)\n",
      "    (7): Conv2d(64, 128, kernel_size=(3, 3), stride=(1, 1), padding=(1, 1))\n",
      "    (8): BatchNorm2d(128, eps=1e-05, momentum=0.1, affine=True, track_running_stats=True)\n",
      "    (9): ReLU(inplace=True)\n",
      "    (10): Conv2d(128, 128, kernel_size=(3, 3), stride=(1, 1), padding=(1, 1))\n",
      "    (11): BatchNorm2d(128, eps=1e-05, momentum=0.1, affine=True, track_running_stats=True)\n",
      "    (12): ReLU(inplace=True)\n",
      "    (13): MaxPool2d(kernel_size=2, stride=2, padding=0, dilation=1, ceil_mode=False)\n",
      "    (14): Conv2d(128, 256, kernel_size=(3, 3), stride=(1, 1), padding=(1, 1))\n",
      "    (15): BatchNorm2d(256, eps=1e-05, momentum=0.1, affine=True, track_running_stats=True)\n",
      "    (16): ReLU(inplace=True)\n",
      "    (17): Conv2d(256, 256, kernel_size=(3, 3), stride=(1, 1), padding=(1, 1))\n",
      "    (18): BatchNorm2d(256, eps=1e-05, momentum=0.1, affine=True, track_running_stats=True)\n",
      "    (19): ReLU(inplace=True)\n",
      "    (20): Conv2d(256, 256, kernel_size=(3, 3), stride=(1, 1), padding=(1, 1))\n",
      "    (21): BatchNorm2d(256, eps=1e-05, momentum=0.1, affine=True, track_running_stats=True)\n",
      "    (22): ReLU(inplace=True)\n",
      "    (23): MaxPool2d(kernel_size=2, stride=2, padding=0, dilation=1, ceil_mode=False)\n",
      "    (24): Conv2d(256, 512, kernel_size=(3, 3), stride=(1, 1), padding=(1, 1))\n",
      "    (25): BatchNorm2d(512, eps=1e-05, momentum=0.1, affine=True, track_running_stats=True)\n",
      "    (26): ReLU(inplace=True)\n",
      "    (27): Conv2d(512, 512, kernel_size=(3, 3), stride=(1, 1), padding=(1, 1))\n",
      "    (28): BatchNorm2d(512, eps=1e-05, momentum=0.1, affine=True, track_running_stats=True)\n",
      "    (29): ReLU(inplace=True)\n",
      "    (30): Conv2d(512, 512, kernel_size=(3, 3), stride=(1, 1), padding=(1, 1))\n",
      "    (31): BatchNorm2d(512, eps=1e-05, momentum=0.1, affine=True, track_running_stats=True)\n",
      "    (32): ReLU(inplace=True)\n",
      "    (33): MaxPool2d(kernel_size=2, stride=2, padding=0, dilation=1, ceil_mode=False)\n",
      "    (34): Conv2d(512, 512, kernel_size=(3, 3), stride=(1, 1), padding=(1, 1))\n",
      "    (35): BatchNorm2d(512, eps=1e-05, momentum=0.1, affine=True, track_running_stats=True)\n",
      "    (36): ReLU(inplace=True)\n",
      "    (37): Conv2d(512, 512, kernel_size=(3, 3), stride=(1, 1), padding=(1, 1))\n",
      "    (38): BatchNorm2d(512, eps=1e-05, momentum=0.1, affine=True, track_running_stats=True)\n",
      "    (39): ReLU(inplace=True)\n",
      "    (40): Conv2d(512, 512, kernel_size=(3, 3), stride=(1, 1), padding=(1, 1))\n",
      "    (41): BatchNorm2d(512, eps=1e-05, momentum=0.1, affine=True, track_running_stats=True)\n",
      "    (42): ReLU(inplace=True)\n",
      "    (43): MaxPool2d(kernel_size=2, stride=2, padding=0, dilation=1, ceil_mode=False)\n",
      "    (44): AvgPool2d(kernel_size=1, stride=1, padding=0)\n",
      "  )\n",
      "  (classifier): Sequential(\n",
      "    (0): Linear(in_features=512, out_features=512, bias=True)\n",
      "    (1): ReLU(inplace=True)\n",
      "    (2): Dropout(p=0.5, inplace=False)\n",
      "    (3): Linear(in_features=512, out_features=10, bias=True)\n",
      "  )\n",
      ")\n"
     ]
    }
   ],
   "source": [
    "summary(model,(3,32,32))\n",
    "print(model)"
   ]
  },
  {
   "cell_type": "code",
   "execution_count": 5,
   "id": "17d51c79-1d8b-46d2-8a0b-0eb06c5abd8e",
   "metadata": {
    "execution": {
     "iopub.execute_input": "2023-11-29T13:43:24.552308Z",
     "iopub.status.busy": "2023-11-29T13:43:24.551976Z",
     "iopub.status.idle": "2023-11-29T13:43:24.567250Z",
     "shell.execute_reply": "2023-11-29T13:43:24.566593Z",
     "shell.execute_reply.started": "2023-11-29T13:43:24.552283Z"
    }
   },
   "outputs": [
    {
     "name": "stdout",
     "output_type": "stream",
     "text": [
      "torch.return_types.max(\n",
      "values=tensor([0.5996, 0.5407, 0.5734, 0.3705, 0.4577, 0.6635, 0.3991, 0.6432, 0.5598,\n",
      "        0.4227, 0.5568, 0.3850, 0.4086, 0.4935, 0.5098, 0.4219, 0.8335, 0.4066,\n",
      "        0.4242, 0.4654, 0.5902, 0.5511, 0.3518, 0.6379, 0.4552, 0.7202, 0.4472,\n",
      "        0.3843, 0.4255, 0.5694, 0.6005, 0.4969, 0.5665, 0.3583, 0.5034, 0.6286,\n",
      "        0.5771, 0.8949, 0.7062, 0.6048, 0.5385, 0.5426, 0.6007, 0.6888, 0.4173,\n",
      "        0.3707, 0.5325, 0.5984, 0.5838, 0.5409, 0.7255, 0.7124, 0.7267, 0.6357,\n",
      "        0.6136, 0.6585, 0.7255, 0.4039, 0.5807, 0.4513, 0.6265, 0.7712, 0.4521,\n",
      "        0.5027], device='cuda:0', grad_fn=<MaxBackward0>),\n",
      "indices=tensor([4, 4, 4, 6, 4, 4, 6, 4, 4, 4, 4, 4, 4, 6, 4, 2, 4, 2, 4, 4, 4, 4, 2, 4,\n",
      "        2, 4, 4, 4, 6, 4, 4, 2, 4, 4, 4, 4, 4, 6, 4, 4, 4, 4, 4, 4, 4, 4, 4, 4,\n",
      "        6, 4, 4, 4, 4, 4, 4, 4, 4, 4, 4, 4, 4, 4, 2, 4], device='cuda:0'))\n"
     ]
    }
   ],
   "source": [
    "#random Gaussian noise fed into an image classifier gives a “prediction confidence” or predicted class probability of 91%\n",
    "noise = torch.randn(64,3,32,32).to(device)\n",
    "prob = torch.softmax(model(noise), axis=1)\n",
    "print(torch.max(prob,axis=1))"
   ]
  },
  {
   "cell_type": "code",
   "execution_count": 6,
   "id": "8691bd49-5b3f-4501-913c-a0af269b6013",
   "metadata": {
    "execution": {
     "iopub.execute_input": "2023-11-29T13:43:24.568489Z",
     "iopub.status.busy": "2023-11-29T13:43:24.568156Z",
     "iopub.status.idle": "2023-11-29T13:43:28.132436Z",
     "shell.execute_reply": "2023-11-29T13:43:28.131590Z",
     "shell.execute_reply.started": "2023-11-29T13:43:24.568465Z"
    }
   },
   "outputs": [],
   "source": [
    "%reload_ext autoreload\n",
    "%autoreload 2"
   ]
  },
  {
   "cell_type": "markdown",
   "id": "b66963b2-e151-49a7-b759-386dd8c3793b",
   "metadata": {
    "execution": {
     "iopub.execute_input": "2023-11-09T03:56:00.712136Z",
     "iopub.status.busy": "2023-11-09T03:56:00.711578Z"
    }
   },
   "source": [
    "### MC Dropout"
   ]
  },
  {
   "cell_type": "code",
   "execution_count": 7,
   "id": "8edc9b46-1fad-43c8-bfd3-7157d219e253",
   "metadata": {
    "execution": {
     "iopub.execute_input": "2023-11-29T13:43:28.133973Z",
     "iopub.status.busy": "2023-11-29T13:43:28.133502Z",
     "iopub.status.idle": "2023-11-29T13:43:32.414123Z",
     "shell.execute_reply": "2023-11-29T13:43:32.413484Z",
     "shell.execute_reply.started": "2023-11-29T13:43:28.133947Z"
    }
   },
   "outputs": [
    {
     "name": "stdout",
     "output_type": "stream",
     "text": [
      "False\n",
      "True\n"
     ]
    }
   ],
   "source": [
    "print(model.classifier[2].training)\n",
    "model.classifier[2].training = True  # 打开test dropout\n",
    "print(model.classifier[2].training)"
   ]
  },
  {
   "cell_type": "code",
   "execution_count": null,
   "id": "6e7a0256-bacf-41f7-a2f0-661763956f2d",
   "metadata": {
    "execution": {
     "iopub.execute_input": "2023-11-29T13:43:32.415353Z",
     "iopub.status.busy": "2023-11-29T13:43:32.415050Z"
    }
   },
   "outputs": [
    {
     "name": "stdout",
     "output_type": "stream",
     "text": [
      " * Time 0.098 Acc@1 93.570\n",
      " * Time 0.107 Acc@1 7.370\n",
      " * Time 0.186 Acc@1 10.080\n"
     ]
    }
   ],
   "source": [
    "datanames = [\"cifar10\",\"mnist\", \"fashionmnist\",\"svhn\"]\n",
    "probs_list = []\n",
    "targets_list = []\n",
    "for dataname in datanames:\n",
    "    val_transform = transforms.Compose(\n",
    "    [\n",
    "        transforms.Resize((32, 32)),\n",
    "        transforms.ToTensor(),\n",
    "        transforms.Normalize(\n",
    "                (0.4914, 0.4822, 0.4465),\n",
    "                (0.2023, 0.1994, 0.2010))\n",
    "    ]\n",
    "    )\n",
    "    if dataname==\"mnist\" or dataname==\"fashionmnist\":\n",
    "        val_transform.transforms.insert(2,transforms.Lambda(lambda x:x.repeat(3,1,1)))\n",
    "    _, val_dataset = get_dataset(dataname,\"../data\",None,val_transform)\n",
    "    val_loader = torch.utils.data.DataLoader(\n",
    "        val_dataset, batch_size=128, shuffle=False,\n",
    "        num_workers=4, pin_memory=True)\n",
    "\n",
    "    probs, targets = mc_dropout_predict(val_loader, model, device, 20)\n",
    "    probs_list.append(probs.cpu().detach().numpy())\n",
    "    targets_list.append(targets.cpu().detach().numpy())"
   ]
  },
  {
   "cell_type": "markdown",
   "id": "653cad32-e9be-4bb3-af47-f3ddf72b8162",
   "metadata": {},
   "source": [
    "#### misclassified"
   ]
  },
  {
   "cell_type": "code",
   "execution_count": null,
   "id": "a21f4ee6-1a64-4a00-8fc7-e2475468646c",
   "metadata": {},
   "outputs": [],
   "source": [
    "print(probs_list[0].shape)"
   ]
  },
  {
   "cell_type": "code",
   "execution_count": null,
   "id": "a515e9c1-e0ab-4493-8de5-642d4cbe6304",
   "metadata": {},
   "outputs": [],
   "source": [
    "cifar10_mi =  mutual_info(probs_list[0])*-1\n",
    "cifar10_probs = np.mean(probs_list[0],axis=1)\n",
    "cifar10_target = targets_list[0]"
   ]
  },
  {
   "cell_type": "code",
   "execution_count": null,
   "id": "787605fb-62ac-49d4-9224-0dbe50b2aab3",
   "metadata": {},
   "outputs": [],
   "source": [
    "cifar10_pred = np.argmax(cifar10_probs,axis=1)\n",
    "labels = (cifar10_pred == cifar10_target).astype(int)#正确分类标为1，误分类标为0\n",
    "random_pred = np.random.rand(labels.shape[0])"
   ]
  },
  {
   "cell_type": "code",
   "execution_count": null,
   "id": "453d9642-7821-4be6-8fe8-8f39894da4e1",
   "metadata": {},
   "outputs": [],
   "source": [
    "succ_mi_mean = cifar10_mi[labels==1].mean()\n",
    "err_mi_mean = cifar10_mi[labels==0].mean()\n",
    "print(f\"正确分类样本数{labels.sum()},平均MI:{succ_mi_mean:.3f}\\n错误分类样本数{(1-labels).sum()},平均MI:{err_mi_mean:.3f}\")"
   ]
  },
  {
   "cell_type": "code",
   "execution_count": null,
   "id": "a6b054f8-56f2-46af-86fc-d27b6be8a89b",
   "metadata": {},
   "outputs": [],
   "source": [
    "cifar10_ent = predictive_entropy(probs_list[0])*-1\n",
    "succ_ent_mean = cifar10_ent[labels==1].mean()\n",
    "err_ent_mean = cifar10_ent[labels==0].mean()\n",
    "print(f\"正确分类样本数{labels.sum()},平均AU:{succ_ent_mean:.3f}\\n错误分类样本数{(1-labels).sum()},平均AU:{err_ent_mean:.3f}\")"
   ]
  },
  {
   "cell_type": "code",
   "execution_count": null,
   "id": "e60affca-9475-4456-82da-f525af0594df",
   "metadata": {},
   "outputs": [],
   "source": [
    "fig, axes = plt.subplots(2,3, figsize=(20, 12))\n",
    "plot_roc(axes[0][0], labels,cifar10_mi,\"mi/succ\")\n",
    "plot_pr(axes[0][1],labels,random_pred,\"random/succ\")\n",
    "plot_pr(axes[0][2],labels,cifar10_mi,\"mi/succ\")\n",
    "plot_roc(axes[1][0], labels,cifar10_ent,\"entropy/succ\")\n",
    "plot_pr(axes[1][1],labels,random_pred,\"random/succ\")\n",
    "plot_pr(axes[1][2],labels,cifar10_ent,\"entropy/succ\")\n",
    "plt.tight_layout()"
   ]
  },
  {
   "cell_type": "code",
   "execution_count": null,
   "id": "c8e4a514-d85d-4a1d-babb-3128b41dc251",
   "metadata": {},
   "outputs": [],
   "source": [
    "labels2 = (cifar10_pred != cifar10_target).astype(int)#误分类标为1，正确分类标为0\n",
    "cifar10_mi2 = -cifar10_mi\n",
    "random_pred2 = -random_pred\n",
    "cifar10_ent2 = -cifar10_ent "
   ]
  },
  {
   "cell_type": "code",
   "execution_count": null,
   "id": "20162167-bfb9-47db-b980-853304201911",
   "metadata": {},
   "outputs": [],
   "source": [
    "fig, axes = plt.subplots(2,3, figsize=(20, 12))\n",
    "plot_roc(axes[0][0], labels2,cifar10_mi2,\"mi/err\")\n",
    "plot_pr(axes[0][1],labels2,random_pred2,\"random/err\")\n",
    "plot_pr(axes[0][2],labels2,cifar10_mi2,\"mi/err\")\n",
    "plot_roc(axes[1][0], labels2,cifar10_ent2,\"entropy/err\")\n",
    "plot_pr(axes[1][1],labels2,random_pred2,\"random/err\")\n",
    "plot_pr(axes[1][2],labels2,cifar10_ent2,\"entropy/err\")\n",
    "plt.tight_layout()"
   ]
  },
  {
   "cell_type": "markdown",
   "id": "7db56f71-65e8-4b64-87c6-7535e9d1a35b",
   "metadata": {},
   "source": [
    "#### OOD"
   ]
  },
  {
   "cell_type": "code",
   "execution_count": null,
   "id": "87e60641-7cf5-4a17-afb0-c938de1d4e1c",
   "metadata": {},
   "outputs": [],
   "source": [
    "mi_list = []\n",
    "for i, probs in enumerate(probs_list):\n",
    "    mi = mutual_info(probs)\n",
    "    mi_list.append(mi)"
   ]
  },
  {
   "cell_type": "code",
   "execution_count": null,
   "id": "875fefbc-cb21-4bc1-ab96-2cc4ec1efe66",
   "metadata": {},
   "outputs": [],
   "source": [
    "ent_list = []\n",
    "for i, probs in enumerate(probs_list):\n",
    "    ent = predictive_entropy(probs)\n",
    "    ent_list.append(ent)"
   ]
  },
  {
   "cell_type": "code",
   "execution_count": null,
   "id": "bdce6d33-95db-4d83-b6bb-e7ccd6b06831",
   "metadata": {},
   "outputs": [],
   "source": [
    "#绘制mi,熵的分布\n",
    "fig, axes = plt.subplots(1,2, figsize=(13, 6))\n",
    "plot_dist(axes[0],mi_list,datanames,\"mi\")\n",
    "plot_dist(axes[1], ent_list,datanames,\"entropy\")\n",
    "plt.tight_layout()"
   ]
  },
  {
   "cell_type": "code",
   "execution_count": null,
   "id": "462cc680-9701-42e3-8c00-d9859344ef41",
   "metadata": {},
   "outputs": [],
   "source": [
    "#绘制小提琴图\n",
    "fig, axes = plt.subplots(1,4, figsize=(25, 6))\n",
    "plot_violin(axes,mi_list,datanames,\"mi\")\n",
    "fig, axes = plt.subplots(1,4, figsize=(25, 6))\n",
    "plot_violin(axes, ent_list,datanames,\"entropy\")\n",
    "plt.tight_layout()"
   ]
  },
  {
   "cell_type": "code",
   "execution_count": null,
   "id": "c0c76b8c-4c56-40f5-a620-9500eb59b1e3",
   "metadata": {},
   "outputs": [],
   "source": [
    "#IND样本视为正样本， mnist样本视为负样本\n",
    "ood_idx=1\n",
    "print(f\"cifar10 test nums:{len(mi_list[0])},mnist test nums:{len(mi_list[1])}\")\n",
    "labels = [1]*len(mi_list[0])+[0]*len(mi_list[ood_idx])\n",
    "mi = np.concatenate([mi_list[0],mi_list[ood_idx]])*-1\n",
    "ent = np.concatenate([ent_list[0],ent_list[ood_idx]])*-1\n",
    "random_pred = np.random.rand(len(labels))*-1"
   ]
  },
  {
   "cell_type": "code",
   "execution_count": null,
   "id": "3dfd24ab-161c-4be4-96a8-b48da076d066",
   "metadata": {},
   "outputs": [],
   "source": [
    "fig, axes = plt.subplots(2,3, figsize=(20, 12))\n",
    "plot_roc(axes[0][0], labels,mi,\"mi/ind\")\n",
    "plot_pr(axes[0][1],labels,random_pred,\"random/ind\")\n",
    "plot_pr(axes[0][2],labels,mi,\"mi/ind\")\n",
    "plot_roc(axes[1][0], labels,ent,\"entropy/ind\")\n",
    "plot_pr(axes[1][1],labels,random_pred,\"random/ind\")\n",
    "plot_pr(axes[1][2],labels,ent,\"entropy/ind\")\n",
    "plt.tight_layout()"
   ]
  },
  {
   "cell_type": "code",
   "execution_count": null,
   "id": "30bfd3aa-7bdf-4c6e-9d99-7f07b9f33b61",
   "metadata": {},
   "outputs": [],
   "source": [
    "#IND样本视为负样本， mnist样本视为正样本\n",
    "labels2 = [0]*len(mi_list[0])+[1]*len(mi_list[1])\n",
    "mi2 =  -mi\n",
    "ent2 = -ent\n",
    "random_pred2 = -random_pred"
   ]
  },
  {
   "cell_type": "code",
   "execution_count": null,
   "id": "dc89b3b6-22e0-4c32-8767-8adf39b6927d",
   "metadata": {},
   "outputs": [],
   "source": [
    "fig, axes = plt.subplots(2,3, figsize=(20, 12))\n",
    "plot_roc(axes[0][0], labels2,mi2,\"mi/ood\")\n",
    "plot_pr(axes[0][1],labels2,random_pred2,\"random/ood\")\n",
    "plot_pr(axes[0][2],labels2,mi2,\"mi/ood\")\n",
    "plot_roc(axes[1][0], labels2,ent2,\"entropy/ood\")\n",
    "plot_pr(axes[1][1],labels2,random_pred2,\"random/ood\")\n",
    "plot_pr(axes[1][2],labels2,ent2,\"entropy/ood\")\n",
    "plt.tight_layout()"
   ]
  },
  {
   "cell_type": "markdown",
   "id": "de7e6346-fbf8-4361-9be7-0af11ae70696",
   "metadata": {
    "execution": {
     "iopub.execute_input": "2023-11-27T06:55:34.560744Z",
     "iopub.status.busy": "2023-11-27T06:55:34.560301Z"
    }
   },
   "source": [
    "#### advasarial attack"
   ]
  },
  {
   "cell_type": "code",
   "execution_count": null,
   "id": "028a55d4-486d-4dd0-a722-c090ccf3d084",
   "metadata": {},
   "outputs": [],
   "source": [
    "_, val_dataset = get_dataset(\"cifar10\",\"../data\",None,val_transform)\n",
    "val_loader = torch.utils.data.DataLoader(\n",
    "    val_dataset, batch_size=1, shuffle=False,\n",
    "    num_workers=4, pin_memory=True)"
   ]
  },
  {
   "cell_type": "code",
   "execution_count": null,
   "id": "b1c1e6a8-5775-4c15-86b3-5869e82133da",
   "metadata": {},
   "outputs": [],
   "source": [
    "adv_probs_list = []\n",
    "origin_probs_list = []\n",
    "method = \"pgd\"\n",
    "epsilon = 0.01\n",
    "correct = 0\n",
    "err = 0\n",
    "num_correct=0\n",
    "num_monte_carlo = 20\n",
    "for images, targets in tqdm(val_loader):\n",
    "    images, targets = images.to(device), targets.to(device)\n",
    "    origin_outputs = []\n",
    "    for _ in range(num_monte_carlo):  # add mc_dropout\n",
    "        prob = torch.softmax(model(images), axis=1)\n",
    "        origin_outputs.append(prob)\n",
    "    origin_outputs = torch.stack(origin_outputs, dim=0)\n",
    "    origin_prob_mean = torch.mean(origin_outputs, dim=0)\n",
    "    _, origin_pred = torch.max(origin_prob_mean,axis=1)\n",
    "    # num_correct += (origin_pred == targets).sum().item()\n",
    "    if origin_pred.item() != targets.item():\n",
    "        err += 1\n",
    "        continue\n",
    "\n",
    "    if method == \"fgsm\":\n",
    "        perturbed_images = fgsm_attack(model, images, targets, epsilon)\n",
    "    elif method == \"pgd\":\n",
    "        perturbed_images = pgd_attack(model, images, targets, epsilon)\n",
    "\n",
    "    adv_outputs = []\n",
    "    for _ in range(num_monte_carlo):  # add mc_dropout\n",
    "        prob = torch.softmax(model(perturbed_images), axis=1)\n",
    "        adv_outputs.append(prob)\n",
    "    adv_outputs = torch.stack(adv_outputs, dim=0)\n",
    "    adv_prob_mean = torch.mean(adv_outputs, dim=0)\n",
    "    _, adv_pred = adv_prob_mean.max(1, keepdim=True)\n",
    "    adv_probs_list.append(adv_outputs.cpu().detach().numpy())\n",
    "    origin_probs_list.append(origin_outputs.cpu().detach().numpy())\n",
    "\n",
    "    if adv_pred.item() == targets.item():\n",
    "        correct += 1\n",
    "\n",
    "adv_acc = correct/float(len(val_loader)-err)\n",
    "print(\n",
    "    f\"Epsilon: {epsilon}\\tTest Accuracy = {correct} / {len(val_loader)} = {adv_acc}\\tIgnore err = {err}\")"
   ]
  },
  {
   "cell_type": "code",
   "execution_count": null,
   "id": "48e077ee-3b41-41f9-9ee9-06dc7678df29",
   "metadata": {},
   "outputs": [],
   "source": [
    "adv_probs = np.concatenate(adv_probs_list,axis=1).transpose(1,0,2)\n",
    "origin_probs = np.concatenate(origin_probs_list,axis=1).transpose(1,0,2)\n",
    "print(adv_probs.shape,origin_probs.shape)"
   ]
  },
  {
   "cell_type": "code",
   "execution_count": null,
   "id": "b018d7f9-e312-47b7-bc41-7343dad1000c",
   "metadata": {},
   "outputs": [],
   "source": [
    "mi_list = []\n",
    "for i, probs in enumerate([origin_probs,adv_probs]):\n",
    "    mi_list.append(mutual_info(probs))"
   ]
  },
  {
   "cell_type": "code",
   "execution_count": null,
   "id": "d6ff1878-1e10-4f0f-a125-f08fd5c7da66",
   "metadata": {},
   "outputs": [],
   "source": [
    "print(mi_list[0])\n",
    "print(mi_list[1])"
   ]
  },
  {
   "cell_type": "code",
   "execution_count": null,
   "id": "026a7a82-a7d4-436e-8cf4-660a1860c3c3",
   "metadata": {},
   "outputs": [],
   "source": [
    "ent_list = []\n",
    "for i, probs in enumerate([origin_probs,adv_probs]):\n",
    "    ent = predictive_entropy(probs)\n",
    "    ent_list.append(ent)"
   ]
  },
  {
   "cell_type": "code",
   "execution_count": null,
   "id": "f0509722-cc57-4e83-85e9-e0bef48d0948",
   "metadata": {},
   "outputs": [],
   "source": [
    "fig, axes = plt.subplots(1,2, figsize=(13, 6))\n",
    "plot_dist(axes[0],mi_list,[\"original\",\"advasarial\"],\"mi\")\n",
    "plot_dist(axes[1], ent_list,[\"original\",\"advasarial\"],\"entropy\")\n",
    "plt.tight_layout()"
   ]
  },
  {
   "cell_type": "code",
   "execution_count": null,
   "id": "cf468838-3ff6-4578-a8e4-d418cbe58827",
   "metadata": {},
   "outputs": [],
   "source": [
    "#原始样本视为正样本， 攻击样本视为负样本\n",
    "labels = [1]*len(mi_list[0])+[0]*len(mi_list[1])\n",
    "mi = np.concatenate([mi_list[0],mi_list[1]])*-1\n",
    "ent = np.concatenate([ent_list[0],ent_list[1]])*-1\n",
    "random_pred = np.random.rand(len(labels))*-1"
   ]
  },
  {
   "cell_type": "code",
   "execution_count": null,
   "id": "0f90600d-13a8-48e0-83f1-6173851f2f8e",
   "metadata": {},
   "outputs": [],
   "source": [
    "fig, axes = plt.subplots(2,3, figsize=(20, 12))\n",
    "plot_roc(axes[0][0], labels,mi,\"mi/origin\")\n",
    "plot_pr(axes[0][1],labels,random_pred,\"random/origin\")\n",
    "plot_pr(axes[0][2],labels,mi,\"mi/origin\")\n",
    "plot_roc(axes[1][0], labels,ent,\"entropy/origin\")\n",
    "plot_pr(axes[1][1],labels,random_pred,\"random/origin\")\n",
    "plot_pr(axes[1][2],labels,ent,\"entropy/origin\")\n",
    "plt.tight_layout()"
   ]
  },
  {
   "cell_type": "code",
   "execution_count": null,
   "id": "517b72f5-a9c5-48bc-8ad1-8d4928a6260c",
   "metadata": {},
   "outputs": [],
   "source": [
    "#原始样本视为正样本， 攻击样本视为负样本\n",
    "labels2 = [0]*len(mi_list[0])+[1]*len(mi_list[1])\n",
    "mi2 =  -mi\n",
    "ent2 = -ent\n",
    "random_pred2 = -random_pred"
   ]
  },
  {
   "cell_type": "code",
   "execution_count": null,
   "id": "fbdb0af2-842b-4119-aae6-1ef6bd8fe137",
   "metadata": {},
   "outputs": [],
   "source": [
    "fig, axes = plt.subplots(2,3, figsize=(20, 12))\n",
    "plot_roc(axes[0][0], labels2,mi2,\"mi/adv\")\n",
    "plot_pr(axes[0][1],labels2,random_pred2,\"random/adv\")\n",
    "plot_pr(axes[0][2],labels2,mi2,\"mi/adv\")\n",
    "plot_roc(axes[1][0], labels2,ent2,\"entropy/adv\")\n",
    "plot_pr(axes[1][1],labels2,random_pred2,\"random/adv\")\n",
    "plot_pr(axes[1][2],labels2,ent2,\"entropy/adv\")\n",
    "plt.tight_layout()"
   ]
  },
  {
   "cell_type": "code",
   "execution_count": null,
   "id": "c6da729a-bf0a-4427-95b8-1301f6653f66",
   "metadata": {},
   "outputs": [],
   "source": []
  },
  {
   "cell_type": "code",
   "execution_count": null,
   "id": "ca10d2c8-2bc1-4c4c-b65b-dc6629526da5",
   "metadata": {},
   "outputs": [],
   "source": []
  }
 ],
 "metadata": {
  "kernelspec": {
   "display_name": "Python 3 (ipykernel)",
   "language": "python",
   "name": "python3"
  },
  "language_info": {
   "codemirror_mode": {
    "name": "ipython",
    "version": 3
   },
   "file_extension": ".py",
   "mimetype": "text/x-python",
   "name": "python",
   "nbconvert_exporter": "python",
   "pygments_lexer": "ipython3",
   "version": "3.8.18"
  }
 },
 "nbformat": 4,
 "nbformat_minor": 5
}
