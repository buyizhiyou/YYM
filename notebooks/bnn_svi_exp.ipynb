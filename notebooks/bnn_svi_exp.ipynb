{
 "cells": [
  {
   "cell_type": "markdown",
   "id": "7633034c-c066-497b-a5ce-a9f6cd810c88",
   "metadata": {
    "execution": {
     "iopub.execute_input": "2023-08-29T07:13:08.141794Z",
     "iopub.status.busy": "2023-08-29T07:13:08.141440Z",
     "iopub.status.idle": "2023-08-29T07:13:08.144991Z",
     "shell.execute_reply": "2023-08-29T07:13:08.144420Z",
     "shell.execute_reply.started": "2023-08-29T07:13:08.141767Z"
    }
   },
   "source": [
    "### Import and Load model"
   ]
  },
  {
   "cell_type": "code",
   "execution_count": 2,
   "id": "60d4f75b-da13-4969-bf2a-ed8230f6687b",
   "metadata": {
    "execution": {
     "iopub.execute_input": "2023-11-29T13:43:54.385352Z",
     "iopub.status.busy": "2023-11-29T13:43:54.384571Z",
     "iopub.status.idle": "2023-11-29T13:43:54.392500Z",
     "shell.execute_reply": "2023-11-29T13:43:54.391882Z",
     "shell.execute_reply.started": "2023-11-29T13:43:54.385321Z"
    },
    "tags": []
   },
   "outputs": [],
   "source": [
    "import time\n",
    "import sys\n",
    "sys.path.append(\"../\")\n",
    "from matplotlib import pyplot as plt\n",
    "import seaborn as sns\n",
    "import pandas as pd\n",
    "import numpy as np \n",
    "from scipy.stats import entropy\n",
    "from tqdm import tqdm\n",
    "\n",
    "import torch\n",
    "from torch import nn\n",
    "import torchvision.models as models\n",
    "import torchvision.transforms as transforms\n",
    "import torchvision.datasets as datasets\n",
    "from torchsummary import summary\n",
    "from sklearn.metrics import roc_auc_score\n",
    "from sklearn import metrics\n",
    "from bayesian_torch.models.dnn_to_bnn import dnn_to_bnn\n",
    "\n",
    "from utils.plots import plot_pr,plot_roc, plot_dist, plot_violin\n",
    "from utils.metircs import accuracy,mutual_info,nll, ece,predictive_entropy\n",
    "from utils.visual import ProgressMeter, AverageMeter, Summary\n",
    "from data_utils.get_datasets import get_dataset\n",
    "from model_utils.get_models import get_model\n",
    "from uncertainty.mc_dropout import mc_dropout_predict\n",
    "from uncertainty.test_time_aug import test_time_aug_predict\n",
    "from uncertainty.deep_ensemble import deep_ensembel_predict,EnsembleModel\n",
    "from uncertainty.baseline_softmax import baseline_softmax_predict\n",
    "from uncertainty.bnn_svi import bnn_svi_predict\n",
    "from adversarial.adversarial_attack import fgsm_attack, pgd_attack"
   ]
  },
  {
   "cell_type": "code",
   "execution_count": 3,
   "id": "6bb6bfc5-c612-43c4-9ce9-e380b16c0f06",
   "metadata": {
    "execution": {
     "iopub.execute_input": "2023-11-29T13:43:54.393647Z",
     "iopub.status.busy": "2023-11-29T13:43:54.393345Z",
     "iopub.status.idle": "2023-11-29T13:44:08.836104Z",
     "shell.execute_reply": "2023-11-29T13:44:08.835339Z",
     "shell.execute_reply.started": "2023-11-29T13:43:54.393624Z"
    }
   },
   "outputs": [
    {
     "name": "stdout",
     "output_type": "stream",
     "text": [
      "use private models...\n"
     ]
    },
    {
     "data": {
      "text/plain": [
       "<All keys matched successfully>"
      ]
     },
     "execution_count": 3,
     "metadata": {},
     "output_type": "execute_result"
    }
   ],
   "source": [
    "datanames = [\"cifar10\",\"mnist\",\"fashionmnist\",\"svhn\"]\n",
    "model = get_model(\"vgg16\", 10)\n",
    "const_bnn_prior_parameters = {\n",
    "    \"prior_mu\": 0.0,\n",
    "    \"prior_sigma\": 1.0,\n",
    "    \"posterior_mu_init\": 0.0,\n",
    "    \"posterior_rho_init\": -3.0,\n",
    "    \"type\":  \"Reparameterization\",## Flipout or Reparameterization\n",
    "    \"moped_enable\": \"\",  # initialize mu/sigma from the dnn weights\n",
    "    \"moped_delta\": 0.5,\n",
    "}\n",
    "device = torch.device('cuda:0')\n",
    "dnn_to_bnn(model, const_bnn_prior_parameters)\n",
    "model = model.to(device)\n",
    "model.eval()\n",
    "checkpoint = torch.load(\"../saved_models/bayesian/vgg16/2023_11_28_21_33_05/vgg16_best_model_92.31.pth\",map_location=device)\n",
    "model.load_state_dict(checkpoint['state_dict'])"
   ]
  },
  {
   "cell_type": "code",
   "execution_count": 4,
   "id": "2d270b64-7dd2-4c4f-9f2a-a078f1c37d2c",
   "metadata": {
    "execution": {
     "iopub.execute_input": "2023-11-29T13:44:08.837553Z",
     "iopub.status.busy": "2023-11-29T13:44:08.837247Z",
     "iopub.status.idle": "2023-11-29T13:44:08.840462Z",
     "shell.execute_reply": "2023-11-29T13:44:08.839951Z",
     "shell.execute_reply.started": "2023-11-29T13:44:08.837527Z"
    }
   },
   "outputs": [],
   "source": [
    "# summary(model,(3,32,32))\n",
    "# print(model)"
   ]
  },
  {
   "cell_type": "code",
   "execution_count": 5,
   "id": "17d51c79-1d8b-46d2-8a0b-0eb06c5abd8e",
   "metadata": {
    "execution": {
     "iopub.execute_input": "2023-11-29T13:44:08.842527Z",
     "iopub.status.busy": "2023-11-29T13:44:08.842114Z",
     "iopub.status.idle": "2023-11-29T13:44:10.701407Z",
     "shell.execute_reply": "2023-11-29T13:44:10.700260Z",
     "shell.execute_reply.started": "2023-11-29T13:44:08.842505Z"
    }
   },
   "outputs": [
    {
     "name": "stdout",
     "output_type": "stream",
     "text": [
      "torch.return_types.max(\n",
      "values=tensor([0.4156, 0.5915, 0.7408, 0.9245, 0.4962, 0.8783, 0.5142, 0.6998, 0.7760,\n",
      "        0.7312, 0.7220, 0.6941, 0.7307, 0.4772, 0.5773, 0.6844, 0.7407, 0.7431,\n",
      "        0.4427, 0.5733, 0.5509, 0.8667, 0.7367, 0.4730, 0.5352, 0.5955, 0.7185,\n",
      "        0.8187, 0.6764, 0.5592, 0.7979, 0.5654, 0.8707, 0.4014, 0.4847, 0.7766,\n",
      "        0.7087, 0.6925, 0.7018, 0.6285, 0.4790, 0.8056, 0.7672, 0.8861, 0.5037,\n",
      "        0.4441, 0.6716, 0.3626, 0.9086, 0.4482, 0.5696, 0.6920, 0.5640, 0.5631,\n",
      "        0.5509, 0.5653, 0.6982, 0.7559, 0.6781, 0.7524, 0.5209, 0.3610, 0.6003,\n",
      "        0.8032], device='cuda:0', grad_fn=<MaxBackward0>),\n",
      "indices=tensor([6, 6, 6, 6, 6, 6, 6, 6, 6, 6, 6, 6, 6, 6, 2, 6, 6, 6, 6, 6, 6, 6, 6, 2,\n",
      "        6, 6, 6, 6, 6, 6, 6, 4, 6, 4, 2, 6, 6, 6, 6, 2, 6, 6, 6, 6, 2, 2, 6, 2,\n",
      "        6, 2, 6, 2, 6, 6, 6, 6, 6, 6, 6, 6, 6, 4, 6, 6], device='cuda:0'))\n"
     ]
    }
   ],
   "source": [
    "#random Gaussian noise fed into an image classifier gives a “prediction confidence” or predicted class probability of 91%\n",
    "noise = torch.randn(64,3,32,32).to(device)\n",
    "prob = torch.softmax(model(noise), axis=1)\n",
    "print(torch.max(prob,axis=1))"
   ]
  },
  {
   "cell_type": "code",
   "execution_count": 6,
   "id": "8691bd49-5b3f-4501-913c-a0af269b6013",
   "metadata": {
    "execution": {
     "iopub.execute_input": "2023-11-29T13:44:10.703208Z",
     "iopub.status.busy": "2023-11-29T13:44:10.702808Z",
     "iopub.status.idle": "2023-11-29T13:44:12.983837Z",
     "shell.execute_reply": "2023-11-29T13:44:12.983026Z",
     "shell.execute_reply.started": "2023-11-29T13:44:10.703178Z"
    }
   },
   "outputs": [],
   "source": [
    "%reload_ext autoreload\n",
    "%autoreload 2"
   ]
  },
  {
   "cell_type": "markdown",
   "id": "b66963b2-e151-49a7-b759-386dd8c3793b",
   "metadata": {
    "execution": {
     "iopub.execute_input": "2023-11-09T03:56:00.712136Z",
     "iopub.status.busy": "2023-11-09T03:56:00.711578Z"
    }
   },
   "source": [
    "### BNN SVI"
   ]
  },
  {
   "cell_type": "code",
   "execution_count": null,
   "id": "6e7a0256-bacf-41f7-a2f0-661763956f2d",
   "metadata": {
    "execution": {
     "iopub.execute_input": "2023-11-29T13:44:12.985329Z",
     "iopub.status.busy": "2023-11-29T13:44:12.984945Z"
    }
   },
   "outputs": [
    {
     "name": "stdout",
     "output_type": "stream",
     "text": [
      " * Time 0.353 Acc@1 91.940\n"
     ]
    }
   ],
   "source": [
    "datanames = [\"cifar10\",\"mnist\", \"fashionmnist\",\"svhn\"]\n",
    "probs_list = []\n",
    "targets_list = []\n",
    "for dataname in datanames:\n",
    "    val_transform = transforms.Compose(\n",
    "    [\n",
    "        transforms.Resize((32, 32)),\n",
    "        transforms.ToTensor(),\n",
    "        transforms.Normalize(\n",
    "                (0.4914, 0.4822, 0.4465),\n",
    "                (0.2023, 0.1994, 0.2010))\n",
    "    ]\n",
    "    )\n",
    "    if dataname==\"mnist\" or dataname==\"fashionmnist\":\n",
    "        val_transform.transforms.insert(2,transforms.Lambda(lambda x:x.repeat(3,1,1)))\n",
    "    _, val_dataset = get_dataset(dataname,\"../data\",None,val_transform)\n",
    "    val_loader = torch.utils.data.DataLoader(\n",
    "        val_dataset, batch_size=128, shuffle=False,\n",
    "        num_workers=4, pin_memory=True)\n",
    "\n",
    "    probs, targets = bnn_svi_predict(val_loader, model, device, 20)\n",
    "    probs_list.append(probs.cpu().detach().numpy())\n",
    "    targets_list.append(targets.cpu().detach().numpy())"
   ]
  },
  {
   "cell_type": "markdown",
   "id": "653cad32-e9be-4bb3-af47-f3ddf72b8162",
   "metadata": {},
   "source": [
    "#### misclassified"
   ]
  },
  {
   "cell_type": "code",
   "execution_count": null,
   "id": "756ed0ea-8b50-49a8-825a-0bcb6128a248",
   "metadata": {},
   "outputs": [],
   "source": [
    "print(probs_list[0].shape)"
   ]
  },
  {
   "cell_type": "code",
   "execution_count": null,
   "id": "082faac6-08e8-4afb-a32b-d02977a6d2f8",
   "metadata": {},
   "outputs": [],
   "source": [
    "cifar10_mi =  mutual_info(probs_list[0])*-1\n",
    "cifar10_probs = np.mean(probs_list[0],axis=1)\n",
    "cifar10_target = targets_list[0]"
   ]
  },
  {
   "cell_type": "code",
   "execution_count": null,
   "id": "06a43fad-7a7c-4604-a379-2feecaef95b3",
   "metadata": {},
   "outputs": [],
   "source": [
    "cifar10_pred = np.argmax(cifar10_probs,axis=1)\n",
    "labels = (cifar10_pred == cifar10_target).astype(int)#正确分类标为1，误分类标为0\n",
    "random_pred = np.random.rand(labels.shape[0])"
   ]
  },
  {
   "cell_type": "code",
   "execution_count": null,
   "id": "28b07f14-8112-4d0d-8fc8-c96faa0d3cf6",
   "metadata": {},
   "outputs": [],
   "source": [
    "succ_mi_mean = cifar10_mi[labels==1].mean()\n",
    "err_mi_mean = cifar10_mi[labels==0].mean()\n",
    "print(f\"正确分类样本数{labels.sum()},平均MI:{succ_mi_mean:.3f}\\n错误分类样本数{(1-labels).sum()},平均MI:{err_mi_mean:.3f}\")"
   ]
  },
  {
   "cell_type": "code",
   "execution_count": null,
   "id": "88580caa-da29-4e80-aa22-a4dd9a361b37",
   "metadata": {},
   "outputs": [],
   "source": [
    "cifar10_ent = predictive_entropy(probs_list[0])*-1\n",
    "succ_ent_mean = cifar10_ent[labels==1].mean()\n",
    "err_ent_mean = cifar10_ent[labels==0].mean()\n",
    "print(f\"正确分类样本数{labels.sum()},平均AU:{succ_ent_mean:.3f}\\n错误分类样本数{(1-labels).sum()},平均AU:{err_ent_mean:.3f}\")"
   ]
  },
  {
   "cell_type": "code",
   "execution_count": null,
   "id": "02bccdf1-791c-4c1d-8c6a-d3cfa1f1a341",
   "metadata": {},
   "outputs": [],
   "source": [
    "fig, axes = plt.subplots(2,3, figsize=(20, 12))\n",
    "plot_roc(axes[0][0], labels,cifar10_mi,\"mi/succ\")\n",
    "plot_pr(axes[0][1],labels,random_pred,\"random/succ\")\n",
    "plot_pr(axes[0][2],labels,cifar10_mi,\"mi/succ\")\n",
    "plot_roc(axes[1][0], labels,cifar10_ent,\"entropy/succ\")\n",
    "plot_pr(axes[1][1],labels,random_pred,\"random/succ\")\n",
    "plot_pr(axes[1][2],labels,cifar10_ent,\"entropy/succ\")\n",
    "plt.tight_layout()"
   ]
  },
  {
   "cell_type": "code",
   "execution_count": null,
   "id": "95ce437b-69a0-4092-8092-57319509a0df",
   "metadata": {},
   "outputs": [],
   "source": [
    "labels2 = (cifar10_pred != cifar10_target).astype(int)#误分类标为1，正确分类标为0\n",
    "cifar10_mi2 = -cifar10_mi\n",
    "random_pred2 = -random_pred\n",
    "cifar10_ent2 = -cifar10_ent "
   ]
  },
  {
   "cell_type": "code",
   "execution_count": null,
   "id": "a542296c-36c3-4961-ac08-e280864d662c",
   "metadata": {},
   "outputs": [],
   "source": [
    "fig, axes = plt.subplots(2,3, figsize=(20, 12))\n",
    "plot_roc(axes[0][0], labels2,cifar10_mi2,\"mi/err\")\n",
    "plot_pr(axes[0][1],labels2,random_pred2,\"random/err\")\n",
    "plot_pr(axes[0][2],labels2,cifar10_mi2,\"mi/err\")\n",
    "plot_roc(axes[1][0], labels2,cifar10_ent2,\"entropy/err\")\n",
    "plot_pr(axes[1][1],labels2,random_pred2,\"random/err\")\n",
    "plot_pr(axes[1][2],labels2,cifar10_ent2,\"entropy/err\")\n",
    "plt.tight_layout()"
   ]
  },
  {
   "cell_type": "markdown",
   "id": "7db56f71-65e8-4b64-87c6-7535e9d1a35b",
   "metadata": {},
   "source": [
    "#### OOD"
   ]
  },
  {
   "cell_type": "code",
   "execution_count": null,
   "id": "d53859aa-a0a9-4e06-a3c8-9bbca3b555df",
   "metadata": {},
   "outputs": [],
   "source": [
    "mi_list = []\n",
    "for i, probs in enumerate(probs_list):\n",
    "    mi = mutual_info(probs)\n",
    "    mi_list.append(mi)"
   ]
  },
  {
   "cell_type": "code",
   "execution_count": null,
   "id": "b3d580ee-3566-4cec-9b55-8cb63f213530",
   "metadata": {},
   "outputs": [],
   "source": [
    "ent_list = []\n",
    "for i, probs in enumerate(probs_list):\n",
    "    ent = predictive_entropy(probs)\n",
    "    ent_list.append(ent)"
   ]
  },
  {
   "cell_type": "code",
   "execution_count": null,
   "id": "abafb5d2-3f05-40ab-a1b6-a23a198b53aa",
   "metadata": {},
   "outputs": [],
   "source": [
    "#绘制mi,熵的分布\n",
    "fig, axes = plt.subplots(1,2, figsize=(13, 6))\n",
    "plot_dist(axes[0],mi_list,datanames,\"mi\")\n",
    "plot_dist(axes[1], ent_list,datanames,\"entropy\")\n",
    "plt.tight_layout()"
   ]
  },
  {
   "cell_type": "code",
   "execution_count": null,
   "id": "e18d388a-8bbc-4e04-b147-865d5d03749e",
   "metadata": {},
   "outputs": [],
   "source": [
    "#绘制小提琴图\n",
    "fig, axes = plt.subplots(1,4, figsize=(25, 6))\n",
    "plot_violin(axes,mi_list,datanames,\"mi\")\n",
    "fig, axes = plt.subplots(1,4, figsize=(25, 6))\n",
    "plot_violin(axes, ent_list,datanames,\"entropy\")\n",
    "plt.tight_layout()"
   ]
  },
  {
   "cell_type": "code",
   "execution_count": null,
   "id": "2f539b6f-d1c4-4500-861b-c19b2979b2c2",
   "metadata": {},
   "outputs": [],
   "source": [
    "#IND样本视为正样本， mnist样本视为负样本\n",
    "ood_idx=1\n",
    "print(f\"cifar10 test nums:{len(mi_list[0])},mnist test nums:{len(mi_list[1])}\")\n",
    "labels = [1]*len(mi_list[0])+[0]*len(mi_list[ood_idx])\n",
    "mi = np.concatenate([mi_list[0],mi_list[ood_idx]])*-1\n",
    "ent = np.concatenate([ent_list[0],ent_list[ood_idx]])*-1\n",
    "random_pred = np.random.rand(len(labels))*-1"
   ]
  },
  {
   "cell_type": "code",
   "execution_count": null,
   "id": "3991a3c2-f099-4cd5-8d0f-59d552224f54",
   "metadata": {},
   "outputs": [],
   "source": [
    "fig, axes = plt.subplots(2,3, figsize=(20, 12))\n",
    "plot_roc(axes[0][0], labels,mi,\"mi/ind\")\n",
    "plot_pr(axes[0][1],labels,random_pred,\"random/ind\")\n",
    "plot_pr(axes[0][2],labels,mi,\"mi/ind\")\n",
    "plot_roc(axes[1][0], labels,ent,\"entropy/ind\")\n",
    "plot_pr(axes[1][1],labels,random_pred,\"random/ind\")\n",
    "plot_pr(axes[1][2],labels,ent,\"entropy/ind\")\n",
    "plt.tight_layout()"
   ]
  },
  {
   "cell_type": "code",
   "execution_count": null,
   "id": "a0b742d7-ecab-4636-b91e-f81a975cada8",
   "metadata": {},
   "outputs": [],
   "source": [
    "#IND样本视为负样本， mnist样本视为正样本\n",
    "labels2 = [0]*len(mi_list[0])+[1]*len(mi_list[1])\n",
    "mi2 =  -mi\n",
    "ent2 = -ent\n",
    "random_pred2 = -random_pred"
   ]
  },
  {
   "cell_type": "code",
   "execution_count": null,
   "id": "32f55610-e059-4f6c-87f3-1c623e02155b",
   "metadata": {},
   "outputs": [],
   "source": [
    "fig, axes = plt.subplots(2,3, figsize=(20, 12))\n",
    "plot_roc(axes[0][0], labels2,mi2,\"mi/ood\")\n",
    "plot_pr(axes[0][1],labels2,random_pred2,\"random/ood\")\n",
    "plot_pr(axes[0][2],labels2,mi2,\"mi/ood\")\n",
    "plot_roc(axes[1][0], labels2,ent2,\"entropy/ood\")\n",
    "plot_pr(axes[1][1],labels2,random_pred2,\"random/ood\")\n",
    "plot_pr(axes[1][2],labels2,ent2,\"entropy/ood\")\n",
    "plt.tight_layout()"
   ]
  },
  {
   "cell_type": "markdown",
   "id": "de7e6346-fbf8-4361-9be7-0af11ae70696",
   "metadata": {
    "execution": {
     "iopub.execute_input": "2023-11-27T06:55:34.560744Z",
     "iopub.status.busy": "2023-11-27T06:55:34.560301Z"
    }
   },
   "source": [
    "#### advasarial attack"
   ]
  },
  {
   "cell_type": "code",
   "execution_count": null,
   "id": "028a55d4-486d-4dd0-a722-c090ccf3d084",
   "metadata": {},
   "outputs": [],
   "source": [
    "_, val_dataset = get_dataset(\"cifar10\",\"../data\",None,val_transform)\n",
    "val_loader = torch.utils.data.DataLoader(\n",
    "    val_dataset, batch_size=1, shuffle=False,\n",
    "    num_workers=4, pin_memory=True)"
   ]
  },
  {
   "cell_type": "code",
   "execution_count": null,
   "id": "b1c1e6a8-5775-4c15-86b3-5869e82133da",
   "metadata": {},
   "outputs": [],
   "source": [
    "adv_probs_list = []\n",
    "origin_probs_list = []\n",
    "method = \"pgd\"\n",
    "epsilon = 0.01\n",
    "correct = 0\n",
    "err = 0\n",
    "num_correct=0\n",
    "num_monte_carlo = 20\n",
    "for images, targets in tqdm(val_loader):\n",
    "    images, targets = images.to(device), targets.to(device)\n",
    "    origin_outputs = []\n",
    "    for _ in range(num_monte_carlo):# add bnn_svi\n",
    "        prob  = torch.softmax(model.forward(images),dim=1)#输出的概率\n",
    "        origin_outputs.append(prob)\n",
    "    origin_outputs = torch.stack(origin_outputs, dim=0)\n",
    "    origin_prob_mean = torch.mean(origin_outputs, dim=0)\n",
    "    _, origin_pred = torch.max(origin_prob_mean,axis=1)\n",
    "    # num_correct += (origin_pred == targets).sum().item()\n",
    "    if origin_pred.item() != targets.item():\n",
    "        err += 1\n",
    "        continue\n",
    "\n",
    "    if method == \"fgsm\":\n",
    "        perturbed_images = fgsm_attack(model, images, targets, epsilon)\n",
    "    elif method == \"pgd\":\n",
    "        perturbed_images = pgd_attack(model, images, targets, epsilon)\n",
    "\n",
    "    adv_outputs = []\n",
    "    for _ in range(num_monte_carlo):# add bnn_svi\n",
    "        prob  = torch.softmax(model.forward(images),dim=1)#输出的概率\n",
    "        adv_outputs.append(prob)\n",
    "    adv_outputs = torch.stack(adv_outputs, dim=0)\n",
    "    adv_prob_mean = torch.mean(adv_outputs, dim=0)\n",
    "    _, adv_pred = adv_prob_mean.max(1, keepdim=True)\n",
    "    adv_probs_list.append(adv_outputs.cpu().detach().numpy())\n",
    "    origin_probs_list.append(origin_outputs.cpu().detach().numpy())\n",
    "\n",
    "    if adv_pred.item() == targets.item():\n",
    "        correct += 1\n",
    "\n",
    "adv_acc = correct/float(len(val_loader)-err)\n",
    "print(\n",
    "    f\"Epsilon: {epsilon}\\tTest Accuracy = {correct} / {len(val_loader)} = {adv_acc}\\tIgnore err = {err}\")"
   ]
  },
  {
   "cell_type": "code",
   "execution_count": null,
   "id": "6003836f-f2d7-42d7-bcb3-a294f2854bb6",
   "metadata": {},
   "outputs": [],
   "source": [
    "adv_probs = np.concatenate(adv_probs_list,axis=1).transpose(1,0,2)\n",
    "origin_probs = np.concatenate(origin_probs_list,axis=1).transpose(1,0,2)\n",
    "print(adv_probs.shape,origin_probs.shape)"
   ]
  },
  {
   "cell_type": "code",
   "execution_count": null,
   "id": "c11a062c-485f-4e89-9c3c-0075bdfcc59a",
   "metadata": {},
   "outputs": [],
   "source": [
    "mi_list = []\n",
    "for i, probs in enumerate([origin_probs,adv_probs]):\n",
    "    mi_list.append(mutual_info(probs))"
   ]
  },
  {
   "cell_type": "code",
   "execution_count": null,
   "id": "e2a0ddbf-cde3-4d1e-b64a-4795d7956e62",
   "metadata": {},
   "outputs": [],
   "source": [
    "ent_list = []\n",
    "for i, probs in enumerate([origin_probs,adv_probs]):\n",
    "    ent = predictive_entropy(probs)\n",
    "    ent_list.append(ent)"
   ]
  },
  {
   "cell_type": "code",
   "execution_count": null,
   "id": "91649d6f-34f8-4c0b-8ed0-acb7ec3ffe10",
   "metadata": {},
   "outputs": [],
   "source": [
    "fig, axes = plt.subplots(1,2, figsize=(13, 6))\n",
    "plot_dist(axes[0],mi_list,[\"original\",\"advasarial\"],\"mi\")\n",
    "plot_dist(axes[1], ent_list,[\"original\",\"advasarial\"],\"entropy\")\n",
    "plt.tight_layout()"
   ]
  },
  {
   "cell_type": "code",
   "execution_count": null,
   "id": "0e56eee1-7bc7-4d79-ab32-0f98a86002d4",
   "metadata": {},
   "outputs": [],
   "source": [
    "#原始样本视为正样本， 攻击样本视为负样本\n",
    "labels = [1]*len(mi_list[0])+[0]*len(mi_list[1])\n",
    "mi = np.concatenate([mi_list[0],mi_list[1]])*-1\n",
    "ent = np.concatenate([ent_list[0],ent_list[1]])*-1\n",
    "random_pred = np.random.rand(len(labels))*-1"
   ]
  },
  {
   "cell_type": "code",
   "execution_count": null,
   "id": "08aac218-f71b-4e43-b304-7399142cba53",
   "metadata": {},
   "outputs": [],
   "source": [
    "fig, axes = plt.subplots(2,3, figsize=(20, 12))\n",
    "plot_roc(axes[0][0], labels,mi,\"mi/origin\")\n",
    "plot_pr(axes[0][1],labels,random_pred,\"random/origin\")\n",
    "plot_pr(axes[0][2],labels,mi,\"mi/origin\")\n",
    "plot_roc(axes[1][0], labels,ent,\"entropy/origin\")\n",
    "plot_pr(axes[1][1],labels,random_pred,\"random/origin\")\n",
    "plot_pr(axes[1][2],labels,ent,\"entropy/origin\")\n",
    "plt.tight_layout()"
   ]
  },
  {
   "cell_type": "code",
   "execution_count": null,
   "id": "0df28c1b-79c3-47cd-8314-ecb25d308c52",
   "metadata": {},
   "outputs": [],
   "source": [
    "#原始样本视为正样本， 攻击样本视为负样本\n",
    "labels2 = [0]*len(mi_list[0])+[1]*len(mi_list[1])\n",
    "mi2 =  -mi\n",
    "ent2 = -ent\n",
    "random_pred2 = -random_pred"
   ]
  },
  {
   "cell_type": "code",
   "execution_count": null,
   "id": "bf8fdab3-535b-4510-8c16-cad67f5fd404",
   "metadata": {},
   "outputs": [],
   "source": [
    "fig, axes = plt.subplots(2,3, figsize=(20, 12))\n",
    "plot_roc(axes[0][0], labels2,mi2,\"mi/adv\")\n",
    "plot_pr(axes[0][1],labels2,random_pred2,\"random/adv\")\n",
    "plot_pr(axes[0][2],labels2,mi2,\"mi/adv\")\n",
    "plot_roc(axes[1][0], labels2,ent2,\"entropy/adv\")\n",
    "plot_pr(axes[1][1],labels2,random_pred2,\"random/adv\")\n",
    "plot_pr(axes[1][2],labels2,ent2,\"entropy/adv\")\n",
    "plt.tight_layout()"
   ]
  }
 ],
 "metadata": {
  "kernelspec": {
   "display_name": "Python 3 (ipykernel)",
   "language": "python",
   "name": "python3"
  },
  "language_info": {
   "codemirror_mode": {
    "name": "ipython",
    "version": 3
   },
   "file_extension": ".py",
   "mimetype": "text/x-python",
   "name": "python",
   "nbconvert_exporter": "python",
   "pygments_lexer": "ipython3",
   "version": "3.8.18"
  }
 },
 "nbformat": 4,
 "nbformat_minor": 5
}
